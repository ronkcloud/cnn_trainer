{
 "cells": [
  {
   "cell_type": "code",
   "execution_count": 62,
   "id": "53b3d5a6-10bd-4773-a1fd-9ecf719c2093",
   "metadata": {},
   "outputs": [],
   "source": [
    "# Imports\n",
    "import torch\n",
    "import torchvision \n",
    "from torch.utils.data import Dataset \n",
    "from torch.utils.data import random_split \n",
    "import torchvision.transforms as transforms\n",
    "from torch.utils.data import DataLoader\n",
    "\n",
    "import os\n",
    "import numpy as np\n",
    "import pandas as pd\n",
    "import matplotlib.pyplot as plt\n",
    "from sklearn import metrics\n",
    "from PIL import Image\n",
    "import spectral as spec\n",
    "\n",
    "from dataGen import Patches\n",
    "from ResNet.ResNet_3D import ResNet_3D as CNN"
   ]
  },
  {
   "cell_type": "code",
   "execution_count": 63,
   "id": "bccb66fc-7ac7-4282-8948-c447e05f6849",
   "metadata": {},
   "outputs": [
    {
     "data": {
      "text/plain": [
       "1"
      ]
     },
     "execution_count": 63,
     "metadata": {},
     "output_type": "execute_result"
    }
   ],
   "source": [
    "# Set device\n",
    "\n",
    "device = torch.device(\"cuda\" if torch.cuda.is_available() else \"cpu\")\n",
    "torch.cuda.device_count()"
   ]
  },
  {
   "cell_type": "code",
   "execution_count": 64,
   "id": "9e23d207-a12b-46d3-948f-384ad4986d59",
   "metadata": {},
   "outputs": [],
   "source": [
    "# Hyperparameters\n",
    "in_channels = 1\n",
    "num_classes = 3\n",
    "classes = [\"background\", \"leaf\", \"diseased\"]\n",
    "batch_size = 32\n",
    "img_size = 20\n",
    "res_dir = \"F:\\\\Lukas\\\\Project\\\\노균병\\\\code\\\\result\\\\23_3_10 ResNet3D_55_25_28\\\\\"\n",
    "model_dir = res_dir + \"ResNet3D_55_25_28_노균병_best.pt\"\n",
    "train_dir = res_dir + \"train_25_28.csv\"\n",
    "val_dir = res_dir + \"val_25_28.csv\""
   ]
  },
  {
   "cell_type": "code",
   "execution_count": 65,
   "id": "5d9e3d10-2c8a-48dd-a3d2-591604e55359",
   "metadata": {},
   "outputs": [],
   "source": [
    "# Custom image dataset\n",
    "\n",
    "class Img(Dataset):\n",
    "    def __init__(self, img_df, transform=None):\n",
    "        self.img_df = img_df\n",
    "        self.transform = transform\n",
    "\n",
    "    def __len__(self):\n",
    "        return len(self.img_df)\n",
    "\n",
    "    def __getitem__(self, idx):\n",
    "        img_path = self.img_df['path'].iloc[idx]\n",
    "        img = spec.envi.open(img_path)\n",
    "        np_img = np.array(img[:, :, 5:60])\n",
    "        label = self.img_df['class'].iloc[idx]\n",
    "        if self.transform:\n",
    "            image = self.transform(np_img)\n",
    "        else:\n",
    "            image = torch.tensor([np_img])\n",
    "        return image, label"
   ]
  },
  {
   "cell_type": "code",
   "execution_count": 66,
   "id": "f1238a1c-dae9-4c6c-8682-1e33f40c5495",
   "metadata": {},
   "outputs": [],
   "source": [
    "def tensorToImg(tensor, img_size):\n",
    "    img = torch.zeros(img_size, img_size, 1)\n",
    "    for c_y, y in enumerate(tensor[0]):\n",
    "        for c_x, x in enumerate(y):\n",
    "            img[c_y][c_x] = x\n",
    "    return img"
   ]
  },
  {
   "cell_type": "code",
   "execution_count": 67,
   "id": "a61a0dcd-aae7-4f62-8acb-1ea385622a9b",
   "metadata": {},
   "outputs": [],
   "source": [
    "def displayImgs(imgs, labels, img_size, save=False):\n",
    "    fig = plt.figure(figsize=(20,11))\n",
    "    for pos, i in enumerate(imgs[:8]):\n",
    "        img = tensorToImg(i, img_size)\n",
    "        label = \"downy mildew\"\n",
    "        if labels[pos] == 0:\n",
    "            label = \"Non-disease\"\n",
    "        fig.add_subplot(4, 8, pos + 1).title.set_text(label)\n",
    "        plt.imshow(img)\n",
    "    plt.subplots_adjust(wspace=0.2)\n",
    "    plt.show()\n",
    "    if save:\n",
    "        fig.savefig('fig.png')"
   ]
  },
  {
   "cell_type": "code",
   "execution_count": 68,
   "id": "28712d3a-cb34-4fe3-9c7b-c95b76af4133",
   "metadata": {},
   "outputs": [
    {
     "data": {
      "text/plain": [
       "Compose(\n",
       "    ToTensor()\n",
       "    Resize(size=(20, 20), interpolation=bilinear)\n",
       "    ConvertImageDtype()\n",
       ")"
      ]
     },
     "execution_count": 68,
     "metadata": {},
     "output_type": "execute_result"
    }
   ],
   "source": [
    "# Transformers\n",
    "\n",
    "img_transform = transforms.Compose([\n",
    "    transforms.ToTensor(),\n",
    "    transforms.Resize((img_size, img_size)),\n",
    "    transforms.ConvertImageDtype(torch.float)])\n",
    "img_transform"
   ]
  },
  {
   "cell_type": "code",
   "execution_count": 69,
   "id": "13628137-311d-4df1-95a2-a62377c84851",
   "metadata": {},
   "outputs": [],
   "source": [
    "def getDataset(patch, dc, train_frac = .7):\n",
    "    patch_ds = patch.generateAndSplitDataset(\n",
    "        dataset_composition = [\n",
    "            ['diseased',    dc[0]],\n",
    "            ['leaf',        dc[1]],\n",
    "            ['background',  dc[2]]],\n",
    "        data_type = 'hdr',\n",
    "        train_frac = train_frac)\n",
    "    for p in patch_ds:\n",
    "        p.loc[(p['class'] == 'background'), 'class'] = 0\n",
    "        p.loc[(p['class'] == 'leaf'), 'class'] = 1\n",
    "        p.loc[(p['class'] == 'diseased'), 'class'] = 2\n",
    "\n",
    "        print(p.describe())\n",
    "    \n",
    "    return patch_ds"
   ]
  },
  {
   "cell_type": "code",
   "execution_count": 71,
   "id": "04375b2d-5dd4-4dba-a1b6-0d2b5c34f8be",
   "metadata": {},
   "outputs": [],
   "source": [
    "patch_ds = (pd.read_csv(train_dir),\n",
    "            pd.read_csv(val_dir))"
   ]
  },
  {
   "cell_type": "code",
   "execution_count": 73,
   "id": "00d126ec-4267-43b9-af64-156b6bf8862b",
   "metadata": {},
   "outputs": [],
   "source": [
    "patch_14 = Patches(\"D:\\\\gyeongsang_22_10_14\\\\PATCHES\")\n",
    "patch_21 = Patches(\"D:\\\\gyeongsang_22_10_21_1\\\\PATCHES\")"
   ]
  },
  {
   "cell_type": "code",
   "execution_count": 74,
   "id": "6bc62bcd-e266-4cd2-9be6-06a94f87136e",
   "metadata": {},
   "outputs": [
    {
     "name": "stdout",
     "output_type": "stream",
     "text": [
      "                                                     path type  class\n",
      "count                                                 284  284    284\n",
      "unique                                                284    1      3\n",
      "top     D:\\gyeongsang_22_10_14\\PATCHES\\STACK_75_BANDS_...  hdr      1\n",
      "freq                                                    1  284    135\n",
      "                                                     path type  class\n",
      "count                                                 664  664    664\n",
      "unique                                                664    1      3\n",
      "top     D:\\gyeongsang_22_10_14\\PATCHES\\STACK_75_BANDS_...  hdr      1\n",
      "freq                                                    1  664    315\n",
      "                                                     path type  class\n",
      "count                                                 318  318    318\n",
      "unique                                                318    1      3\n",
      "top     D:\\gyeongsang_22_10_21_1\\PATCHES\\STACK_75_BAND...  hdr      1\n",
      "freq                                                    1  318    150\n",
      "                                                     path type  class\n",
      "count                                                 743  743    743\n",
      "unique                                                743    1      3\n",
      "top     D:\\gyeongsang_22_10_21_1\\PATCHES\\STACK_75_BAND...  hdr      1\n",
      "freq                                                    1  743    350\n"
     ]
    }
   ],
   "source": [
    "patch_14_ds = getDataset(patch_14, [48, 450, 450], train_frac = .3)\n",
    "patch_21_ds = getDataset(patch_21, [61, 500, 500], train_frac = .3)"
   ]
  },
  {
   "cell_type": "code",
   "execution_count": 75,
   "id": "823a9a4a-e839-4b28-9be0-665d328ded23",
   "metadata": {},
   "outputs": [],
   "source": [
    "def extractDs(ds, d):\n",
    "    ds = (patch_ds[0][patch_ds[0][\"path\"].str.contains(d)],\n",
    "          patch_ds[1][patch_ds[1][\"path\"].str.contains(d)])\n",
    "    \n",
    "    return ds"
   ]
  },
  {
   "cell_type": "code",
   "execution_count": 76,
   "id": "f75d575b-3332-4344-8fde-83ee0965ae22",
   "metadata": {},
   "outputs": [],
   "source": [
    "patch_25_ds = extractDs(patch_ds, \"gyeongsang_22_10_25\")\n",
    "patch_28_ds = extractDs(patch_ds, \"gyeongsang_22_10_28\")"
   ]
  },
  {
   "cell_type": "code",
   "execution_count": 77,
   "id": "ccce044d-5784-4d01-a229-255556c26d78",
   "metadata": {},
   "outputs": [],
   "source": [
    "train_patch = patch_ds[0]\n",
    "val_patch = patch_ds[1]"
   ]
  },
  {
   "cell_type": "code",
   "execution_count": 78,
   "id": "6ff057e7-a5aa-42f6-aa83-e42fbfaaeb65",
   "metadata": {},
   "outputs": [
    {
     "name": "stdout",
     "output_type": "stream",
     "text": [
      "The num of training dataset is 1549 and num of validation dataset is 664\n"
     ]
    }
   ],
   "source": [
    "train_dataset = Img(img_df=train_patch, transform=None)\n",
    "val_dataset = Img(img_df=val_patch, transform=None)\n",
    "\n",
    "print(f\"The num of training dataset is {len(train_dataset)} and num of validation dataset is {len(val_dataset)}\")"
   ]
  },
  {
   "cell_type": "code",
   "execution_count": 79,
   "id": "e926657c-a9e6-44db-81d0-7a3ed687cfb8",
   "metadata": {},
   "outputs": [],
   "source": [
    "train_loader = DataLoader(dataset=train_dataset, batch_size=batch_size, shuffle=True)\n",
    "test_loader = DataLoader(dataset=val_dataset, batch_size=batch_size, shuffle=True)"
   ]
  },
  {
   "cell_type": "code",
   "execution_count": 80,
   "id": "e8cef022-5e9d-44e3-b6cf-6eee323b45b8",
   "metadata": {},
   "outputs": [],
   "source": [
    "ds_14 = DataLoader(dataset=Img(img_df=pd.concat([patch_14_ds[0], patch_14_ds[1]]), transform=None), \n",
    "           batch_size=batch_size, shuffle=True)\n",
    "ds_21 = DataLoader(dataset=Img(img_df=pd.concat([patch_21_ds[0], patch_21_ds[1]]), transform=None), \n",
    "           batch_size=batch_size, shuffle=True)\n",
    "ds_25 = DataLoader(dataset=Img(img_df=pd.concat([patch_25_ds[0], patch_25_ds[1]]), transform=None), \n",
    "           batch_size=batch_size, shuffle=True)\n",
    "ds_28 = DataLoader(dataset=Img(img_df=pd.concat([patch_28_ds[0], patch_28_ds[1]]), transform=None), \n",
    "           batch_size=batch_size, shuffle=True)\n",
    "ds_all = DataLoader(dataset=Img(img_df=pd.concat([patch_ds[0], patch_ds[1]]), transform=None), \n",
    "           batch_size=batch_size, shuffle=True)"
   ]
  },
  {
   "cell_type": "code",
   "execution_count": 81,
   "id": "70eee08a-7126-4375-9f03-798c24a03e58",
   "metadata": {},
   "outputs": [
    {
     "data": {
      "text/plain": [
       "torch.Size([32, 1, 20, 20, 55])"
      ]
     },
     "execution_count": 81,
     "metadata": {},
     "output_type": "execute_result"
    }
   ],
   "source": [
    "next(iter(train_loader))[0].shape"
   ]
  },
  {
   "cell_type": "code",
   "execution_count": 82,
   "id": "e872502e-24eb-49e6-885c-f09818f41aa4",
   "metadata": {},
   "outputs": [],
   "source": [
    "# Initialize network\n",
    "\n",
    "model = CNN(in_channels=in_channels, num_classes=num_classes).to(device)"
   ]
  },
  {
   "cell_type": "code",
   "execution_count": 83,
   "id": "61c90be6-9990-4ec3-988b-3d0730c96628",
   "metadata": {},
   "outputs": [
    {
     "data": {
      "text/plain": [
       "<All keys matched successfully>"
      ]
     },
     "execution_count": 83,
     "metadata": {},
     "output_type": "execute_result"
    }
   ],
   "source": [
    "# Load weights\n",
    "\n",
    "model.load_state_dict(torch.load(model_dir))"
   ]
  },
  {
   "cell_type": "code",
   "execution_count": 84,
   "id": "958b739a-76dc-4bf1-8429-d497b12963a4",
   "metadata": {},
   "outputs": [
    {
     "data": {
      "text/plain": [
       "ResNet_3D(\n",
       "  (conv1): Conv3d(1, 64, kernel_size=(3, 3, 3), stride=(1, 1, 1), padding=(1, 1, 1), bias=False)\n",
       "  (conv2): Conv3d(64, 64, kernel_size=(3, 3, 3), stride=(1, 1, 1), padding=(1, 1, 1), bias=False)\n",
       "  (bn1): BatchNorm3d(64, eps=1e-05, momentum=0.1, affine=True, track_running_stats=True)\n",
       "  (maxpool): MaxPool3d(kernel_size=2, stride=2, padding=1, dilation=1, ceil_mode=False)\n",
       "  (conv3): Conv3d(64, 64, kernel_size=(3, 3, 3), stride=(1, 1, 1), padding=(1, 1, 1), bias=False)\n",
       "  (conv4): Conv3d(64, 64, kernel_size=(3, 3, 3), stride=(1, 1, 1), padding=(1, 1, 1), bias=False)\n",
       "  (bn2): BatchNorm3d(64, eps=1e-05, momentum=0.1, affine=True, track_running_stats=True)\n",
       "  (relu): ReLU(inplace=True)\n",
       "  (maxpool2): MaxPool3d(kernel_size=2, stride=2, padding=1, dilation=1, ceil_mode=False)\n",
       "  (downsample): Sequential(\n",
       "    (0): Conv3d(1, 64, kernel_size=(1, 1, 1), stride=(1, 1, 1), bias=False)\n",
       "    (1): BatchNorm3d(64, eps=1e-05, momentum=0.1, affine=True, track_running_stats=True)\n",
       "  )\n",
       "  (fc1): Linear(in_features=34560, out_features=512, bias=True)\n",
       "  (dropout): Dropout(p=0.2, inplace=False)\n",
       "  (fc2): Linear(in_features=512, out_features=3, bias=True)\n",
       ")"
      ]
     },
     "execution_count": 84,
     "metadata": {},
     "output_type": "execute_result"
    }
   ],
   "source": [
    "model.eval()"
   ]
  },
  {
   "cell_type": "code",
   "execution_count": 85,
   "id": "3aab5706-bd93-490a-81ee-01864741acef",
   "metadata": {},
   "outputs": [],
   "source": [
    "# Predict \n",
    "def predictDataset(loader, model, savefig=False):\n",
    "    actual = np.array([])\n",
    "    prediction = np.array([])\n",
    "    model.eval()\n",
    "\n",
    "    with torch.no_grad():\n",
    "        for x, y in loader:\n",
    "            x = x.to(device=device)\n",
    "            y = y.to(device=device)\n",
    "\n",
    "            scores = model(x)\n",
    "            _, predictions = scores.max(1)\n",
    "            actual = np.append(actual, y.cpu().detach().numpy())\n",
    "            prediction = np.append(prediction, predictions.cpu().detach().numpy())\n",
    "    model.train()\n",
    "    \n",
    "    return actual, prediction"
   ]
  },
  {
   "cell_type": "code",
   "execution_count": 87,
   "id": "a33d5149-d4ad-4b41-996c-0b3eb5223e05",
   "metadata": {},
   "outputs": [],
   "source": [
    "actual_test, prediction_test = predictDataset(test_loader, model)\n",
    "actual_14, prediction_14 = predictDataset(ds_14, model)\n",
    "actual_21, prediction_21 = predictDataset(ds_21, model)\n",
    "actual_25, prediction_25 = predictDataset(ds_25, model)\n",
    "actual_28, prediction_28 = predictDataset(ds_28, model)\n",
    "actual_all, prediction_all = predictDataset(ds_all, model)"
   ]
  },
  {
   "cell_type": "code",
   "execution_count": 88,
   "id": "6038e48d-c76a-4f9f-bbff-53a7de11656f",
   "metadata": {},
   "outputs": [],
   "source": [
    "def drawConfusionMatrix(actual, prediction, normalize=True, savefig=False):\n",
    "    confusion_matrix = metrics.confusion_matrix(actual, prediction)\n",
    "    cmn = confusion_matrix.astype('float') / confusion_matrix.sum(axis=1)[:, np.newaxis]\n",
    "    \n",
    "    if normalize:\n",
    "        confusion_matrix = cmn\n",
    "    \n",
    "    cm_display = metrics.ConfusionMatrixDisplay(confusion_matrix = confusion_matrix, display_labels = [\"0\", \"1\", \"2\"])\n",
    "    cm_display.plot()\n",
    "    plt.show()\n",
    "    \n",
    "    if savefig:\n",
    "        plt.savefig('confusion_matrix.png')"
   ]
  },
  {
   "cell_type": "code",
   "execution_count": 89,
   "id": "6b96b773-179e-4ca4-b030-025c57634f62",
   "metadata": {},
   "outputs": [
    {
     "data": {
      "image/png": "[encoded data removed]",
      "text/plain": [
       "<Figure size 432x288 with 2 Axes>"
      ]
     },
     "metadata": {
      "needs_background": "light"
     },
     "output_type": "display_data"
    }
   ],
   "source": [
    "drawConfusionMatrix(actual_test, prediction_test, normalize=True)"
   ]
  },
  {
   "cell_type": "code",
   "execution_count": 90,
   "id": "6b9e90a2-fb0f-4845-9909-3c5af97c7c0c",
   "metadata": {},
   "outputs": [
    {
     "data": {
      "image/png": "[encoded data removed]",
      "text/plain": [
       "<Figure size 432x288 with 2 Axes>"
      ]
     },
     "metadata": {
      "needs_background": "light"
     },
     "output_type": "display_data"
    }
   ],
   "source": [
    "drawConfusionMatrix(actual_14, prediction_14, normalize=True)"
   ]
  },
  {
   "cell_type": "code",
   "execution_count": 91,
   "id": "3f6b76a2-daeb-4059-8b58-471098d74b1d",
   "metadata": {},
   "outputs": [
    {
     "data": {
      "image/png": "[encoded data removed]",
      "text/plain": [
       "<Figure size 432x288 with 2 Axes>"
      ]
     },
     "metadata": {
      "needs_background": "light"
     },
     "output_type": "display_data"
    }
   ],
   "source": [
    "drawConfusionMatrix(actual_21, prediction_21, normalize=True)"
   ]
  },
  {
   "cell_type": "code",
   "execution_count": 92,
   "id": "9db3f558-7f92-4ed3-922c-d55334c4541f",
   "metadata": {},
   "outputs": [
    {
     "data": {
      "image/png": "[encoded data removed]",
      "text/plain": [
       "<Figure size 432x288 with 2 Axes>"
      ]
     },
     "metadata": {
      "needs_background": "light"
     },
     "output_type": "display_data"
    }
   ],
   "source": [
    "drawConfusionMatrix(actual_25, prediction_25, normalize=True)"
   ]
  },
  {
   "cell_type": "code",
   "execution_count": 93,
   "id": "d634fc1a-c4d1-4b59-8da4-6565b27ae85c",
   "metadata": {},
   "outputs": [
    {
     "data": {
      "image/png": "[encoded data removed]",
      "text/plain": [
       "<Figure size 432x288 with 2 Axes>"
      ]
     },
     "metadata": {
      "needs_background": "light"
     },
     "output_type": "display_data"
    }
   ],
   "source": [
    "drawConfusionMatrix(actual_28, prediction_28 , normalize=True)"
   ]
  },
  {
   "cell_type": "code",
   "execution_count": 94,
   "id": "de36173a-974a-4a12-b0c6-028a95b84ee5",
   "metadata": {},
   "outputs": [
    {
     "data": {
      "image/png": "[encoded data removed]",
      "text/plain": [
       "<Figure size 432x288 with 2 Axes>"
      ]
     },
     "metadata": {
      "needs_background": "light"
     },
     "output_type": "display_data"
    }
   ],
   "source": [
    "drawConfusionMatrix(actual_all, prediction_all , normalize=True)"
   ]
  },
  {
   "cell_type": "code",
   "execution_count": null,
   "id": "a8b27350-afcf-40cc-aa4d-37b4beb0c7af",
   "metadata": {},
   "outputs": [],
   "source": []
  }
 ],
 "metadata": {
  "kernelspec": {
   "display_name": "Python 3 (ipykernel)",
   "language": "python",
   "name": "python3"
  },
  "language_info": {
   "codemirror_mode": {
    "name": "ipython",
    "version": 3
   },
   "file_extension": ".py",
   "mimetype": "text/x-python",
   "name": "python",
   "nbconvert_exporter": "python",
   "pygments_lexer": "ipython3",
   "version": "3.8.13"
  }
 },
 "nbformat": 4,
 "nbformat_minor": 5
}
