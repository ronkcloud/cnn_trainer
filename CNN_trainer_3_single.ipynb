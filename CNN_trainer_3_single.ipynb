{
 "cells": [
  {
   "cell_type": "code",
   "execution_count": 1,
   "id": "53b3d5a6-10bd-4773-a1fd-9ecf719c2093",
   "metadata": {},
   "outputs": [
    {
     "name": "stderr",
     "output_type": "stream",
     "text": [
      "E:\\Software\\anaconda3\\envs\\torch\\lib\\site-packages\\tqdm\\auto.py:22: TqdmWarning: IProgress not found. Please update jupyter and ipywidgets. See https://ipywidgets.readthedocs.io/en/stable/user_install.html\n",
      "  from .autonotebook import tqdm as notebook_tqdm\n"
     ]
    }
   ],
   "source": [
    "# Imports\n",
    "import torch\n",
    "import os\n",
    "import numpy as np\n",
    "import pandas as pd\n",
    "import copy\n",
    "import matplotlib.pyplot as plt\n",
    "\n",
    "from torch.utils.data import DataLoader, ConcatDataset\n",
    "from sklearn.metrics import precision_score, accuracy_score, recall_score, f1_score\n",
    "from tqdm import tqdm \n",
    "from sklearn import metrics\n",
    "\n",
    "from utils.dataGen import Patches\n",
    "from utils.datasets import *\n",
    "from ResNet.ResNet_3D_3 import ResNet_3D as CNN, ResidualBlock"
   ]
  },
  {
   "cell_type": "code",
   "execution_count": 2,
   "id": "bccb66fc-7ac7-4282-8948-c447e05f6849",
   "metadata": {},
   "outputs": [
    {
     "data": {
      "text/plain": [
       "(1, 'NVIDIA RTX A4000')"
      ]
     },
     "execution_count": 2,
     "metadata": {},
     "output_type": "execute_result"
    }
   ],
   "source": [
    "# Set device\n",
    "\n",
    "device = torch.device(\"cuda\" if torch.cuda.is_available() else \"cpu\")\n",
    "torch.cuda.device_count(), torch.cuda.get_device_name()"
   ]
  },
  {
   "cell_type": "code",
   "execution_count": 3,
   "id": "9e23d207-a12b-46d3-948f-384ad4986d59",
   "metadata": {},
   "outputs": [],
   "source": [
    "# Hyperparameters\n",
    "\n",
    "in_channels = 1\n",
    "classes = [\"background\", \"leaf\", \"diseased\"]\n",
    "num_classes = len(classes)\n",
    "weights = [1.0, 0.7, 2.0]\n",
    "rgb_bands = [7, 15, 32]\n",
    "# rgb_bands = [0]\n",
    "img_size = 20\n",
    "learning_rate = 1e-06\n",
    "lr_step = 30\n",
    "batch_size = 128\n",
    "num_epochs = 50\n",
    "frac = .7\n",
    "save_dataset = True\n",
    "augment = True\n",
    "count = True\n",
    "kfold = 1"
   ]
  },
  {
   "cell_type": "code",
   "execution_count": 4,
   "id": "e872502e-24eb-49e6-885c-f09818f41aa4",
   "metadata": {},
   "outputs": [
    {
     "name": "stdout",
     "output_type": "stream",
     "text": [
      "Num of trainable param: 32930691\n"
     ]
    }
   ],
   "source": [
    "# Initialize network\n",
    "\n",
    "# model = CNN(in_channels=in_channels, num_classes=num_classes).to(device)\n",
    "# model = CNN(ResidualBlock, [1, 2, 2, 2]).to(device)\n",
    "model = CNN(ResidualBlock).to(device)\n",
    "print(\"Num of trainable param:\", sum(p.numel() for p in model.parameters() if p.requires_grad))"
   ]
  },
  {
   "cell_type": "code",
   "execution_count": 5,
   "id": "61c90be6-9990-4ec3-988b-3d0730c96628",
   "metadata": {},
   "outputs": [],
   "source": [
    "# Loss and optimizer\n",
    "\n",
    "class_weights = torch.FloatTensor(weights).cuda()\n",
    "criterion = torch.nn.CrossEntropyLoss(weight=class_weights)\n",
    "optimizer = torch.optim.Adam(model.parameters(), lr=learning_rate)\n",
    "scheduler = torch.optim.lr_scheduler.StepLR(optimizer, step_size=lr_step, gamma=0.1)"
   ]
  },
  {
   "cell_type": "code",
   "execution_count": 6,
   "id": "7005fd65-8ec8-4c03-9f75-443419e8228d",
   "metadata": {},
   "outputs": [],
   "source": [
    "# Init dataset\n",
    "\n",
    "p_14 = Patches(\"D:\\\\gyeongsang_22_10_14\\\\PATCHES\\\\STACK_75_BANDS_14\")\n",
    "p_14_h = Patches(\"D:\\\\gyeongsang_22_10_14\\\\PATCHES\\\\STACK_75_BANDS_14_4\")\n",
    "p_21 = Patches(\"D:\\\\gyeongsang_22_10_21_1\\\\PATCHES\\\\STACK_75_BANDS_21_1\")\n",
    "p_25_h = Patches(\"D:\\\\gyeongsang_22_10_25\\\\PATCHES\\\\STACK_75_BANDS_25_2\")\n",
    "p_25 = Patches(\"D:\\\\gyeongsang_22_10_25\\\\PATCHES\\\\STACK_75_BANDS_25\")\n",
    "p_28 = Patches(\"D:\\\\gyeongsang_22_10_28\\\\PATCHES\\\\STACK_75_BANDS_28\")\n",
    "p_28_h = Patches(\"D:\\\\gyeongsang_22_10_28\\\\PATCHES\\\\STACK_75_BANDS_28_healthy\")"
   ]
  },
  {
   "cell_type": "code",
   "execution_count": 7,
   "id": "04375b2d-5dd4-4dba-a1b6-0d2b5c34f8be",
   "metadata": {},
   "outputs": [
    {
     "name": "stdout",
     "output_type": "stream",
     "text": [
      "For hdr image, there are: \n",
      " background    551\n",
      "leaf          489\n",
      "diseased       48\n",
      "Name: class, dtype: int64 \n",
      "\n",
      "For hdr image, there are: \n",
      " leaf        432\n",
      "diseased     87\n",
      "Name: class, dtype: int64 \n",
      "\n",
      "For hdr image, there are: \n",
      " background    617\n",
      "leaf          576\n",
      "diseased       61\n",
      "Name: class, dtype: int64 \n",
      "\n",
      "For hdr image, there are: \n",
      " background    176\n",
      "diseased       74\n",
      "Name: class, dtype: int64 \n",
      "\n",
      "For hdr image, there are: \n",
      " leaf          663\n",
      "background    650\n",
      "diseased      117\n",
      "Name: class, dtype: int64 \n",
      "\n",
      "For hdr image, there are: \n",
      " background    1148\n",
      "leaf           710\n",
      "diseased        96\n",
      "Name: class, dtype: int64 \n",
      "\n",
      "For hdr image, there are: \n",
      " leaf    271\n",
      "Name: class, dtype: int64 \n",
      "\n",
      "None None None None None None None\n"
     ]
    }
   ],
   "source": [
    "print(p_14.describe(),\n",
    "      p_14_h.describe(),\n",
    "      p_21.describe(),\n",
    "      p_25_h.describe(),\n",
    "      p_25.describe(),\n",
    "      p_28.describe(),\n",
    "      p_28_h.describe())"
   ]
  },
  {
   "cell_type": "code",
   "execution_count": 8,
   "id": "8c50e815-37fc-4484-9efa-56d08ac4b6db",
   "metadata": {},
   "outputs": [
    {
     "name": "stdout",
     "output_type": "stream",
     "text": [
      "Dataset has 519 samples [1 2] class indices included\n",
      "   Example: D:\\gyeongsang_22_10_14\\PATCHES\\STACK_75_BANDS_14_4\\hdr\\leaf\\116_340.HDR\n",
      "   Unique: True\n",
      "\n",
      "\n",
      "Dataset has 256 samples [0] class indices included\n",
      "   Example: D:\\gyeongsang_22_10_14\\PATCHES\\STACK_75_BANDS_14\\hdr\\background\\103_404.HDR\n",
      "   Unique: True\n",
      "\n",
      "\n"
     ]
    }
   ],
   "source": [
    "# Get dataset\n",
    "\n",
    "patch_14_hd = p_14_h.generateDataset([0, 432, 87])\n",
    "patch_14_b = p_14.generateDataset([256, 0, 0])\n",
    "patch_14 = pd.concat([patch_14_hd, patch_14_b])\n",
    "           \n",
    "# Shuffle dataset\n",
    "\n",
    "patch_14 = patch_14.sample(frac=1)"
   ]
  },
  {
   "cell_type": "code",
   "execution_count": 9,
   "id": "da93bde4-bafc-462a-82a7-c2150e5915b2",
   "metadata": {},
   "outputs": [],
   "source": [
    "def splitDatasetKfold(patch, kfold, dtype='hdr', train_frac=0.7):   \n",
    "    patch_kfold = []\n",
    "    kfold_recs  = patch.copy()\n",
    "    \n",
    "    for k in range(kfold):\n",
    "        tr = pd.DataFrame(columns=[\"path\", \"type\", \"class\"])\n",
    "        vl = tr.copy()\n",
    "        for i in range(num_classes):\n",
    "            tmp = patch.loc[(patch['class'] == i) & \n",
    "                             (patch['type'] == dtype)]\n",
    "            tmp_tr = tmp.sample(frac=train_frac, replace=False, random_state=k)\n",
    "            tmp_vl = tmp.drop(tmp_tr.index)\n",
    "\n",
    "            tr = pd.concat([tr, tmp_tr])\n",
    "            vl = pd.concat([vl, tmp_vl])\n",
    "            \n",
    "        kfold_recs.loc[tr.index, f'k{k}'] = 0\n",
    "        kfold_recs.loc[vl.index, f'k{k}'] = 1\n",
    "            \n",
    "        patch_kfold.append([tr, vl])\n",
    "\n",
    "    # print((kfold_recs.loc[:, [f'k{i}' for i in range(kfold)]].sum(axis=1) == 0).sum())\n",
    "    \n",
    "    return patch_kfold, kfold_recs"
   ]
  },
  {
   "cell_type": "code",
   "execution_count": 10,
   "id": "f0817ffa-0306-48c1-84b5-ef4d11e0859f",
   "metadata": {},
   "outputs": [
    {
     "data": {
      "text/plain": [
       "1"
      ]
     },
     "execution_count": 10,
     "metadata": {},
     "output_type": "execute_result"
    }
   ],
   "source": [
    "patch_14_kfold, kfold_recs = splitDatasetKfold(patch_14, kfold)\n",
    "len(patch_14_kfold)"
   ]
  },
  {
   "cell_type": "code",
   "execution_count": 11,
   "id": "a69c04b4-48e1-489b-87a7-187d9e3a908d",
   "metadata": {},
   "outputs": [],
   "source": [
    "# Patch wrapper\n",
    "\n",
    "img_14 = wrapPatch(patch_14_kfold[0])\n",
    "\n",
    "# img_21 = wrapPatch(patch_21)\n",
    "# img_25 = wrapPatch(patch_25)\n",
    "# img_28 = wrapPatch(patch_28)"
   ]
  },
  {
   "cell_type": "code",
   "execution_count": 12,
   "id": "8d0050a6-c9ba-492c-bb2e-b7829e00b9fe",
   "metadata": {},
   "outputs": [
    {
     "name": "stdout",
     "output_type": "stream",
     "text": [
      "542, with {'background': 179, 'leaf': 302, 'diseased': 61}\n",
      "233, with {'background': 77, 'leaf': 130, 'diseased': 26}\n"
     ]
    }
   ],
   "source": [
    "# Define training images\n",
    "\n",
    "train_img = img_14[0]\n",
    "val_img = img_14[1]\n",
    "\n",
    "if count:\n",
    "    countImg(train_img, classes)\n",
    "    countImg(val_img, classes)\n",
    "\n",
    "if save_dataset:\n",
    "    train_img.img_df.to_csv(\"train.csv\")\n",
    "    val_img.img_df.to_csv(\"val.csv\")"
   ]
  },
  {
   "cell_type": "code",
   "execution_count": 13,
   "id": "8bfe2b79-6917-4727-8c87-0cce5ab5f8fc",
   "metadata": {},
   "outputs": [
    {
     "name": "stdout",
     "output_type": "stream",
     "text": [
      "Training set\n",
      "class index: 2\n",
      "\t Rotated 72 deg\n",
      "\t Rotated 144 deg\n",
      "\t Rotated 216 deg\n",
      "\t Rotated 288 deg\n",
      "Validation set\n",
      "class index: 2\n",
      "\t Rotated 72 deg\n",
      "\t Rotated 144 deg\n",
      "\t Rotated 216 deg\n",
      "\t Rotated 288 deg\n",
      "786, with {'background': 179, 'leaf': 302, 'diseased': 305}\n",
      "337, with {'background': 77, 'leaf': 130, 'diseased': 130}\n"
     ]
    }
   ],
   "source": [
    "# Augment images \n",
    "\n",
    "if augment:\n",
    "    img_14_aug1 = augmentPatch2(img_14, [0, 0, 4])\n",
    "    \n",
    "    train_img = ConcatDataset([train_img] + img_14_aug1[0])\n",
    "    val_img = ConcatDataset([val_img] + img_14_aug1[1])   \n",
    "    \n",
    "    if count:\n",
    "        countImg(train_img, classes)\n",
    "        countImg(val_img, classes)"
   ]
  },
  {
   "cell_type": "code",
   "execution_count": 14,
   "id": "0d288ea5-7549-41ce-bd47-d62cb5ae7b58",
   "metadata": {},
   "outputs": [
    {
     "data": {
      "text/plain": [
       "torch.Size([128, 1, 55, 20, 20])"
      ]
     },
     "execution_count": 14,
     "metadata": {},
     "output_type": "execute_result"
    }
   ],
   "source": [
    "# Load images\n",
    "\n",
    "loaders = imagesLoader([[train_img, True],\n",
    "                        [val_img  , False],\n",
    "                        [img_14[1], False],\n",
    "                        [img_14   , True]], batch_size)\n",
    "\n",
    "train_loader = loaders[0]\n",
    "test_loader = loaders[1]\n",
    "\n",
    "next(iter(train_loader))[0].shape"
   ]
  },
  {
   "cell_type": "code",
   "execution_count": 15,
   "id": "c1fbbdb1-d9f6-4210-b5e4-f1fefe41026e",
   "metadata": {},
   "outputs": [
    {
     "data": {
      "image/png": "[encoded data removed]",
      "text/plain": [
       "<Figure size 1440x792 with 32 Axes>"
      ]
     },
     "metadata": {
      "needs_background": "light"
     },
     "output_type": "display_data"
    }
   ],
   "source": [
    "# Check the images\n",
    "\n",
    "for train_sample in train_loader:\n",
    "   displayImgs(train_sample[0], train_sample[1], classes=classes, n=batch_size)\n",
    "   break"
   ]
  },
  {
   "cell_type": "code",
   "execution_count": null,
   "id": "c986c5f9-afea-49c0-b15f-4f15e6eb2429",
   "metadata": {},
   "outputs": [
    {
     "name": "stdout",
     "output_type": "stream",
     "text": [
      "tensor([ 0.8068, -0.1991,  0.1152], device='cuda:0')\n"
     ]
    }
   ],
   "source": [
    "# Check the model\n",
    "\n",
    "with torch.no_grad():\n",
    "    for x, y in train_loader:\n",
    "        x = x.to(device=device)\n",
    "        y = y.to(device=device)\n",
    "        x_ = model(x)\n",
    "        print(x_[0])\n",
    "        break"
   ]
  },
  {
   "cell_type": "code",
   "execution_count": null,
   "id": "7a85f0cf-da76-4db7-9983-1f364df1532f",
   "metadata": {},
   "outputs": [
    {
     "name": "stdout",
     "output_type": "stream",
     "text": [
      "[0.         0.         1.         0.38804071] [0.         0.         1.         0.38575668]\n"
     ]
    }
   ],
   "source": [
    "# Evaluate the model\n",
    "\n",
    "def evaluate(loader, model):\n",
    "    actuals = np.array([])\n",
    "    predictions = np.array([])\n",
    "    evaluations = np.array([])\n",
    "    model.eval()\n",
    "\n",
    "    with torch.no_grad():\n",
    "        for x, y in loader:\n",
    "            x = x.to(device=device)\n",
    "            y = y.to(device=device)\n",
    "\n",
    "            scores = model(x)\n",
    "            _, model_pred = scores.max(1)\n",
    "            actuals = np.append(actuals, y.cpu().detach().numpy())\n",
    "            predictions = np.append(predictions, model_pred.cpu().detach().numpy())\n",
    "    \n",
    "    for i in range(num_classes):\n",
    "        ac = (actuals == i)\n",
    "        pr = (predictions == i)\n",
    "\n",
    "        ca = (ac & pr).sum() / ac.sum()\n",
    "        evaluations = np.append(evaluations, ca)\n",
    "        \n",
    "    oa = (actuals == predictions).sum() / len(actuals)\n",
    "    evaluations = np.append(evaluations, oa)\n",
    "    \n",
    "    model.train()\n",
    "\n",
    "    return evaluations\n",
    "\n",
    "print(evaluate(train_loader, model), evaluate(test_loader, model))"
   ]
  },
  {
   "cell_type": "code",
   "execution_count": null,
   "id": "a0e019ed-bf32-41bc-8333-2809466e5a01",
   "metadata": {},
   "outputs": [],
   "source": [
    "# Make a list to record training progress\n",
    "\n",
    "eval_ent = [test_loader, train_loader, loaders[2]]\n",
    "eval_hist = [[[] for i in range(2 + num_classes)]for i in range(len(eval_ent))]\n",
    "highest_acc = 0"
   ]
  },
  {
   "cell_type": "code",
   "execution_count": null,
   "id": "64cc7c71-93a4-45c3-8ee0-cec4103ac022",
   "metadata": {},
   "outputs": [
    {
     "name": "stderr",
     "output_type": "stream",
     "text": [
      "Epoch[0/49]: 100%|███████████████████████████████████████████████████████████████████████| 7/7 [00:23<00:00,  3.38s/it]\n"
     ]
    },
    {
     "name": "stdout",
     "output_type": "stream",
     "text": [
      "Best is on 0 epoch\n",
      "1e-06\n",
      "accuracy_0: 0.0, 0.0, 0.0\n",
      "accuracy_1: 0.0, 0.0, 0.0\n",
      "accuracy_2: 1.0, 1.0, 1.0\n",
      "accuracy_3: 0.3857566765578635, 0.3880407124681934, 0.11158798283261803\n"
     ]
    },
    {
     "name": "stderr",
     "output_type": "stream",
     "text": [
      "Epoch[1/49]: 100%|███████████████████████████████████████████████████████████████████████| 7/7 [00:17<00:00,  2.48s/it]\n"
     ]
    },
    {
     "name": "stdout",
     "output_type": "stream",
     "text": [
      "Best is on 1 epoch\n",
      "1e-06\n",
      "accuracy_0: 0.948051948051948, 0.9608938547486033, 0.948051948051948\n",
      "accuracy_1: 0.0, 0.0, 0.0\n",
      "accuracy_2: 0.0, 0.003278688524590164, 0.0\n",
      "accuracy_3: 0.2166172106824926, 0.22010178117048346, 0.3133047210300429\n"
     ]
    },
    {
     "name": "stderr",
     "output_type": "stream",
     "text": [
      "Epoch[2/49]: 100%|███████████████████████████████████████████████████████████████████████| 7/7 [00:17<00:00,  2.54s/it]\n"
     ]
    },
    {
     "name": "stdout",
     "output_type": "stream",
     "text": [
      "Best is on 2 epoch\n",
      "1e-06\n",
      "accuracy_0: 1.0, 1.0, 1.0\n",
      "accuracy_1: 0.0, 0.0, 0.0\n",
      "accuracy_2: 0.0, 0.0, 0.0\n",
      "accuracy_3: 0.228486646884273, 0.227735368956743, 0.33047210300429186\n"
     ]
    },
    {
     "name": "stderr",
     "output_type": "stream",
     "text": [
      "Epoch[3/49]: 100%|███████████████████████████████████████████████████████████████████████| 7/7 [00:19<00:00,  2.76s/it]\n"
     ]
    },
    {
     "name": "stdout",
     "output_type": "stream",
     "text": [
      "1e-06\n",
      "accuracy_0: 1.0, 1.0, 1.0\n",
      "accuracy_1: 0.0, 0.0, 0.0\n",
      "accuracy_2: 0.0, 0.0, 0.0\n",
      "accuracy_3: 0.228486646884273, 0.227735368956743, 0.33047210300429186\n"
     ]
    },
    {
     "name": "stderr",
     "output_type": "stream",
     "text": [
      "Epoch[4/49]: 100%|███████████████████████████████████████████████████████████████████████| 7/7 [00:17<00:00,  2.52s/it]\n"
     ]
    },
    {
     "name": "stdout",
     "output_type": "stream",
     "text": [
      "1e-06\n",
      "accuracy_0: 1.0, 1.0, 1.0\n",
      "accuracy_1: 0.0, 0.0, 0.0\n",
      "accuracy_2: 0.0, 0.01639344262295082, 0.0\n",
      "accuracy_3: 0.228486646884273, 0.2340966921119593, 0.33047210300429186\n"
     ]
    },
    {
     "name": "stderr",
     "output_type": "stream",
     "text": [
      "Epoch[5/49]: 100%|███████████████████████████████████████████████████████████████████████| 7/7 [00:17<00:00,  2.43s/it]\n"
     ]
    },
    {
     "name": "stdout",
     "output_type": "stream",
     "text": [
      "Best is on 5 epoch\n",
      "1e-06\n",
      "accuracy_0: 0.987012987012987, 0.9888268156424581, 0.987012987012987\n",
      "accuracy_1: 0.2153846153846154, 0.19205298013245034, 0.2153846153846154\n",
      "accuracy_2: 0.47692307692307695, 0.5278688524590164, 0.23076923076923078\n",
      "accuracy_3: 0.49258160237388726, 0.5038167938931297, 0.4721030042918455\n"
     ]
    },
    {
     "name": "stderr",
     "output_type": "stream",
     "text": [
      "Epoch[6/49]: 100%|███████████████████████████████████████████████████████████████████████| 7/7 [00:16<00:00,  2.42s/it]\n"
     ]
    },
    {
     "name": "stdout",
     "output_type": "stream",
     "text": [
      "Best is on 6 epoch\n",
      "1e-06\n",
      "accuracy_0: 0.961038961038961, 0.9720670391061452, 0.961038961038961\n",
      "accuracy_1: 0.676923076923077, 0.7384105960264901, 0.676923076923077\n",
      "accuracy_2: 0.7307692307692307, 0.7868852459016393, 0.23076923076923078\n",
      "accuracy_3: 0.7626112759643917, 0.8104325699745547, 0.721030042918455\n"
     ]
    },
    {
     "name": "stderr",
     "output_type": "stream",
     "text": [
      "Epoch[7/49]: 100%|███████████████████████████████████████████████████████████████████████| 7/7 [00:16<00:00,  2.36s/it]\n"
     ]
    },
    {
     "name": "stdout",
     "output_type": "stream",
     "text": [
      "Best is on 7 epoch\n",
      "1e-06\n",
      "accuracy_0: 0.961038961038961, 0.9608938547486033, 0.961038961038961\n",
      "accuracy_1: 0.823076923076923, 0.8675496688741722, 0.823076923076923\n",
      "accuracy_2: 0.8461538461538461, 0.8721311475409836, 0.38461538461538464\n",
      "accuracy_3: 0.8635014836795252, 0.8905852417302799, 0.8197424892703863\n"
     ]
    },
    {
     "name": "stderr",
     "output_type": "stream",
     "text": [
      "Epoch[8/49]: 100%|███████████████████████████████████████████████████████████████████████| 7/7 [00:15<00:00,  2.22s/it]\n"
     ]
    },
    {
     "name": "stdout",
     "output_type": "stream",
     "text": [
      "1e-06\n",
      "accuracy_0: 0.922077922077922, 0.9329608938547486, 0.922077922077922\n",
      "accuracy_1: 0.7923076923076923, 0.8013245033112583, 0.7923076923076923\n",
      "accuracy_2: 0.9230769230769231, 0.9180327868852459, 0.6153846153846154\n",
      "accuracy_3: 0.8724035608308606, 0.8765903307888041, 0.8154506437768241\n"
     ]
    },
    {
     "name": "stderr",
     "output_type": "stream",
     "text": [
      "Epoch[9/49]: 100%|███████████████████████████████████████████████████████████████████████| 7/7 [00:14<00:00,  2.07s/it]\n"
     ]
    },
    {
     "name": "stdout",
     "output_type": "stream",
     "text": [
      "1e-06\n",
      "accuracy_0: 0.922077922077922, 0.9273743016759777, 0.922077922077922\n",
      "accuracy_1: 0.7153846153846154, 0.7483443708609272, 0.7153846153846154\n",
      "accuracy_2: 0.9307692307692308, 0.9475409836065574, 0.6538461538461539\n",
      "accuracy_3: 0.8456973293768546, 0.8664122137404581, 0.776824034334764\n"
     ]
    },
    {
     "name": "stderr",
     "output_type": "stream",
     "text": [
      "Epoch[10/49]: 100%|██████████████████████████████████████████████████████████████████████| 7/7 [00:14<00:00,  2.12s/it]\n"
     ]
    },
    {
     "name": "stdout",
     "output_type": "stream",
     "text": [
      "1e-06\n",
      "accuracy_0: 0.922077922077922, 0.9273743016759777, 0.922077922077922\n",
      "accuracy_1: 0.7076923076923077, 0.7516556291390728, 0.7076923076923077\n",
      "accuracy_2: 0.9384615384615385, 0.9508196721311475, 0.6923076923076923\n",
      "accuracy_3: 0.8456973293768546, 0.8689567430025446, 0.776824034334764\n"
     ]
    },
    {
     "name": "stderr",
     "output_type": "stream",
     "text": [
      "Epoch[11/49]: 100%|██████████████████████████████████████████████████████████████████████| 7/7 [00:13<00:00,  1.95s/it]\n"
     ]
    },
    {
     "name": "stdout",
     "output_type": "stream",
     "text": [
      "1e-06\n",
      "accuracy_0: 0.9090909090909091, 0.9106145251396648, 0.9090909090909091\n",
      "accuracy_1: 0.7538461538461538, 0.7913907284768212, 0.7538461538461538\n",
      "accuracy_2: 0.9307692307692308, 0.9475409836065574, 0.6538461538461539\n",
      "accuracy_3: 0.857566765578635, 0.8791348600508906, 0.7939914163090128\n"
     ]
    },
    {
     "name": "stderr",
     "output_type": "stream",
     "text": [
      "Epoch[12/49]: 100%|██████████████████████████████████████████████████████████████████████| 7/7 [00:13<00:00,  1.97s/it]\n"
     ]
    },
    {
     "name": "stdout",
     "output_type": "stream",
     "text": [
      "1e-06\n",
      "accuracy_0: 0.8961038961038961, 0.9106145251396648, 0.8961038961038961\n",
      "accuracy_1: 0.7538461538461538, 0.8178807947019867, 0.7538461538461538\n",
      "accuracy_2: 0.9307692307692308, 0.9442622950819672, 0.6538461538461539\n",
      "accuracy_3: 0.8545994065281899, 0.8880407124681934, 0.7896995708154506\n"
     ]
    },
    {
     "name": "stderr",
     "output_type": "stream",
     "text": [
      "Epoch[13/49]: 100%|██████████████████████████████████████████████████████████████████████| 7/7 [00:13<00:00,  1.93s/it]\n"
     ]
    },
    {
     "name": "stdout",
     "output_type": "stream",
     "text": [
      "Best is on 13 epoch\n",
      "1e-06\n",
      "accuracy_0: 0.922077922077922, 0.9162011173184358, 0.922077922077922\n",
      "accuracy_1: 0.8153846153846154, 0.8841059602649006, 0.8153846153846154\n",
      "accuracy_2: 0.9153846153846154, 0.9344262295081968, 0.5769230769230769\n",
      "accuracy_3: 0.8783382789317508, 0.910941475826972, 0.8240343347639485\n"
     ]
    },
    {
     "name": "stderr",
     "output_type": "stream",
     "text": [
      "Epoch[14/49]: 100%|██████████████████████████████████████████████████████████████████████| 7/7 [00:13<00:00,  1.93s/it]\n"
     ]
    },
    {
     "name": "stdout",
     "output_type": "stream",
     "text": [
      "1e-06\n",
      "accuracy_0: 0.922077922077922, 0.9329608938547486, 0.922077922077922\n",
      "accuracy_1: 0.8076923076923077, 0.8874172185430463, 0.8076923076923077\n",
      "accuracy_2: 0.9153846153846154, 0.9344262295081968, 0.5769230769230769\n",
      "accuracy_3: 0.8753709198813057, 0.916030534351145, 0.8197424892703863\n"
     ]
    },
    {
     "name": "stderr",
     "output_type": "stream",
     "text": [
      "Epoch[15/49]: 100%|██████████████████████████████████████████████████████████████████████| 7/7 [00:13<00:00,  1.94s/it]\n"
     ]
    },
    {
     "name": "stdout",
     "output_type": "stream",
     "text": [
      "1e-06\n",
      "accuracy_0: 0.922077922077922, 0.9385474860335196, 0.922077922077922\n",
      "accuracy_1: 0.8, 0.8642384105960265, 0.8\n",
      "accuracy_2: 0.9153846153846154, 0.9442622950819672, 0.5769230769230769\n",
      "accuracy_3: 0.8724035608308606, 0.9122137404580153, 0.8154506437768241\n"
     ]
    },
    {
     "name": "stderr",
     "output_type": "stream",
     "text": [
      "Epoch[16/49]: 100%|██████████████████████████████████████████████████████████████████████| 7/7 [00:13<00:00,  1.92s/it]\n"
     ]
    },
    {
     "name": "stdout",
     "output_type": "stream",
     "text": [
      "1e-06\n",
      "accuracy_0: 0.922077922077922, 0.9385474860335196, 0.922077922077922\n",
      "accuracy_1: 0.7461538461538462, 0.8211920529801324, 0.7461538461538462\n",
      "accuracy_2: 0.9384615384615385, 0.9606557377049181, 0.6923076923076923\n",
      "accuracy_3: 0.8605341246290801, 0.9020356234096693, 0.7982832618025751\n"
     ]
    },
    {
     "name": "stderr",
     "output_type": "stream",
     "text": [
      "Epoch[17/49]: 100%|██████████████████████████████████████████████████████████████████████| 7/7 [00:13<00:00,  1.96s/it]\n"
     ]
    },
    {
     "name": "stdout",
     "output_type": "stream",
     "text": [
      "1e-06\n",
      "accuracy_0: 0.922077922077922, 0.9385474860335196, 0.922077922077922\n",
      "accuracy_1: 0.8153846153846154, 0.9072847682119205, 0.8153846153846154\n",
      "accuracy_2: 0.9076923076923077, 0.9475409836065574, 0.5384615384615384\n",
      "accuracy_3: 0.8753709198813057, 0.9300254452926209, 0.8197424892703863\n"
     ]
    },
    {
     "name": "stderr",
     "output_type": "stream",
     "text": [
      "Epoch[18/49]: 100%|██████████████████████████████████████████████████████████████████████| 7/7 [00:13<00:00,  2.00s/it]\n"
     ]
    },
    {
     "name": "stdout",
     "output_type": "stream",
     "text": [
      "Best is on 18 epoch\n",
      "1e-06\n",
      "accuracy_0: 0.922077922077922, 0.9553072625698324, 0.922077922077922\n",
      "accuracy_1: 0.8769230769230769, 0.9403973509933775, 0.8769230769230769\n",
      "accuracy_2: 0.8923076923076924, 0.9344262295081968, 0.46153846153846156\n",
      "accuracy_3: 0.8931750741839762, 0.9414758269720102, 0.8454935622317596\n"
     ]
    },
    {
     "name": "stderr",
     "output_type": "stream",
     "text": [
      "Epoch[19/49]: 100%|██████████████████████████████████████████████████████████████████████| 7/7 [00:13<00:00,  1.99s/it]\n"
     ]
    },
    {
     "name": "stdout",
     "output_type": "stream",
     "text": [
      "1e-06\n",
      "accuracy_0: 0.935064935064935, 0.9664804469273743, 0.935064935064935\n",
      "accuracy_1: 0.8538461538461538, 0.9337748344370861, 0.8538461538461538\n",
      "accuracy_2: 0.8923076923076924, 0.9377049180327869, 0.46153846153846156\n",
      "accuracy_3: 0.887240356083086, 0.9427480916030534, 0.8369098712446352\n"
     ]
    },
    {
     "name": "stderr",
     "output_type": "stream",
     "text": [
      "Epoch[20/49]: 100%|██████████████████████████████████████████████████████████████████████| 7/7 [00:13<00:00,  1.95s/it]\n"
     ]
    },
    {
     "name": "stdout",
     "output_type": "stream",
     "text": [
      "1e-06\n",
      "accuracy_0: 0.935064935064935, 0.9608938547486033, 0.935064935064935\n",
      "accuracy_1: 0.8307692307692308, 0.9172185430463576, 0.8307692307692308\n",
      "accuracy_2: 0.9, 0.9508196721311475, 0.5\n",
      "accuracy_3: 0.8813056379821959, 0.9402035623409669, 0.8283261802575107\n"
     ]
    },
    {
     "name": "stderr",
     "output_type": "stream",
     "text": [
      "Epoch[21/49]: 100%|██████████████████████████████████████████████████████████████████████| 7/7 [00:13<00:00,  1.92s/it]\n"
     ]
    },
    {
     "name": "stdout",
     "output_type": "stream",
     "text": [
      "1e-06\n",
      "accuracy_0: 0.935064935064935, 0.9720670391061452, 0.935064935064935\n",
      "accuracy_1: 0.8153846153846154, 0.9271523178807947, 0.8153846153846154\n",
      "accuracy_2: 0.9, 0.9508196721311475, 0.5\n",
      "accuracy_3: 0.8753709198813057, 0.9465648854961832, 0.8197424892703863\n"
     ]
    },
    {
     "name": "stderr",
     "output_type": "stream",
     "text": [
      "  0%|                                                                                            | 0/7 [00:01<?, ?it/s]\n"
     ]
    },
    {
     "ename": "KeyboardInterrupt",
     "evalue": "",
     "output_type": "error",
     "traceback": [
      "\u001b[1;31m---------------------------------------------------------------------------\u001b[0m",
      "\u001b[1;31mKeyboardInterrupt\u001b[0m                         Traceback (most recent call last)",
      "Input \u001b[1;32mIn [19]\u001b[0m, in \u001b[0;36m<cell line: 3>\u001b[1;34m()\u001b[0m\n\u001b[0;32m     11\u001b[0m loss \u001b[38;5;241m=\u001b[39m criterion(scores, targets)\n\u001b[0;32m     13\u001b[0m optimizer\u001b[38;5;241m.\u001b[39mzero_grad()\n\u001b[1;32m---> 14\u001b[0m \u001b[43mloss\u001b[49m\u001b[38;5;241;43m.\u001b[39;49m\u001b[43mbackward\u001b[49m\u001b[43m(\u001b[49m\u001b[43m)\u001b[49m\n\u001b[0;32m     16\u001b[0m optimizer\u001b[38;5;241m.\u001b[39mstep()\n\u001b[0;32m     17\u001b[0m predictions \u001b[38;5;241m=\u001b[39m torch\u001b[38;5;241m.\u001b[39margmax(scores, dim\u001b[38;5;241m=\u001b[39m\u001b[38;5;241m1\u001b[39m)\n",
      "File \u001b[1;32mE:\\Software\\anaconda3\\envs\\torch\\lib\\site-packages\\torch\\tensor.py:245\u001b[0m, in \u001b[0;36mTensor.backward\u001b[1;34m(self, gradient, retain_graph, create_graph, inputs)\u001b[0m\n\u001b[0;32m    236\u001b[0m \u001b[38;5;28;01mif\u001b[39;00m has_torch_function_unary(\u001b[38;5;28mself\u001b[39m):\n\u001b[0;32m    237\u001b[0m     \u001b[38;5;28;01mreturn\u001b[39;00m handle_torch_function(\n\u001b[0;32m    238\u001b[0m         Tensor\u001b[38;5;241m.\u001b[39mbackward,\n\u001b[0;32m    239\u001b[0m         (\u001b[38;5;28mself\u001b[39m,),\n\u001b[1;32m   (...)\u001b[0m\n\u001b[0;32m    243\u001b[0m         create_graph\u001b[38;5;241m=\u001b[39mcreate_graph,\n\u001b[0;32m    244\u001b[0m         inputs\u001b[38;5;241m=\u001b[39minputs)\n\u001b[1;32m--> 245\u001b[0m \u001b[43mtorch\u001b[49m\u001b[38;5;241;43m.\u001b[39;49m\u001b[43mautograd\u001b[49m\u001b[38;5;241;43m.\u001b[39;49m\u001b[43mbackward\u001b[49m\u001b[43m(\u001b[49m\u001b[38;5;28;43mself\u001b[39;49m\u001b[43m,\u001b[49m\u001b[43m \u001b[49m\u001b[43mgradient\u001b[49m\u001b[43m,\u001b[49m\u001b[43m \u001b[49m\u001b[43mretain_graph\u001b[49m\u001b[43m,\u001b[49m\u001b[43m \u001b[49m\u001b[43mcreate_graph\u001b[49m\u001b[43m,\u001b[49m\u001b[43m \u001b[49m\u001b[43minputs\u001b[49m\u001b[38;5;241;43m=\u001b[39;49m\u001b[43minputs\u001b[49m\u001b[43m)\u001b[49m\n",
      "File \u001b[1;32mE:\\Software\\anaconda3\\envs\\torch\\lib\\site-packages\\torch\\autograd\\__init__.py:145\u001b[0m, in \u001b[0;36mbackward\u001b[1;34m(tensors, grad_tensors, retain_graph, create_graph, grad_variables, inputs)\u001b[0m\n\u001b[0;32m    142\u001b[0m \u001b[38;5;28;01mif\u001b[39;00m retain_graph \u001b[38;5;129;01mis\u001b[39;00m \u001b[38;5;28;01mNone\u001b[39;00m:\n\u001b[0;32m    143\u001b[0m     retain_graph \u001b[38;5;241m=\u001b[39m create_graph\n\u001b[1;32m--> 145\u001b[0m \u001b[43mVariable\u001b[49m\u001b[38;5;241;43m.\u001b[39;49m\u001b[43m_execution_engine\u001b[49m\u001b[38;5;241;43m.\u001b[39;49m\u001b[43mrun_backward\u001b[49m\u001b[43m(\u001b[49m\n\u001b[0;32m    146\u001b[0m \u001b[43m    \u001b[49m\u001b[43mtensors\u001b[49m\u001b[43m,\u001b[49m\u001b[43m \u001b[49m\u001b[43mgrad_tensors_\u001b[49m\u001b[43m,\u001b[49m\u001b[43m \u001b[49m\u001b[43mretain_graph\u001b[49m\u001b[43m,\u001b[49m\u001b[43m \u001b[49m\u001b[43mcreate_graph\u001b[49m\u001b[43m,\u001b[49m\u001b[43m \u001b[49m\u001b[43minputs\u001b[49m\u001b[43m,\u001b[49m\n\u001b[0;32m    147\u001b[0m \u001b[43m    \u001b[49m\u001b[43mallow_unreachable\u001b[49m\u001b[38;5;241;43m=\u001b[39;49m\u001b[38;5;28;43;01mTrue\u001b[39;49;00m\u001b[43m,\u001b[49m\u001b[43m \u001b[49m\u001b[43maccumulate_grad\u001b[49m\u001b[38;5;241;43m=\u001b[39;49m\u001b[38;5;28;43;01mTrue\u001b[39;49;00m\u001b[43m)\u001b[49m\n",
      "\u001b[1;31mKeyboardInterrupt\u001b[0m: "
     ]
    }
   ],
   "source": [
    "# Train the network\n",
    "\n",
    "for epoch in range(num_epochs):\n",
    "    batch_loss = np.array([])\n",
    "    loop = tqdm(enumerate(train_loader), total=len(train_loader))\n",
    "    for batch_idx, (data, targets) in loop:\n",
    "        data = data.to(device=device)\n",
    "        targets = targets.to(device=device)\n",
    "\n",
    "        scores = model(data)\n",
    "        loss = criterion(scores, targets)\n",
    "\n",
    "        optimizer.zero_grad()\n",
    "        loss.backward()\n",
    "\n",
    "        optimizer.step()\n",
    "        predictions = torch.argmax(scores, dim=1)\n",
    "               \n",
    "        loop.set_description(f\"Epoch[{epoch}/{num_epochs - 1}]\")\n",
    "        \n",
    "        batch_loss = np.append(batch_loss, loss.item())\n",
    "    \n",
    "    scheduler.step()\n",
    "    eval_hist[0][0].append(np.average(batch_loss))\n",
    "    \n",
    "    for ee, eh in zip(eval_ent, eval_hist):\n",
    "        ev = evaluate(ee, model)\n",
    "        for i in range(len(ev)):\n",
    "            eh[i + 1].append(ev[i])\n",
    "        \n",
    "    if eval_hist[2][-1][-1] > highest_acc:\n",
    "        print(f\"Best is on {epoch} epoch\") \n",
    "        torch.save(model.state_dict(), os.getcwd() + f\"\\\\ResNet3D_노균병_best.pt\")\n",
    "        highest_acc = eval_hist[2][-1][-1]\n",
    "        \n",
    "    print(optimizer.param_groups[0]['lr'])   \n",
    "    for i in range(num_classes + 1):\n",
    "        print(f\"accuracy_{i}: {eval_hist[0][i + 1][-1]}, {eval_hist[1][i + 1][-1]}, {eval_hist[2][i + 1][-1]}\")"
   ]
  },
  {
   "cell_type": "code",
   "execution_count": null,
   "id": "7233d6bb-ed43-4900-b860-81eb3c2d2b69",
   "metadata": {},
   "outputs": [],
   "source": [
    "# Draw training graph\n",
    "\n",
    "def smooth(y, box_pts=50):\n",
    "    y = [y[0] for i in range(box_pts)] + y + [y[-1] for i in range(box_pts)]\n",
    "    box = np.ones(box_pts) / box_pts\n",
    "    y_smooth = np.convolve(y, box, mode='same')\n",
    "    return y_smooth[box_pts: -box_pts]\n",
    "\n",
    "eval_hist_s = []\n",
    "\n",
    "for data in eval_hist:\n",
    "    data_c = copy.deepcopy(data)\n",
    "    for i in range(len(data_c)):\n",
    "        if len(data_c[i]) > 0: \n",
    "            data_c[i] = smooth(data_c[i])\n",
    "        \n",
    "    eval_hist_s.append(data_c)\n",
    "\n",
    "epochs = [e for e in range(num_epochs)]\n",
    "\n",
    "plt.figure(figsize=(5, 10))\n",
    "for i in range(num_classes):\n",
    "    ax = plt.subplot(311 + i)\n",
    "    ax.set_title(classes[i])\n",
    "    ax.plot(epochs, eval_hist_s[1][1 + i], 'blue', label='train smooth')\n",
    "    ax.plot(epochs, eval_hist[1][1 + i], 'steelblue', linestyle='dashed', label='train')\n",
    "    \n",
    "    ax.plot(epochs, eval_hist_s[2][1 + i], 'red', label='test smooth')\n",
    "    ax.plot(epochs, eval_hist[2][1 + i], 'lightcoral', linestyle='dashed', label='test')\n",
    "    \n",
    "    ax.legend(loc='lower right')\n",
    "\n",
    "    \n",
    "plt.figure(figsize=(5, 3))    \n",
    "plt.plot(epochs, eval_hist_s[1][1 + num_classes], label='train smooth')\n",
    "plt.plot(epochs, eval_hist[1][1 + num_classes], linestyle='dashed', label='train')   \n",
    "plt.ylim(0, 2)\n",
    "plt.title(\"loss\")"
   ]
  },
  {
   "cell_type": "code",
   "execution_count": null,
   "id": "631171fd-30ef-4482-a641-4513d0a5fe28",
   "metadata": {},
   "outputs": [],
   "source": [
    "# save last\n",
    "torch.save(model.state_dict(), os.getcwd() + \"\\\\ResNet3D_노균병_last_ep.pt\")\n",
    "\n",
    "# Load weights\n",
    "model.load_state_dict(torch.load(os.getcwd() + \"\\\\ResNet3D_노균병_best.pt\"))"
   ]
  },
  {
   "cell_type": "code",
   "execution_count": null,
   "id": "3aab5706-bd93-490a-81ee-01864741acef",
   "metadata": {},
   "outputs": [],
   "source": [
    "# Predict \n",
    "\n",
    "def predictDataset(loader, model, savefig=False):\n",
    "    actual = np.array([])\n",
    "    prediction = np.array([])\n",
    "    model.eval()\n",
    "\n",
    "    with torch.no_grad():\n",
    "        for x, y in loader:\n",
    "            x = x.to(device=device)\n",
    "            y = y.to(device=device)\n",
    "\n",
    "            scores = model(x)\n",
    "            _, predictions = scores.max(1)\n",
    "            actual = np.append(actual, y.cpu().detach().numpy())\n",
    "            prediction = np.append(prediction, predictions.cpu().detach().numpy())\n",
    "    \n",
    "    return actual, prediction"
   ]
  },
  {
   "cell_type": "code",
   "execution_count": null,
   "id": "91781664-e130-4079-be6d-bfc6a69bd836",
   "metadata": {},
   "outputs": [],
   "source": [
    "predictions = []\n",
    "for dataset in loaders:\n",
    "    predictions.append(predictDataset(dataset, model))"
   ]
  },
  {
   "cell_type": "code",
   "execution_count": null,
   "id": "6038e48d-c76a-4f9f-bbff-53a7de11656f",
   "metadata": {},
   "outputs": [],
   "source": [
    "def drawConfusionMatrix(actual, prediction, normalize=True, savefig=False):\n",
    "    confusion_matrix = metrics.confusion_matrix(actual, prediction)\n",
    "    cmn = confusion_matrix.astype('float') / confusion_matrix.sum(axis=1)[:, np.newaxis]\n",
    "    \n",
    "    if normalize:\n",
    "        confusion_matrix = cmn\n",
    "    \n",
    "    cm_display = metrics.ConfusionMatrixDisplay(confusion_matrix = confusion_matrix, display_labels = [\"0\", \"1\", \"2\"])\n",
    "    cm_display.plot()\n",
    "    plt.show()\n",
    "    \n",
    "    if savefig:\n",
    "        plt.savefig('confusion_matrix.png')"
   ]
  },
  {
   "cell_type": "code",
   "execution_count": null,
   "id": "3e1ca926-2424-45d1-9971-67f683562bdd",
   "metadata": {},
   "outputs": [],
   "source": [
    "for actual, prediction in predictions:\n",
    "    drawConfusionMatrix(actual, prediction, normalize=True)"
   ]
  },
  {
   "cell_type": "code",
   "execution_count": null,
   "id": "15041660-d67c-44f8-bbd2-ce2464e68877",
   "metadata": {},
   "outputs": [],
   "source": []
  }
 ],
 "metadata": {
  "kernelspec": {
   "display_name": "Python 3 (ipykernel)",
   "language": "python",
   "name": "python3"
  },
  "language_info": {
   "codemirror_mode": {
    "name": "ipython",
    "version": 3
   },
   "file_extension": ".py",
   "mimetype": "text/x-python",
   "name": "python",
   "nbconvert_exporter": "python",
   "pygments_lexer": "ipython3",
   "version": "3.8.13"
  }
 },
 "nbformat": 4,
 "nbformat_minor": 5
}
