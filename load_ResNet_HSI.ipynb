{
 "cells": [
  {
   "cell_type": "code",
   "execution_count": 1,
   "id": "e036fa61-087d-4af1-ad64-720b3cdb496e",
   "metadata": {},
   "outputs": [
    {
     "name": "stderr",
     "output_type": "stream",
     "text": [
      "E:\\Software\\anaconda3\\envs\\torch\\lib\\site-packages\\tqdm\\auto.py:22: TqdmWarning: IProgress not found. Please update jupyter and ipywidgets. See https://ipywidgets.readthedocs.io/en/stable/user_install.html\n",
      "  from .autonotebook import tqdm as notebook_tqdm\n"
     ]
    }
   ],
   "source": [
    "# Imports\n",
    "import torch\n",
    "import matplotlib.pyplot as plt\n",
    "import torchvision # torch package for vision related things\n",
    "import torch.nn.functional as F  # Parameterless functions, like (some) activation functions\n",
    "import torchvision.datasets as datasets  # Standard datasets\n",
    "from torch.utils.data import Dataset \n",
    "from torch.utils.data import random_split \n",
    "import torchvision.transforms as transforms  # Transformations we can perform on our dataset for augmentation\n",
    "import os\n",
    "import shutil\n",
    "import numpy as np\n",
    "import pandas as pd\n",
    "from torchvision.io import read_image\n",
    "from torch import optim  # For optimizers like SGD, Adam, etc.\n",
    "from torch import nn  # All neural network modules\n",
    "from torch.utils.data import DataLoader  # Gives easier dataset managment by creating mini batches etc.\n",
    "from sklearn.metrics import precision_score, accuracy_score, recall_score, f1_score\n",
    "from tqdm import tqdm  # For nice progress bar!\n",
    "\n",
    "from dataGen import Patches\n",
    "from PIL import Image\n",
    "import spectral as spec"
   ]
  },
  {
   "cell_type": "code",
   "execution_count": 2,
   "id": "d5cd65c8-40d0-43be-a307-89c31f62970b",
   "metadata": {},
   "outputs": [],
   "source": [
    "class ResNet(nn.Module):\n",
    "    def __init__(self, in_channels=14, num_classes=2):\n",
    "        super().__init__()\n",
    "        self.conv1 = nn.Conv2d(in_channels=in_channels, out_channels=64, kernel_size=3, stride=1, padding=1, bias=False)\n",
    "        self.conv2 = nn.Conv2d(in_channels=64, out_channels=64, kernel_size=3, stride=1, padding=1, bias=False)\n",
    "        self.bn1 = nn.BatchNorm2d(64)\n",
    "        self.maxpool = nn.MaxPool2d(kernel_size=2, stride=2, padding=1)\n",
    "        \n",
    "        self.conv3 = nn.Conv2d(in_channels=64, out_channels=64, kernel_size=3, stride=1, padding=1, bias=False)\n",
    "        self.conv4 = nn.Conv2d(in_channels=64, out_channels=64, kernel_size=3, stride=1, padding=1, bias=False)\n",
    "        self.bn2 = nn.BatchNorm2d(64)\n",
    "        self.relu = nn.ReLU(inplace=True)\n",
    "        self.maxpool2 = nn.MaxPool2d(kernel_size=2, stride=2, padding=1)\n",
    "        \n",
    "        self.relu = nn.ReLU(inplace=True)\n",
    "        \n",
    "        self.downsample = nn.Sequential(\n",
    "            nn.Conv2d(14, 64, 1, stride=1, bias=False),\n",
    "            nn.BatchNorm2d(64),\n",
    "        )\n",
    "        \n",
    "        self.fc1 = nn.Linear(1024, 512)\n",
    "        self.dropout = nn.Dropout(p=0.2)\n",
    "        self.fc2 = nn.Linear(512, num_classes)\n",
    "            \n",
    "    def forward(self, x):\n",
    "        identity = x\n",
    "        x = self.conv1(x)  \n",
    "        x = self.conv2(x)      \n",
    "        x = self.bn1(x)\n",
    "        x += self.downsample(identity)\n",
    "        x = self.relu(x)\n",
    "        x = self.maxpool(x)         \n",
    "        \n",
    "        identity = x\n",
    "        x = self.conv3(x)  \n",
    "        x = self.conv4(x)      \n",
    "        x = self.bn2(x)\n",
    "        x += identity\n",
    "        x = self.relu(x)\n",
    "        x = self.maxpool2(x)\n",
    "        \n",
    "        x = torch.flatten(x, 1)\n",
    "        x = self.fc1(x)\n",
    "        x = self.dropout(x)\n",
    "        x = self.fc2(x)\n",
    "\n",
    "        return x"
   ]
  },
  {
   "cell_type": "code",
   "execution_count": 3,
   "id": "0a6e568e-fe6c-42d3-aead-c5afb1c666d2",
   "metadata": {},
   "outputs": [],
   "source": [
    "# Set device\n",
    "device = torch.device(\"cuda\" if torch.cuda.is_available() else \"cpu\")"
   ]
  },
  {
   "cell_type": "code",
   "execution_count": 4,
   "id": "70cc6c70-bb85-4f2f-9157-62a880f1f7ef",
   "metadata": {},
   "outputs": [],
   "source": [
    "# Hyperparameters\n",
    "in_channels = 14\n",
    "num_classes = 2\n",
    "img_size = 12\n",
    "learning_rate = 0.0001\n",
    "batch_size = 128\n",
    "num_epochs = 60"
   ]
  },
  {
   "cell_type": "code",
   "execution_count": 5,
   "id": "a2be5408-8fcd-4274-92b7-d00188f5bf91",
   "metadata": {},
   "outputs": [
    {
     "data": {
      "text/plain": [
       "Compose(\n",
       "    ToTensor()\n",
       "    Resize(size=(12, 12), interpolation=bilinear)\n",
       "    ConvertImageDtype()\n",
       ")"
      ]
     },
     "execution_count": 5,
     "metadata": {},
     "output_type": "execute_result"
    }
   ],
   "source": [
    "# Transformers\n",
    "img_transform = transforms.Compose([\n",
    "    transforms.ToTensor(),\n",
    "    transforms.Resize((img_size, img_size)),\n",
    "    transforms.ConvertImageDtype(torch.float)])\n",
    "img_transform"
   ]
  },
  {
   "cell_type": "code",
   "execution_count": 52,
   "id": "b3770663-2d2c-4dae-a7c5-c7f5d162830d",
   "metadata": {},
   "outputs": [
    {
     "name": "stdout",
     "output_type": "stream",
     "text": [
      "For hdr image, there are: \n",
      " leaf          5933\n",
      "background    4746\n",
      "diseased        76\n",
      "Name: class, dtype: int64\n",
      "For jpg image, there are: \n",
      " leaf          5933\n",
      "background    4746\n",
      "diseased        76\n",
      "Name: class, dtype: int64\n"
     ]
    }
   ],
   "source": [
    "patch = Patches(\"D:\\\\gyeongsang_22_10_21_1\\\\PATCHES\")\n",
    "patch.describe()"
   ]
  },
  {
   "cell_type": "code",
   "execution_count": 53,
   "id": "3d8725e2-b301-4045-8409-aefb292d47dc",
   "metadata": {},
   "outputs": [
    {
     "data": {
      "text/html": [
       "<div>\n",
       "<style scoped>\n",
       "    .dataframe tbody tr th:only-of-type {\n",
       "        vertical-align: middle;\n",
       "    }\n",
       "\n",
       "    .dataframe tbody tr th {\n",
       "        vertical-align: top;\n",
       "    }\n",
       "\n",
       "    .dataframe thead th {\n",
       "        text-align: right;\n",
       "    }\n",
       "</style>\n",
       "<table border=\"1\" class=\"dataframe\">\n",
       "  <thead>\n",
       "    <tr style=\"text-align: right;\">\n",
       "      <th></th>\n",
       "      <th>path</th>\n",
       "      <th>type</th>\n",
       "      <th>class</th>\n",
       "    </tr>\n",
       "  </thead>\n",
       "  <tbody>\n",
       "    <tr>\n",
       "      <th>count</th>\n",
       "      <td>1596</td>\n",
       "      <td>1596</td>\n",
       "      <td>1596</td>\n",
       "    </tr>\n",
       "    <tr>\n",
       "      <th>unique</th>\n",
       "      <td>1596</td>\n",
       "      <td>1</td>\n",
       "      <td>2</td>\n",
       "    </tr>\n",
       "    <tr>\n",
       "      <th>top</th>\n",
       "      <td>D:\\gyeongsang_22_10_21_1\\PATCHES\\MOS_CAL_GEORE...</td>\n",
       "      <td>hdr</td>\n",
       "      <td>0</td>\n",
       "    </tr>\n",
       "    <tr>\n",
       "      <th>freq</th>\n",
       "      <td>1</td>\n",
       "      <td>1596</td>\n",
       "      <td>1520</td>\n",
       "    </tr>\n",
       "  </tbody>\n",
       "</table>\n",
       "</div>"
      ],
      "text/plain": [
       "                                                     path  type  class\n",
       "count                                                1596  1596   1596\n",
       "unique                                               1596     1      2\n",
       "top     D:\\gyeongsang_22_10_21_1\\PATCHES\\MOS_CAL_GEORE...   hdr      0\n",
       "freq                                                    1  1596   1520"
      ]
     },
     "execution_count": 53,
     "metadata": {},
     "output_type": "execute_result"
    }
   ],
   "source": [
    "patch_dataset = patch.generateDataset(\n",
    "    dataset_composition = [\n",
    "        ['diseased',    76],\n",
    "        ['leaf',        760],\n",
    "        ['background',  760]],\n",
    "    data_type = 'hdr')\n",
    "\n",
    "patch_dataset.loc[(patch_dataset['class'] == 'background'), 'class'] = 0\n",
    "patch_dataset.loc[(patch_dataset['class'] == 'leaf'), 'class'] = 0\n",
    "patch_dataset.loc[(patch_dataset['class'] == 'diseased'), 'class'] = 1\n",
    "\n",
    "patch_dataset.describe()"
   ]
  },
  {
   "cell_type": "code",
   "execution_count": 54,
   "id": "154574f4-c135-487f-8760-de03f8f4e0f8",
   "metadata": {},
   "outputs": [],
   "source": [
    "# Custom Image Dataset\n",
    "class Img(Dataset):\n",
    "    def __init__(self, img_df, transform=None, s=100):\n",
    "        self.img_df = img_df\n",
    "        self.transform = transform\n",
    "\n",
    "    def __len__(self):\n",
    "        return len(self.img_df)\n",
    "\n",
    "    def __getitem__(self, idx):\n",
    "        img_path = self.img_df['path'].iloc[idx]\n",
    "        img = spec.envi.open(img_path)\n",
    "        np_img = np.array(img[:, :, [5, 10, 15, 20, 25, 30, 35, 40, 45, 50, 55, 60, 65, 70]])\n",
    "        label = self.img_df['class'].iloc[idx]\n",
    "        if self.transform:\n",
    "            image = self.transform(np_img)\n",
    "        return image, label"
   ]
  },
  {
   "cell_type": "code",
   "execution_count": 55,
   "id": "9f6c3bce-8ad6-4176-b757-bf6528caa250",
   "metadata": {},
   "outputs": [],
   "source": [
    "dataset = Img(img_df=patch_dataset, transform=img_transform)\n",
    "dataset = DataLoader(dataset=dataset, batch_size=batch_size, shuffle=True)"
   ]
  },
  {
   "cell_type": "code",
   "execution_count": 56,
   "id": "3d01040b-2370-4dd7-b3b1-1274de5944c6",
   "metadata": {},
   "outputs": [
    {
     "data": {
      "text/plain": [
       "torch.Size([128, 14, 12, 12])"
      ]
     },
     "execution_count": 56,
     "metadata": {},
     "output_type": "execute_result"
    }
   ],
   "source": [
    "next(iter(dataset))[0].shape   "
   ]
  },
  {
   "cell_type": "code",
   "execution_count": 57,
   "id": "141814c1-64fa-4574-aaf6-82212ac755a8",
   "metadata": {},
   "outputs": [],
   "source": [
    "def tensorToImg(tensor):\n",
    "    img = torch.zeros(img_size, img_size, 1)\n",
    "    for c_y, y in enumerate(tensor[0]):\n",
    "        for c_x, x in enumerate(y):\n",
    "            img[c_y][c_x] = x\n",
    "    return img"
   ]
  },
  {
   "cell_type": "code",
   "execution_count": 58,
   "id": "135d793e-0e18-4ff5-a548-f6f44aa49100",
   "metadata": {},
   "outputs": [],
   "source": [
    "def displayImgs(imgs, labels, save=False):\n",
    "    fig = plt.figure(figsize=(20,11))\n",
    "    for pos, i in enumerate(imgs[:8]):\n",
    "        img = tensorToImg(i)\n",
    "        label = \"downy mildew\"\n",
    "        if labels[pos] == 0:\n",
    "            label = \"Non-disease\"\n",
    "        fig.add_subplot(4, 8, pos + 1).title.set_text(label)\n",
    "        plt.imshow(img)\n",
    "    plt.subplots_adjust(wspace=0.2)\n",
    "    plt.show()\n",
    "    if save:\n",
    "        fig.savefig('fig.png')"
   ]
  },
  {
   "cell_type": "code",
   "execution_count": 59,
   "id": "a08420aa-169a-40d7-963a-211380c91dde",
   "metadata": {},
   "outputs": [
    {
     "data": {
      "image/png": "[encoded data removed]",
      "text/plain": [
       "<Figure size 1440x792 with 8 Axes>"
      ]
     },
     "metadata": {
      "needs_background": "light"
     },
     "output_type": "display_data"
    }
   ],
   "source": [
    "for train_sample in dataset:\n",
    "    displayImgs(train_sample[0], train_sample[1], save=False)\n",
    "    break"
   ]
  },
  {
   "cell_type": "code",
   "execution_count": 60,
   "id": "91a6aa8c-5541-49cc-8f53-26df557b0f9b",
   "metadata": {},
   "outputs": [],
   "source": [
    "# Initialize network\n",
    "model = ResNet(in_channels=in_channels, num_classes=num_classes).to(device)"
   ]
  },
  {
   "cell_type": "code",
   "execution_count": 61,
   "id": "65c452d0-a599-472c-bb39-080acbf51d95",
   "metadata": {},
   "outputs": [
    {
     "data": {
      "text/plain": [
       "<All keys matched successfully>"
      ]
     },
     "execution_count": 61,
     "metadata": {},
     "output_type": "execute_result"
    }
   ],
   "source": [
    "# Load weights\n",
    "model.load_state_dict(torch.load(os.getcwd() + \"\\\\ResNet_downy_mildew_HSI_result\\\\downy_mildew_ResNet_HSI.pt\"))"
   ]
  },
  {
   "cell_type": "code",
   "execution_count": 62,
   "id": "31d1b1b0-6268-4a79-beee-be9efc8bde54",
   "metadata": {},
   "outputs": [
    {
     "data": {
      "text/plain": [
       "ResNet(\n",
       "  (conv1): Conv2d(14, 64, kernel_size=(3, 3), stride=(1, 1), padding=(1, 1), bias=False)\n",
       "  (conv2): Conv2d(64, 64, kernel_size=(3, 3), stride=(1, 1), padding=(1, 1), bias=False)\n",
       "  (bn1): BatchNorm2d(64, eps=1e-05, momentum=0.1, affine=True, track_running_stats=True)\n",
       "  (maxpool): MaxPool2d(kernel_size=2, stride=2, padding=1, dilation=1, ceil_mode=False)\n",
       "  (conv3): Conv2d(64, 64, kernel_size=(3, 3), stride=(1, 1), padding=(1, 1), bias=False)\n",
       "  (conv4): Conv2d(64, 64, kernel_size=(3, 3), stride=(1, 1), padding=(1, 1), bias=False)\n",
       "  (bn2): BatchNorm2d(64, eps=1e-05, momentum=0.1, affine=True, track_running_stats=True)\n",
       "  (relu): ReLU(inplace=True)\n",
       "  (maxpool2): MaxPool2d(kernel_size=2, stride=2, padding=1, dilation=1, ceil_mode=False)\n",
       "  (downsample): Sequential(\n",
       "    (0): Conv2d(14, 64, kernel_size=(1, 1), stride=(1, 1), bias=False)\n",
       "    (1): BatchNorm2d(64, eps=1e-05, momentum=0.1, affine=True, track_running_stats=True)\n",
       "  )\n",
       "  (fc1): Linear(in_features=1024, out_features=512, bias=True)\n",
       "  (dropout): Dropout(p=0.2, inplace=False)\n",
       "  (fc2): Linear(in_features=512, out_features=2, bias=True)\n",
       ")"
      ]
     },
     "execution_count": 62,
     "metadata": {},
     "output_type": "execute_result"
    }
   ],
   "source": [
    "model.eval()"
   ]
  },
  {
   "cell_type": "code",
   "execution_count": 63,
   "id": "0910e325-dc85-4573-8465-31370302ddc9",
   "metadata": {},
   "outputs": [],
   "source": [
    "# Predict \n",
    "def predict(loader, model, savefig=False):\n",
    "    model.eval()\n",
    "\n",
    "    with torch.no_grad():\n",
    "        for x, y in loader:\n",
    "            x = x.to(device=device)\n",
    "            y = y.to(device=device)\n",
    "\n",
    "            scores = model(x)\n",
    "            _, predictions = scores.max(1)\n",
    "            displayImgs(x, predictions, savefig)\n",
    "            break\n",
    "    model.train()"
   ]
  },
  {
   "cell_type": "code",
   "execution_count": 64,
   "id": "c7dbd48b-ff4f-4db9-86ee-3c3dc9a448a5",
   "metadata": {},
   "outputs": [
    {
     "data": {
      "image/png": "[encoded data removed]",
      "text/plain": [
       "<Figure size 1440x792 with 8 Axes>"
      ]
     },
     "metadata": {
      "needs_background": "light"
     },
     "output_type": "display_data"
    }
   ],
   "source": [
    "predict(dataset, model, savefig=True)"
   ]
  },
  {
   "cell_type": "code",
   "execution_count": 65,
   "id": "23c9c190-9335-4b1d-b6a7-3c86859e7ebd",
   "metadata": {},
   "outputs": [],
   "source": [
    "# Predict \n",
    "def predict2(loader, model, savefig=False):\n",
    "    actual = np.array([])\n",
    "    prediction = np.array([])\n",
    "    model.eval()\n",
    "\n",
    "    with torch.no_grad():\n",
    "        for x, y in loader:\n",
    "            x = x.to(device=device)\n",
    "            y = y.to(device=device)\n",
    "\n",
    "            scores = model(x)\n",
    "            _, predictions = scores.max(1)\n",
    "            actual = np.append(actual, y.cpu().detach().numpy())\n",
    "            prediction = np.append(prediction, predictions.cpu().detach().numpy())\n",
    "    model.train()\n",
    "    \n",
    "    return actual, prediction"
   ]
  },
  {
   "cell_type": "code",
   "execution_count": 66,
   "id": "6e4f495a-fe2a-487b-a9d8-5eeaa31d0821",
   "metadata": {},
   "outputs": [],
   "source": [
    "actual, prediction = predict2(dataset, model)"
   ]
  },
  {
   "cell_type": "code",
   "execution_count": 67,
   "id": "bacf15f6-b698-457a-b99f-76af6e9493b5",
   "metadata": {},
   "outputs": [
    {
     "name": "stdout",
     "output_type": "stream",
     "text": [
      "[0. 0. 0. ... 1. 0. 1.]\n"
     ]
    }
   ],
   "source": [
    "print(actual)"
   ]
  },
  {
   "cell_type": "code",
   "execution_count": 68,
   "id": "5a583853-6786-4061-b46a-dff331edd587",
   "metadata": {},
   "outputs": [
    {
     "name": "stdout",
     "output_type": "stream",
     "text": [
      "[0. 0. 0. ... 0. 0. 0.]\n"
     ]
    }
   ],
   "source": [
    "print(prediction)"
   ]
  },
  {
   "cell_type": "code",
   "execution_count": 69,
   "id": "a8539e4b-4252-4490-b90b-5024b5aad8d3",
   "metadata": {},
   "outputs": [],
   "source": [
    "from sklearn import metrics\n",
    "\n",
    "confusion_matrix = metrics.confusion_matrix(actual, prediction)\n",
    "cmn = confusion_matrix.astype('float') / confusion_matrix.sum(axis=1)[:, np.newaxis]"
   ]
  },
  {
   "cell_type": "code",
   "execution_count": 70,
   "id": "a9011188-0375-4c39-a569-da556b0f2f9c",
   "metadata": {},
   "outputs": [],
   "source": [
    "cm_display = metrics.ConfusionMatrixDisplay(confusion_matrix = confusion_matrix, display_labels = [\"non-diseased\", \"diseased\"])"
   ]
  },
  {
   "cell_type": "code",
   "execution_count": 71,
   "id": "b807483c-a296-42c0-b261-49ac8045a71b",
   "metadata": {},
   "outputs": [
    {
     "data": {
      "image/png": "[encoded data removed]",
      "text/plain": [
       "<Figure size 432x288 with 2 Axes>"
      ]
     },
     "metadata": {
      "needs_background": "light"
     },
     "output_type": "display_data"
    }
   ],
   "source": [
    "cm_display.plot()\n",
    "plt.savefig('confusion_matrix.png')\n",
    "plt.show()"
   ]
  },
  {
   "cell_type": "code",
   "execution_count": null,
   "id": "bd9acf62-497e-4d92-8490-49b3860f29e7",
   "metadata": {},
   "outputs": [],
   "source": []
  }
 ],
 "metadata": {
  "kernelspec": {
   "display_name": "Python 3 (ipykernel)",
   "language": "python",
   "name": "python3"
  },
  "language_info": {
   "codemirror_mode": {
    "name": "ipython",
    "version": 3
   },
   "file_extension": ".py",
   "mimetype": "text/x-python",
   "name": "python",
   "nbconvert_exporter": "python",
   "pygments_lexer": "ipython3",
   "version": "3.8.13"
  },
  "vscode": {
   "interpreter": {
    "hash": "ad4f31c54e426d532c68974d217d07191913b90d0d60a1b98136b2fdbf775071"
   }
  }
 },
 "nbformat": 4,
 "nbformat_minor": 5
}
