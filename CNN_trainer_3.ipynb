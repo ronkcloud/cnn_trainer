{
 "cells": [
  {
   "cell_type": "code",
   "execution_count": 1,
   "id": "53b3d5a6-10bd-4773-a1fd-9ecf719c2093",
   "metadata": {},
   "outputs": [
    {
     "name": "stderr",
     "output_type": "stream",
     "text": [
      "E:\\Software\\anaconda3\\envs\\torch\\lib\\site-packages\\tqdm\\auto.py:22: TqdmWarning: IProgress not found. Please update jupyter and ipywidgets. See https://ipywidgets.readthedocs.io/en/stable/user_install.html\n",
      "  from .autonotebook import tqdm as notebook_tqdm\n"
     ]
    }
   ],
   "source": [
    "# Imports\n",
    "import torch\n",
    "import os\n",
    "import numpy as np\n",
    "import pandas as pd\n",
    "import copy\n",
    "import matplotlib.pyplot as plt\n",
    "\n",
    "from torch.utils.data import DataLoader, ConcatDataset\n",
    "from tqdm import tqdm \n",
    "from sklearn import metrics\n",
    "\n",
    "from utils.dataGen import Patches\n",
    "from utils.datasets import *\n",
    "from ResNet.ResNet_3D_3 import ResNet_3D as CNN, ResidualBlock"
   ]
  },
  {
   "cell_type": "code",
   "execution_count": 2,
   "id": "bccb66fc-7ac7-4282-8948-c447e05f6849",
   "metadata": {},
   "outputs": [
    {
     "data": {
      "text/plain": [
       "(1, 'NVIDIA RTX A4000')"
      ]
     },
     "execution_count": 2,
     "metadata": {},
     "output_type": "execute_result"
    }
   ],
   "source": [
    "# Set device\n",
    "\n",
    "device = torch.device(\"cuda\" if torch.cuda.is_available() else \"cpu\")\n",
    "torch.cuda.device_count(), torch.cuda.get_device_name()"
   ]
  },
  {
   "cell_type": "code",
   "execution_count": 3,
   "id": "9e23d207-a12b-46d3-948f-384ad4986d59",
   "metadata": {},
   "outputs": [],
   "source": [
    "# Hyperparameters\n",
    "\n",
    "in_channels = 1\n",
    "classes = [\"background\", \"leaf\", \"diseased\"]\n",
    "num_classes = len(classes)\n",
    "weights = [1.0, 1.0, 1.0]\n",
    "rgb_bands = [7, 15, 32]\n",
    "# rgb_bands = [0]\n",
    "img_size = 20\n",
    "learning_rate = 1e-05\n",
    "lr_step = 20\n",
    "batch_size = 128\n",
    "num_epochs = 50\n",
    "frac = .7\n",
    "save_dataset = True\n",
    "augment = True\n",
    "count = True\n",
    "kfold = 1"
   ]
  },
  {
   "cell_type": "code",
   "execution_count": 4,
   "id": "e872502e-24eb-49e6-885c-f09818f41aa4",
   "metadata": {},
   "outputs": [
    {
     "name": "stdout",
     "output_type": "stream",
     "text": [
      "Num of trainable param: 16587075\n"
     ]
    }
   ],
   "source": [
    "# Initialize network\n",
    "\n",
    "# model = CNN(in_channels=in_channels, num_classes=num_classes).to(device)\n",
    "# model = ResNet(ResidualBlock, [2, 2, 2, 2], initial_inplanes = 55).to(device)\n",
    "model = CNN(ResidualBlock).to(device)\n",
    "print(\"Num of trainable param:\", sum(p.numel() for p in model.parameters() if p.requires_grad))"
   ]
  },
  {
   "cell_type": "code",
   "execution_count": 5,
   "id": "61c90be6-9990-4ec3-988b-3d0730c96628",
   "metadata": {},
   "outputs": [],
   "source": [
    "# Loss and optimizer\n",
    "\n",
    "class_weights = torch.FloatTensor(weights).cuda()\n",
    "criterion = torch.nn.CrossEntropyLoss(weight=class_weights)\n",
    "optimizer = torch.optim.Adam(model.parameters(), lr=learning_rate)\n",
    "scheduler = torch.optim.lr_scheduler.StepLR(optimizer, step_size=lr_step, gamma=0.1)"
   ]
  },
  {
   "cell_type": "code",
   "execution_count": 6,
   "id": "7005fd65-8ec8-4c03-9f75-443419e8228d",
   "metadata": {},
   "outputs": [],
   "source": [
    "# Init dataset\n",
    "\n",
    "p_14 = Patches(\"D:\\\\gyeongsang_22_10_14\\\\PATCHES\\\\STACK_75_BANDS_14\")\n",
    "p_14_h = Patches(\"D:\\\\gyeongsang_22_10_14\\\\PATCHES\\\\STACK_75_BANDS_14_5\")\n",
    "p_21 = Patches(\"D:\\\\gyeongsang_22_10_21_1\\\\PATCHES\\\\STACK_75_BANDS_21_1_2\")\n",
    "p_25_h = Patches(\"D:\\\\gyeongsang_22_10_25\\\\PATCHES\\\\STACK_75_BANDS_25_3\")\n",
    "p_25 = Patches(\"D:\\\\gyeongsang_22_10_25\\\\PATCHES\\\\STACK_75_BANDS_25\")\n",
    "p_28 = Patches(\"D:\\\\gyeongsang_22_10_28\\\\PATCHES\\\\STACK_75_BANDS_28\")\n",
    "p_28_h = Patches(\"D:\\\\gyeongsang_22_10_28\\\\PATCHES\\\\STACK_75_BANDS_28_healthy\")"
   ]
  },
  {
   "cell_type": "code",
   "execution_count": 7,
   "id": "04375b2d-5dd4-4dba-a1b6-0d2b5c34f8be",
   "metadata": {},
   "outputs": [
    {
     "name": "stdout",
     "output_type": "stream",
     "text": [
      "For hdr image, there are: \n",
      " leaf          5160\n",
      "background    4369\n",
      "diseased       215\n",
      "Name: class, dtype: int64 \n",
      "\n",
      "For hdr image, there are: \n",
      " leaf          1731\n",
      "background     597\n",
      "diseased       173\n",
      "Name: class, dtype: int64 \n",
      "\n",
      "For hdr image, there are: \n",
      " background    575\n",
      "leaf          338\n",
      "diseased       61\n",
      "Name: class, dtype: int64 \n",
      "\n",
      "For hdr image, there are: \n",
      " leaf    148\n",
      "Name: class, dtype: int64 \n",
      "\n",
      "For hdr image, there are: \n",
      " leaf          663\n",
      "background    650\n",
      "diseased      117\n",
      "Name: class, dtype: int64 \n",
      "\n",
      "For hdr image, there are: \n",
      " background    1148\n",
      "leaf           710\n",
      "diseased        96\n",
      "Name: class, dtype: int64 \n",
      "\n",
      "For hdr image, there are: \n",
      " leaf    271\n",
      "Name: class, dtype: int64 \n",
      "\n",
      "None None None None None None None\n"
     ]
    }
   ],
   "source": [
    "print(p_14.describe(),\n",
    "      p_14_h.describe(),\n",
    "      p_21.describe(),\n",
    "      p_25_h.describe(),\n",
    "      p_25.describe(),\n",
    "      p_28.describe(),\n",
    "      p_28_h.describe())"
   ]
  },
  {
   "cell_type": "code",
   "execution_count": 8,
   "id": "8c50e815-37fc-4484-9efa-56d08ac4b6db",
   "metadata": {},
   "outputs": [
    {
     "name": "stdout",
     "output_type": "stream",
     "text": [
      "Training set has 1357 samples [0 1 2] class indices included\n",
      "Validation set has 581 samples [0 1 2] class indices included\n",
      "   Example: D:\\gyeongsang_22_10_14\\PATCHES\\STACK_75_BANDS_14_5\\hdr\\background\\88_267.HDR\n",
      "   Unique: True\n",
      "\n",
      "\n",
      "Training set has 105 samples [0] class indices included\n",
      "Validation set has 45 samples [0] class indices included\n",
      "   Example: D:\\gyeongsang_22_10_14\\PATCHES\\STACK_75_BANDS_14\\hdr\\background\\101_374.HDR\n",
      "   Unique: True\n",
      "\n",
      "\n",
      "Training set has 148 samples [0 2] class indices included\n",
      "Validation set has 63 samples [0 2] class indices included\n",
      "   Example: D:\\gyeongsang_22_10_21_1\\PATCHES\\STACK_75_BANDS_21_1_2\\hdr\\background\\81_282.HDR\n",
      "   Unique: True\n",
      "\n",
      "\n",
      "Training set has 152 samples [0 2] class indices included\n",
      "Validation set has 65 samples [0 2] class indices included\n",
      "   Example: D:\\gyeongsang_22_10_25\\PATCHES\\STACK_75_BANDS_25\\hdr\\background\\52_399.HDR\n",
      "   Unique: True\n",
      "\n",
      "\n",
      "Training set has 137 samples [0 2] class indices included\n",
      "Validation set has 59 samples [0 2] class indices included\n",
      "   Example: D:\\gyeongsang_22_10_28\\PATCHES\\STACK_75_BANDS_28\\hdr\\background\\80_378.HDR\n",
      "   Unique: True\n",
      "\n",
      "\n"
     ]
    }
   ],
   "source": [
    "# Get dataset\n",
    "\n",
    "patch_14_hd = p_14_h.getDataset([40, 1725, 173])\n",
    "patch_14_b  = p_14.getDataset([150, 0, 0])\n",
    "patch_14    = [pd.concat([patch_14_hd[0], patch_14_b[0]]),\n",
    "               pd.concat([patch_14_hd[1], patch_14_b[1]])]\n",
    "\n",
    "patch_21    = p_21.getDataset([150, 0, 61])\n",
    "\n",
    "patch_25 = p_25.getDataset([100, 0, 117])\n",
    "# patch_25_h  = p_25_h.getDataset([0, 0, 0])\n",
    "# patch_25    = [pd.concat([patch_25_bd[0], patch_25_h[0]]),\n",
    "#                pd.concat([patch_25_bd[1], patch_25_h[1]])]\n",
    "\n",
    "patch_28    = p_28.getDataset([100, 0, 96])\n",
    "\n",
    "# Shuffle dataset\n",
    "\n",
    "def shuffle(patch):\n",
    "    return [patch[i].sample(frac=1) for i in range(len(patch))]\n",
    "\n",
    "patch_14 = shuffle(patch_14)\n",
    "patch_21 = shuffle(patch_21)\n",
    "patch_25 = shuffle(patch_25)\n",
    "patch_28 = shuffle(patch_28)"
   ]
  },
  {
   "cell_type": "code",
   "execution_count": 9,
   "id": "da93bde4-bafc-462a-82a7-c2150e5915b2",
   "metadata": {},
   "outputs": [],
   "source": [
    "def splitDatasetKfold(patch, kfold, dtype='hdr', train_frac=0.7):   \n",
    "    patch_kfold = []\n",
    "    kfold_recs  = patch.copy()\n",
    "    \n",
    "    for k in range(kfold):\n",
    "        tr = pd.DataFrame(columns=[\"path\", \"type\", \"class\"])\n",
    "        vl = tr.copy()\n",
    "        for i in range(num_classes):\n",
    "            tmp = patch.loc[(patch['class'] == i) & \n",
    "                             (patch['type'] == dtype)]\n",
    "            tmp_tr = tmp.sample(frac=train_frac, replace=False, random_state=k)\n",
    "            tmp_vl = tmp.drop(tmp_tr.index)\n",
    "\n",
    "            tr = pd.concat([tr, tmp_tr])\n",
    "            vl = pd.concat([vl, tmp_vl])\n",
    "            \n",
    "        kfold_recs.loc[tr.index, f'k{k}'] = 0\n",
    "        kfold_recs.loc[vl.index, f'k{k}'] = 1\n",
    "            \n",
    "        patch_kfold.append([tr, vl])\n",
    "\n",
    "    # print((kfold_recs.loc[:, [f'k{i}' for i in range(kfold)]].sum(axis=1) == 0).sum())\n",
    "    \n",
    "    return patch_kfold, kfold_recs"
   ]
  },
  {
   "cell_type": "code",
   "execution_count": 10,
   "id": "f0817ffa-0306-48c1-84b5-ef4d11e0859f",
   "metadata": {},
   "outputs": [],
   "source": [
    "# patch_14_kfold, kfold_recs = splitDatasetKfold(patch_14, kfold)\n",
    "# len(patch_14_kfold)"
   ]
  },
  {
   "cell_type": "code",
   "execution_count": 11,
   "id": "a69c04b4-48e1-489b-87a7-187d9e3a908d",
   "metadata": {},
   "outputs": [],
   "source": [
    "# Patch wrapper\n",
    "\n",
    "img_14 = wrapPatch(patch_14)\n",
    "img_21 = wrapPatch(patch_21)\n",
    "img_25 = wrapPatch(patch_25)\n",
    "img_28 = wrapPatch(patch_28)\n",
    "\n",
    "patch_21_25_28 = pd.concat([patch_21[0], patch_25[0], patch_28[0]])\n",
    "train_patch = pd.concat([patch_14[0], patch_21[0], patch_25[0], patch_28[0]])\n",
    "val_patch = pd.concat([patch_14[1], patch_21[1], patch_25[1], patch_28[1]])\n",
    "\n",
    "patch_21_25_28 = patch_21_25_28.sample(frac=1)\n",
    "train_patch = train_patch.sample(frac=1)\n",
    "val_patch = val_patch.sample(frac=1)"
   ]
  },
  {
   "cell_type": "code",
   "execution_count": 12,
   "id": "8d0050a6-c9ba-492c-bb2e-b7829e00b9fe",
   "metadata": {},
   "outputs": [
    {
     "name": "stdout",
     "output_type": "stream",
     "text": [
      "1899, with {'background': 378, 'leaf': 1208, 'diseased': 313}\n",
      "813, with {'background': 162, 'leaf': 517, 'diseased': 134}\n"
     ]
    }
   ],
   "source": [
    "# Define training images\n",
    "\n",
    "img_21_25_28 = wrapPatch(patch_21_25_28)\n",
    "train_img = wrapPatch(train_patch)\n",
    "val_img = wrapPatch(val_patch)\n",
    "\n",
    "if count:\n",
    "    countImg(train_img, classes)\n",
    "    countImg(val_img, classes)\n",
    "\n",
    "if save_dataset:\n",
    "    train_img.img_df.to_csv(\"train.csv\")\n",
    "    val_img.img_df.to_csv(\"val.csv\")"
   ]
  },
  {
   "cell_type": "code",
   "execution_count": 13,
   "id": "8bfe2b79-6917-4727-8c87-0cce5ab5f8fc",
   "metadata": {},
   "outputs": [
    {
     "name": "stdout",
     "output_type": "stream",
     "text": [
      "Training set 21, 25 and 28\n",
      "class index: 2\n",
      "\t Rotated 90 deg\n",
      "\t Rotated 180 deg\n",
      "\t Rotated 270 deg\n",
      "Training set 14\n",
      "class index: 2\n",
      "\t Rotated 90 deg\n",
      "\t Rotated 180 deg\n",
      "\t Rotated 270 deg\n",
      "2838, with {'background': 378, 'leaf': 1208, 'diseased': 1252}\n",
      "813, with {'background': 162, 'leaf': 517, 'diseased': 134}\n"
     ]
    }
   ],
   "source": [
    "# Augment images \n",
    "\n",
    "if augment:\n",
    "    train_img_aug1 = augmentPatch2(img_21_25_28, [0, 0, 3], [\"Training set 21, 25 and 28\"])\n",
    "    train_img_aug2 = augmentPatch2(img_14[0], [0, 0, 3], [\"Training set 14\"])\n",
    "    \n",
    "    train_img = ConcatDataset([train_img] + train_img_aug1 + train_img_aug2)\n",
    "    val_img = ConcatDataset([val_img])   \n",
    "    \n",
    "    if count:\n",
    "        countImg(train_img, classes)\n",
    "        countImg(val_img, classes)"
   ]
  },
  {
   "cell_type": "code",
   "execution_count": 14,
   "id": "0d288ea5-7549-41ce-bd47-d62cb5ae7b58",
   "metadata": {},
   "outputs": [
    {
     "data": {
      "text/plain": [
       "torch.Size([128, 1, 55, 20, 20])"
      ]
     },
     "execution_count": 14,
     "metadata": {},
     "output_type": "execute_result"
    }
   ],
   "source": [
    "# Load images\n",
    "\n",
    "loaders = imagesLoader([[train_img, True ],\n",
    "                        [val_img  , False],\n",
    "                        [img_14[1], False],\n",
    "                        [img_21[1], False],\n",
    "                        [img_25[1], False],\n",
    "                        [img_28[1], False]], batch_size)\n",
    "\n",
    "train_loader = loaders[0]\n",
    "test_loader = loaders[1]\n",
    "\n",
    "next(iter(train_loader))[0].shape"
   ]
  },
  {
   "cell_type": "code",
   "execution_count": 15,
   "id": "c1fbbdb1-d9f6-4210-b5e4-f1fefe41026e",
   "metadata": {},
   "outputs": [
    {
     "data": {
      "image/png": "[encoded data removed]",
      "text/plain": [
       "<Figure size 1440x792 with 32 Axes>"
      ]
     },
     "metadata": {
      "needs_background": "light"
     },
     "output_type": "display_data"
    }
   ],
   "source": [
    "# Check the images\n",
    "\n",
    "for train_sample in train_loader:\n",
    "   displayImgs(train_sample[0], train_sample[1], classes=classes, n=batch_size)\n",
    "   break"
   ]
  },
  {
   "cell_type": "code",
   "execution_count": 16,
   "id": "c986c5f9-afea-49c0-b15f-4f15e6eb2429",
   "metadata": {},
   "outputs": [
    {
     "name": "stdout",
     "output_type": "stream",
     "text": [
      "tensor([ 0.2593,  0.5514, -0.6946], device='cuda:0')\n"
     ]
    }
   ],
   "source": [
    "# Check the model\n",
    "\n",
    "with torch.no_grad():\n",
    "    for x, y in train_loader:\n",
    "        x = x.to(device=device)\n",
    "        y = y.to(device=device)\n",
    "        x_ = model(x)\n",
    "        print(x_[0])\n",
    "        break"
   ]
  },
  {
   "cell_type": "code",
   "execution_count": 17,
   "id": "7a85f0cf-da76-4db7-9983-1f364df1532f",
   "metadata": {},
   "outputs": [
    {
     "name": "stdout",
     "output_type": "stream",
     "text": [
      "[1.         0.         0.         0.13319239] [1.         0.         0.         0.19926199]\n"
     ]
    }
   ],
   "source": [
    "# Evaluate the model\n",
    "\n",
    "def evaluate(loader, model):\n",
    "    actuals = np.array([])\n",
    "    predictions = np.array([])\n",
    "    evaluations = np.array([])\n",
    "    model.eval()\n",
    "\n",
    "    with torch.no_grad():\n",
    "        for x, y in loader:\n",
    "            x = x.to(device=device)\n",
    "            y = y.to(device=device)\n",
    "\n",
    "            scores = model(x)\n",
    "            _, model_pred = scores.max(1)\n",
    "            actuals = np.append(actuals, y.cpu().detach().numpy())\n",
    "            predictions = np.append(predictions, model_pred.cpu().detach().numpy())\n",
    "    \n",
    "    for i in range(num_classes):\n",
    "        ac = (actuals == i)\n",
    "        pr = (predictions == i)\n",
    "\n",
    "        ca = (ac & pr).sum() / ac.sum()\n",
    "        evaluations = np.append(evaluations, ca)\n",
    "        \n",
    "    oa = (actuals == predictions).sum() / len(actuals)\n",
    "    evaluations = np.append(evaluations, oa)\n",
    "    \n",
    "    model.train()\n",
    "\n",
    "    return evaluations\n",
    "\n",
    "print(evaluate(train_loader, model), evaluate(test_loader, model))"
   ]
  },
  {
   "cell_type": "code",
   "execution_count": 18,
   "id": "69d598e4-b118-4ce0-b0c3-ebdc0f7faa4f",
   "metadata": {},
   "outputs": [
    {
     "name": "stdout",
     "output_type": "stream",
     "text": [
      "[1.0, 0.0, 0.0, 0.13319239020347595] [1.0, 0.0, 0.0, 0.19926199316978455]\n"
     ]
    }
   ],
   "source": [
    "def evaluateTorch(loader, model):\n",
    "    actuals = []\n",
    "    predictions = []\n",
    "    evaluations = []\n",
    "    model.eval()\n",
    "\n",
    "    with torch.no_grad():\n",
    "        for x, y in loader:\n",
    "            x = x.to(device=device)\n",
    "            y = y.to(device=device)\n",
    "\n",
    "            scores = model(x)\n",
    "            _, model_pred = scores.max(1)\n",
    "            \n",
    "            actuals.append(y)\n",
    "            predictions.append(model_pred)\n",
    "            \n",
    "    actuals = torch.cat(actuals)\n",
    "    predictions = torch.cat(predictions)\n",
    "    \n",
    "    for i in range(num_classes):\n",
    "        ac = (actuals == i)\n",
    "        pr = (predictions == i)\n",
    "\n",
    "        ca = (ac & pr).sum() / ac.sum()\n",
    "        evaluations.append(ca)\n",
    "\n",
    "    oa = (actuals == predictions).sum() / len(actuals)\n",
    "    evaluations.append(oa)\n",
    "    \n",
    "    model.train()\n",
    "\n",
    "    return [e.item() for e in evaluations]\n",
    "\n",
    "print(evaluateTorch(train_loader, model), evaluateTorch(test_loader, model))"
   ]
  },
  {
   "cell_type": "code",
   "execution_count": 19,
   "id": "a0e019ed-bf32-41bc-8333-2809466e5a01",
   "metadata": {},
   "outputs": [],
   "source": [
    "# Make a list to record training progress\n",
    "\n",
    "eval_ent = [train_loader, test_loader, loaders[2]]\n",
    "eval_hist = [[[] for i in range(2 + num_classes)]for i in range(len(eval_ent))]\n",
    "eval_idx = 1\n",
    "highest_acc = 0\n",
    "highest_dis = 0\n",
    "\n",
    "b_oa = 0\n",
    "b_d = 0\n",
    "trained_epochs = 0"
   ]
  },
  {
   "cell_type": "code",
   "execution_count": null,
   "id": "64cc7c71-93a4-45c3-8ee0-cec4103ac022",
   "metadata": {},
   "outputs": [
    {
     "name": "stderr",
     "output_type": "stream",
     "text": [
      "Epoch[0/49]: 100%|█████████████████████████████████████████████████████████████████████| 23/23 [00:40<00:00,  1.77s/it]\n"
     ]
    },
    {
     "name": "stdout",
     "output_type": "stream",
     "text": [
      "loss:  0.6009437986042189\n",
      "Best OA is on 0 epoch\n",
      "1e-05\n",
      "accuracy_0: 1.0, 1.0, 1.0\n",
      "accuracy_1: 0.0, 0.0, 0.0\n",
      "accuracy_2: 0.0, 0.0, 0.0\n",
      "accuracy_3: 0.13319239020347595, 0.19926199316978455, 0.09105431288480759\n"
     ]
    },
    {
     "name": "stderr",
     "output_type": "stream",
     "text": [
      "Epoch[1/49]: 100%|█████████████████████████████████████████████████████████████████████| 23/23 [00:39<00:00,  1.70s/it]\n"
     ]
    },
    {
     "name": "stdout",
     "output_type": "stream",
     "text": [
      "loss:  0.4106793299965236\n",
      "Best OA is on 1 epoch\n",
      "Best diseased accuracy is on 1 epoch\n",
      "1e-05\n",
      "accuracy_0: 1.0, 1.0, 1.0\n",
      "accuracy_1: 0.12334436923265457, 0.10058026760816574, 0.10058026760816574\n",
      "accuracy_2: 0.09504792094230652, 0.007462686393409967, 0.0\n",
      "accuracy_3: 0.2276250720024109, 0.26445263624191284, 0.1741214096546173\n"
     ]
    },
    {
     "name": "stderr",
     "output_type": "stream",
     "text": [
      "Epoch[2/49]: 100%|█████████████████████████████████████████████████████████████████████| 23/23 [00:38<00:00,  1.68s/it]\n"
     ]
    },
    {
     "name": "stdout",
     "output_type": "stream",
     "text": [
      "loss:  0.2990047180134317\n",
      "Best OA is on 2 epoch\n",
      "Best diseased accuracy is on 2 epoch\n",
      "1e-05\n",
      "accuracy_0: 0.9603174328804016, 0.9506173133850098, 0.9649122953414917\n",
      "accuracy_1: 0.9586092829704285, 0.9593810439109802, 0.9593810439109802\n",
      "accuracy_2: 0.7507987022399902, 0.2014925330877304, 0.09615384787321091\n",
      "accuracy_3: 0.8671599626541138, 0.8327183127403259, 0.8881788849830627\n"
     ]
    },
    {
     "name": "stderr",
     "output_type": "stream",
     "text": [
      "Epoch[3/49]: 100%|█████████████████████████████████████████████████████████████████████| 23/23 [00:38<00:00,  1.68s/it]\n"
     ]
    },
    {
     "name": "stdout",
     "output_type": "stream",
     "text": [
      "loss:  0.2594578939935435\n",
      "Best OA is on 3 epoch\n",
      "Best diseased accuracy is on 3 epoch\n",
      "1e-05\n",
      "accuracy_0: 0.9338624477386475, 0.9320987462997437, 0.9649122953414917\n",
      "accuracy_1: 0.9395695328712463, 0.9206963181495667, 0.9206963181495667\n",
      "accuracy_2: 0.8905750513076782, 0.60447758436203, 0.4038461446762085\n",
      "accuracy_3: 0.9171951413154602, 0.8708487153053284, 0.8817891478538513\n"
     ]
    },
    {
     "name": "stderr",
     "output_type": "stream",
     "text": [
      "Epoch[4/49]: 100%|█████████████████████████████████████████████████████████████████████| 23/23 [00:38<00:00,  1.69s/it]\n"
     ]
    },
    {
     "name": "stdout",
     "output_type": "stream",
     "text": [
      "loss:  0.2388225443985151\n",
      "1e-05\n",
      "accuracy_0: 0.920634925365448, 0.9012345671653748, 0.8947368264198303\n",
      "accuracy_1: 0.9751655459403992, 0.9806576371192932, 0.9806576371192932\n",
      "accuracy_2: 0.835463285446167, 0.34328359365463257, 0.13461539149284363\n",
      "accuracy_3: 0.9062719941139221, 0.8597785830497742, 0.9025558829307556\n"
     ]
    },
    {
     "name": "stderr",
     "output_type": "stream",
     "text": [
      "Epoch[5/49]: 100%|█████████████████████████████████████████████████████████████████████| 23/23 [00:38<00:00,  1.68s/it]\n"
     ]
    },
    {
     "name": "stdout",
     "output_type": "stream",
     "text": [
      "loss:  0.22161629634058994\n",
      "Best OA is on 5 epoch\n",
      "Best diseased accuracy is on 5 epoch\n",
      "1e-05\n",
      "accuracy_0: 0.9259259104728699, 0.9135802388191223, 0.9122806787490845\n",
      "accuracy_1: 0.9511589407920837, 0.9206963181495667, 0.9206963181495667\n",
      "accuracy_2: 0.9345048069953918, 0.7238805890083313, 0.557692289352417\n",
      "accuracy_3: 0.9404509663581848, 0.8868388533592224, 0.889776349067688\n"
     ]
    },
    {
     "name": "stderr",
     "output_type": "stream",
     "text": [
      "Epoch[6/49]: 100%|█████████████████████████████████████████████████████████████████████| 23/23 [00:38<00:00,  1.69s/it]\n"
     ]
    },
    {
     "name": "stdout",
     "output_type": "stream",
     "text": [
      "loss:  0.23228637841732605\n",
      "1e-05\n",
      "accuracy_0: 0.9523809552192688, 0.9259259104728699, 0.9473684430122375\n",
      "accuracy_1: 0.9652317762374878, 0.9516441226005554, 0.9516441226005554\n",
      "accuracy_2: 0.9033546447753906, 0.5298507213592529, 0.21153846383094788\n",
      "accuracy_3: 0.9362226724624634, 0.876998782157898, 0.889776349067688\n"
     ]
    },
    {
     "name": "stderr",
     "output_type": "stream",
     "text": [
      "Epoch[7/49]: 100%|█████████████████████████████████████████████████████████████████████| 23/23 [00:38<00:00,  1.68s/it]\n"
     ]
    },
    {
     "name": "stdout",
     "output_type": "stream",
     "text": [
      "loss:  0.17654628339021103\n",
      "Best diseased accuracy is on 7 epoch\n",
      "1e-05\n",
      "accuracy_0: 0.9788359999656677, 0.9506173133850098, 0.9649122953414917\n",
      "accuracy_1: 0.9321191906929016, 0.8897485733032227, 0.8897485733032227\n",
      "accuracy_2: 0.9528753757476807, 0.7761194109916687, 0.6538461446762085\n",
      "accuracy_3: 0.9474982023239136, 0.8831487894058228, 0.8769968152046204\n"
     ]
    },
    {
     "name": "stderr",
     "output_type": "stream",
     "text": [
      "Epoch[8/49]: 100%|█████████████████████████████████████████████████████████████████████| 23/23 [00:38<00:00,  1.68s/it]\n"
     ]
    },
    {
     "name": "stdout",
     "output_type": "stream",
     "text": [
      "loss:  0.17033595041088437\n",
      "1e-05\n",
      "accuracy_0: 0.9153439402580261, 0.8888888955116272, 0.8947368264198303\n",
      "accuracy_1: 0.9834437370300293, 0.9806576371192932, 0.9806576371192932\n",
      "accuracy_2: 0.9049520492553711, 0.5223880410194397, 0.17307692766189575\n",
      "accuracy_3: 0.9397462606430054, 0.8868388533592224, 0.9057508111000061\n"
     ]
    },
    {
     "name": "stderr",
     "output_type": "stream",
     "text": [
      "Epoch[9/49]: 100%|█████████████████████████████████████████████████████████████████████| 23/23 [00:38<00:00,  1.68s/it]\n"
     ]
    },
    {
     "name": "stdout",
     "output_type": "stream",
     "text": [
      "loss:  0.1626773670963619\n",
      "Best diseased accuracy is on 9 epoch\n",
      "1e-05\n",
      "accuracy_0: 0.9470899701118469, 0.9135802388191223, 0.9298245906829834\n",
      "accuracy_1: 0.9503311514854431, 0.9032881855964661, 0.9032881855964661\n",
      "accuracy_2: 0.9720447063446045, 0.7910447716712952, 0.6153846383094788\n",
      "accuracy_3: 0.9594784379005432, 0.8868388533592224, 0.8817891478538513\n"
     ]
    },
    {
     "name": "stderr",
     "output_type": "stream",
     "text": [
      "Epoch[10/49]: 100%|████████████████████████████████████████████████████████████████████| 23/23 [00:38<00:00,  1.68s/it]\n"
     ]
    },
    {
     "name": "stdout",
     "output_type": "stream",
     "text": [
      "loss:  0.1347599967342356\n",
      "Best OA is on 10 epoch\n",
      "1e-05\n",
      "accuracy_0: 0.9656084775924683, 0.9320987462997437, 0.9473684430122375\n",
      "accuracy_1: 0.9793046116828918, 0.9593810439109802, 0.9593810439109802\n",
      "accuracy_2: 0.9464856386184692, 0.611940324306488, 0.2884615361690521\n",
      "accuracy_3: 0.96300208568573, 0.8966789245605469, 0.9025558829307556\n"
     ]
    },
    {
     "name": "stderr",
     "output_type": "stream",
     "text": [
      "Epoch[11/49]: 100%|████████████████████████████████████████████████████████████████████| 23/23 [00:38<00:00,  1.68s/it]\n"
     ]
    },
    {
     "name": "stdout",
     "output_type": "stream",
     "text": [
      "loss:  0.12118783593177795\n",
      "1e-05\n",
      "accuracy_0: 0.9497354626655579, 0.9135802388191223, 0.9298245906829834\n",
      "accuracy_1: 0.9809602499008179, 0.9400386810302734, 0.9400386810302734\n",
      "accuracy_2: 0.9672523736953735, 0.6716417670249939, 0.3461538553237915\n",
      "accuracy_3: 0.9707540273666382, 0.8905289173126221, 0.889776349067688\n"
     ]
    },
    {
     "name": "stderr",
     "output_type": "stream",
     "text": [
      "Epoch[12/49]: 100%|████████████████████████████████████████████████████████████████████| 23/23 [00:39<00:00,  1.70s/it]\n"
     ]
    },
    {
     "name": "stdout",
     "output_type": "stream",
     "text": [
      "loss:  0.10858546731912572\n",
      "1e-05\n",
      "accuracy_0: 0.9391534328460693, 0.9074074029922485, 0.9122806787490845\n",
      "accuracy_1: 0.9834437370300293, 0.9264990091323853, 0.9264990091323853\n",
      "accuracy_2: 0.9776358008384705, 0.7238805890083313, 0.4038461446762085\n",
      "accuracy_3: 0.9749823212623596, 0.8892988562583923, 0.8817891478538513\n"
     ]
    },
    {
     "name": "stderr",
     "output_type": "stream",
     "text": [
      "Epoch[13/49]: 100%|████████████████████████████████████████████████████████████████████| 23/23 [00:38<00:00,  1.68s/it]\n"
     ]
    },
    {
     "name": "stdout",
     "output_type": "stream",
     "text": [
      "loss:  0.12396200114618176\n",
      "Best OA is on 13 epoch\n",
      "1e-05\n",
      "accuracy_0: 0.9894179701805115, 0.9444444179534912, 0.9473684430122375\n",
      "accuracy_1: 0.9817880988121033, 0.9535783529281616, 0.9535783529281616\n",
      "accuracy_2: 0.9648562073707581, 0.6268656849861145, 0.3076923191547394\n",
      "accuracy_3: 0.9753347039222717, 0.8979089856147766, 0.8993610143661499\n"
     ]
    },
    {
     "name": "stderr",
     "output_type": "stream",
     "text": [
      "Epoch[14/49]: 100%|████████████████████████████████████████████████████████████████████| 23/23 [00:38<00:00,  1.68s/it]\n"
     ]
    },
    {
     "name": "stdout",
     "output_type": "stream",
     "text": [
      "loss:  0.08992356061935425\n",
      "Best OA is on 14 epoch\n",
      "1e-05\n",
      "accuracy_0: 0.9814814925193787, 0.9320987462997437, 0.9298245906829834\n",
      "accuracy_1: 0.9900662302970886, 0.9613152742385864, 0.9613152742385864\n",
      "accuracy_2: 0.9736421704292297, 0.641791045665741, 0.3076923191547394\n",
      "accuracy_3: 0.9816771745681763, 0.9028289914131165, 0.9041533470153809\n"
     ]
    },
    {
     "name": "stderr",
     "output_type": "stream",
     "text": [
      "Epoch[15/49]: 100%|████████████████████████████████████████████████████████████████████| 23/23 [00:38<00:00,  1.68s/it]\n"
     ]
    },
    {
     "name": "stdout",
     "output_type": "stream",
     "text": [
      "loss:  0.08924342643307603\n",
      "1e-05\n",
      "accuracy_0: 0.976190447807312, 0.9259259104728699, 0.9298245906829834\n",
      "accuracy_1: 0.9942052960395813, 0.9767891764640808, 0.9767891764640808\n",
      "accuracy_2: 0.9568690061569214, 0.5895522236824036, 0.21153846383094788\n",
      "accuracy_3: 0.9753347039222717, 0.9028289914131165, 0.9089456796646118\n"
     ]
    },
    {
     "name": "stderr",
     "output_type": "stream",
     "text": [
      "Epoch[16/49]: 100%|████████████████████████████████████████████████████████████████████| 23/23 [00:38<00:00,  1.68s/it]\n"
     ]
    },
    {
     "name": "stdout",
     "output_type": "stream",
     "text": [
      "loss:  0.06485402681257414\n",
      "1e-05\n",
      "accuracy_0: 0.9894179701805115, 0.9382715821266174, 0.9473684430122375\n",
      "accuracy_1: 0.9950330853462219, 0.988394558429718, 0.988394558429718\n",
      "accuracy_2: 0.8905750513076782, 0.41791045665740967, 0.057692307978868484\n",
      "accuracy_3: 0.948202908039093, 0.8843788504600525, 0.9073482155799866\n"
     ]
    },
    {
     "name": "stderr",
     "output_type": "stream",
     "text": [
      "Epoch[17/49]: 100%|████████████████████████████████████████████████████████████████████| 23/23 [00:38<00:00,  1.68s/it]\n"
     ]
    },
    {
     "name": "stdout",
     "output_type": "stream",
     "text": [
      "loss:  0.06227742184115493\n",
      "Best diseased accuracy is on 17 epoch\n",
      "1e-05\n",
      "accuracy_0: 0.9973545074462891, 0.9444444179534912, 0.9473684430122375\n",
      "accuracy_1: 0.9693708419799805, 0.8549323081970215, 0.8549323081970215\n",
      "accuracy_2: 0.995207667350769, 0.858208954334259, 0.7115384340286255\n",
      "accuracy_3: 0.9844960570335388, 0.8733087182044983, 0.8514376878738403\n"
     ]
    },
    {
     "name": "stderr",
     "output_type": "stream",
     "text": [
      "Epoch[18/49]: 100%|████████████████████████████████████████████████████████████████████| 23/23 [00:38<00:00,  1.68s/it]\n"
     ]
    },
    {
     "name": "stdout",
     "output_type": "stream",
     "text": [
      "loss:  0.06052799725338169\n",
      "Best diseased accuracy is on 18 epoch\n",
      "1e-05\n",
      "accuracy_0: 0.9920634627342224, 0.9259259104728699, 0.9473684430122375\n",
      "accuracy_1: 0.8998344540596008, 0.7736943960189819, 0.7736943960189819\n",
      "accuracy_2: 0.9984025359153748, 0.9328358173370361, 0.8846153616905212\n",
      "accuracy_3: 0.9556025266647339, 0.830258309841156, 0.7987220287322998\n"
     ]
    },
    {
     "name": "stderr",
     "output_type": "stream",
     "text": [
      "Epoch[19/49]: 100%|████████████████████████████████████████████████████████████████████| 23/23 [00:38<00:00,  1.68s/it]\n"
     ]
    },
    {
     "name": "stdout",
     "output_type": "stream",
     "text": [
      "loss:  0.05867212727341963\n",
      "1.0000000000000002e-06\n",
      "accuracy_0: 0.9788359999656677, 0.9135802388191223, 0.9298245906829834\n",
      "accuracy_1: 0.9975165724754333, 0.9400386810302734, 0.9400386810302734\n",
      "accuracy_2: 0.9960063695907593, 0.7238805890083313, 0.4038461446762085\n",
      "accuracy_3: 0.9943621754646301, 0.8991389870643616, 0.894568681716919\n"
     ]
    },
    {
     "name": "stderr",
     "output_type": "stream",
     "text": [
      "Epoch[20/49]: 100%|████████████████████████████████████████████████████████████████████| 23/23 [00:38<00:00,  1.68s/it]\n"
     ]
    },
    {
     "name": "stdout",
     "output_type": "stream",
     "text": [
      "loss:  0.0355429787836645\n",
      "1.0000000000000002e-06\n",
      "accuracy_0: 0.9920634627342224, 0.9382715821266174, 0.9473684430122375\n",
      "accuracy_1: 0.996688723564148, 0.9497098922729492, 0.9497098922729492\n",
      "accuracy_2: 0.995207667350769, 0.6716417670249939, 0.3461538553237915\n",
      "accuracy_3: 0.9954192638397217, 0.9015989899635315, 0.8993610143661499\n"
     ]
    },
    {
     "name": "stderr",
     "output_type": "stream",
     "text": [
      "Epoch[21/49]: 100%|████████████████████████████████████████████████████████████████████| 23/23 [00:38<00:00,  1.68s/it]\n"
     ]
    },
    {
     "name": "stdout",
     "output_type": "stream",
     "text": [
      "loss:  0.03458707026489403\n",
      "1.0000000000000002e-06\n",
      "accuracy_0: 0.9947090148925781, 0.9320987462997437, 0.9473684430122375\n",
      "accuracy_1: 0.996688723564148, 0.9400386810302734, 0.9400386810302734\n",
      "accuracy_2: 0.9960063695907593, 0.7089552283287048, 0.38461539149284363\n",
      "accuracy_3: 0.9961239695549011, 0.9003689885139465, 0.894568681716919\n"
     ]
    },
    {
     "name": "stderr",
     "output_type": "stream",
     "text": [
      "Epoch[22/49]: 100%|████████████████████████████████████████████████████████████████████| 23/23 [00:38<00:00,  1.68s/it]\n"
     ]
    },
    {
     "name": "stdout",
     "output_type": "stream",
     "text": [
      "loss:  0.03229261521735917\n",
      "1.0000000000000002e-06\n",
      "accuracy_0: 0.9947090148925781, 0.9382715821266174, 0.9473684430122375\n",
      "accuracy_1: 0.996688723564148, 0.9303675293922424, 0.9303675293922424\n",
      "accuracy_2: 0.9960063695907593, 0.7014925479888916, 0.38461539149284363\n",
      "accuracy_3: 0.9961239695549011, 0.894218921661377, 0.8865814805030823\n"
     ]
    },
    {
     "name": "stderr",
     "output_type": "stream",
     "text": [
      "Epoch[23/49]: 100%|████████████████████████████████████████████████████████████████████| 23/23 [00:38<00:00,  1.68s/it]\n"
     ]
    },
    {
     "name": "stdout",
     "output_type": "stream",
     "text": [
      "loss:  0.03077657419540312\n",
      "1.0000000000000002e-06\n",
      "accuracy_0: 0.9947090148925781, 0.9320987462997437, 0.9473684430122375\n",
      "accuracy_1: 0.996688723564148, 0.9477756023406982, 0.9477756023406982\n",
      "accuracy_2: 0.9960063695907593, 0.6865671873092651, 0.3461538553237915\n",
      "accuracy_3: 0.9961239695549011, 0.9015989899635315, 0.8977635502815247\n"
     ]
    },
    {
     "name": "stderr",
     "output_type": "stream",
     "text": [
      "Epoch[24/49]: 100%|████████████████████████████████████████████████████████████████████| 23/23 [00:38<00:00,  1.69s/it]\n"
     ]
    },
    {
     "name": "stdout",
     "output_type": "stream",
     "text": [
      "loss:  0.03370204130592554\n",
      "1.0000000000000002e-06\n",
      "accuracy_0: 0.9947090148925781, 0.9320987462997437, 0.9473684430122375\n",
      "accuracy_1: 0.9975165724754333, 0.9477756023406982, 0.9477756023406982\n",
      "accuracy_2: 0.9976038336753845, 0.6940298676490784, 0.36538460850715637\n",
      "accuracy_3: 0.9971810579299927, 0.9028289914131165, 0.8993610143661499\n"
     ]
    },
    {
     "name": "stderr",
     "output_type": "stream",
     "text": [
      "Epoch[25/49]: 100%|████████████████████████████████████████████████████████████████████| 23/23 [00:39<00:00,  1.70s/it]\n"
     ]
    },
    {
     "name": "stdout",
     "output_type": "stream",
     "text": [
      "loss:  0.031476435656456844\n",
      "Best OA is on 25 epoch\n",
      "1.0000000000000002e-06\n",
      "accuracy_0: 0.9947090148925781, 0.9320987462997437, 0.9473684430122375\n",
      "accuracy_1: 0.998344361782074, 0.9535783529281616, 0.9535783529281616\n",
      "accuracy_2: 0.9968051314353943, 0.6791045069694519, 0.3461538553237915\n",
      "accuracy_3: 0.9971810579299927, 0.9040590524673462, 0.9025558829307556\n"
     ]
    },
    {
     "name": "stderr",
     "output_type": "stream",
     "text": [
      "Epoch[26/49]: 100%|████████████████████████████████████████████████████████████████████| 23/23 [00:38<00:00,  1.69s/it]\n"
     ]
    },
    {
     "name": "stdout",
     "output_type": "stream",
     "text": [
      "loss:  0.02822651932744876\n",
      "1.0000000000000002e-06\n",
      "accuracy_0: 1.0, 0.9320987462997437, 0.9473684430122375\n",
      "accuracy_1: 0.996688723564148, 0.9323017597198486, 0.9323017597198486\n",
      "accuracy_2: 0.9976038336753845, 0.7089552283287048, 0.36538460850715637\n",
      "accuracy_3: 0.9975334405899048, 0.8954489231109619, 0.8865814805030823\n"
     ]
    },
    {
     "name": "stderr",
     "output_type": "stream",
     "text": [
      "Epoch[27/49]: 100%|████████████████████████████████████████████████████████████████████| 23/23 [00:38<00:00,  1.69s/it]\n"
     ]
    },
    {
     "name": "stdout",
     "output_type": "stream",
     "text": [
      "loss:  0.028014002691792404\n",
      "1.0000000000000002e-06\n",
      "accuracy_0: 0.9973545074462891, 0.9259259104728699, 0.9473684430122375\n",
      "accuracy_1: 0.9975165724754333, 0.9323017597198486, 0.9323017597198486\n",
      "accuracy_2: 0.9976038336753845, 0.7089552283287048, 0.38461539149284363\n",
      "accuracy_3: 0.9975334405899048, 0.894218921661377, 0.8881788849830627\n"
     ]
    },
    {
     "name": "stderr",
     "output_type": "stream",
     "text": [
      "Epoch[28/49]: 100%|████████████████████████████████████████████████████████████████████| 23/23 [00:38<00:00,  1.69s/it]\n"
     ]
    },
    {
     "name": "stdout",
     "output_type": "stream",
     "text": [
      "loss:  0.026906275109428425\n",
      "1.0000000000000002e-06\n",
      "accuracy_0: 0.9947090148925781, 0.9320987462997437, 0.9473684430122375\n",
      "accuracy_1: 0.998344361782074, 0.9516441226005554, 0.9516441226005554\n",
      "accuracy_2: 0.9976038336753845, 0.6791045069694519, 0.3461538553237915\n",
      "accuracy_3: 0.9975334405899048, 0.9028289914131165, 0.9009584784507751\n"
     ]
    },
    {
     "name": "stderr",
     "output_type": "stream",
     "text": [
      "Epoch[29/49]: 100%|████████████████████████████████████████████████████████████████████| 23/23 [00:38<00:00,  1.69s/it]\n"
     ]
    },
    {
     "name": "stdout",
     "output_type": "stream",
     "text": [
      "loss:  0.027640089797584907\n",
      "1.0000000000000002e-06\n",
      "accuracy_0: 0.9947090148925781, 0.9320987462997437, 0.9473684430122375\n",
      "accuracy_1: 0.998344361782074, 0.9439071416854858, 0.9439071416854858\n",
      "accuracy_2: 0.9976038336753845, 0.6940298676490784, 0.36538460850715637\n",
      "accuracy_3: 0.9975334405899048, 0.9003689885139465, 0.8961661458015442\n"
     ]
    },
    {
     "name": "stderr",
     "output_type": "stream",
     "text": [
      "Epoch[30/49]: 100%|████████████████████████████████████████████████████████████████████| 23/23 [00:40<00:00,  1.74s/it]\n"
     ]
    },
    {
     "name": "stdout",
     "output_type": "stream",
     "text": [
      "loss:  0.027051094312058842\n",
      "1.0000000000000002e-06\n",
      "accuracy_0: 1.0, 0.9320987462997437, 0.9473684430122375\n",
      "accuracy_1: 0.996688723564148, 0.9381044507026672, 0.9381044507026672\n",
      "accuracy_2: 0.9984025359153748, 0.7014925479888916, 0.36538460850715637\n",
      "accuracy_3: 0.9978858232498169, 0.8979089856147766, 0.8913738131523132\n"
     ]
    },
    {
     "name": "stderr",
     "output_type": "stream",
     "text": [
      "Epoch[31/49]: 100%|████████████████████████████████████████████████████████████████████| 23/23 [00:39<00:00,  1.70s/it]\n"
     ]
    },
    {
     "name": "stdout",
     "output_type": "stream",
     "text": [
      "loss:  0.025415705921857254\n",
      "1.0000000000000002e-06\n",
      "accuracy_0: 1.0, 0.9320987462997437, 0.9473684430122375\n",
      "accuracy_1: 0.9991722106933594, 0.945841372013092, 0.945841372013092\n",
      "accuracy_2: 0.9976038336753845, 0.6940298676490784, 0.36538460850715637\n",
      "accuracy_3: 0.9985905289649963, 0.9015989899635315, 0.8977635502815247\n"
     ]
    },
    {
     "name": "stderr",
     "output_type": "stream",
     "text": [
      "Epoch[32/49]: 100%|████████████████████████████████████████████████████████████████████| 23/23 [00:38<00:00,  1.68s/it]\n"
     ]
    },
    {
     "name": "stdout",
     "output_type": "stream",
     "text": [
      "loss:  0.02635171361591505\n",
      "1.0000000000000002e-06\n",
      "accuracy_0: 0.9947090148925781, 0.9320987462997437, 0.9473684430122375\n",
      "accuracy_1: 0.9991722106933594, 0.9516441226005554, 0.9516441226005554\n",
      "accuracy_2: 0.9976038336753845, 0.6791045069694519, 0.3461538553237915\n",
      "accuracy_3: 0.9978858232498169, 0.9028289914131165, 0.9009584784507751\n"
     ]
    },
    {
     "name": "stderr",
     "output_type": "stream",
     "text": [
      "Epoch[33/49]: 100%|████████████████████████████████████████████████████████████████████| 23/23 [00:38<00:00,  1.69s/it]\n"
     ]
    },
    {
     "name": "stdout",
     "output_type": "stream",
     "text": [
      "loss:  0.024936156428378563\n",
      "1.0000000000000002e-06\n",
      "accuracy_0: 1.0, 0.9320987462997437, 0.9473684430122375\n",
      "accuracy_1: 0.9991722106933594, 0.9439071416854858, 0.9439071416854858\n",
      "accuracy_2: 0.9984025359153748, 0.6865671873092651, 0.3461538553237915\n",
      "accuracy_3: 0.9989428520202637, 0.8991389870643616, 0.894568681716919\n"
     ]
    },
    {
     "name": "stderr",
     "output_type": "stream",
     "text": [
      "Epoch[34/49]: 100%|████████████████████████████████████████████████████████████████████| 23/23 [00:38<00:00,  1.67s/it]\n"
     ]
    },
    {
     "name": "stdout",
     "output_type": "stream",
     "text": [
      "loss:  0.024263738128154175\n",
      "1.0000000000000002e-06\n",
      "accuracy_0: 1.0, 0.9320987462997437, 0.9473684430122375\n",
      "accuracy_1: 0.9991722106933594, 0.945841372013092, 0.945841372013092\n",
      "accuracy_2: 0.9976038336753845, 0.6940298676490784, 0.36538460850715637\n",
      "accuracy_3: 0.9985905289649963, 0.9015989899635315, 0.8977635502815247\n"
     ]
    },
    {
     "name": "stderr",
     "output_type": "stream",
     "text": [
      "Epoch[35/49]: 100%|████████████████████████████████████████████████████████████████████| 23/23 [00:38<00:00,  1.67s/it]\n"
     ]
    },
    {
     "name": "stdout",
     "output_type": "stream",
     "text": [
      "loss:  0.027887784187560497\n",
      "1.0000000000000002e-06\n",
      "accuracy_0: 1.0, 0.9320987462997437, 0.9473684430122375\n",
      "accuracy_1: 0.9991722106933594, 0.945841372013092, 0.945841372013092\n",
      "accuracy_2: 0.9984025359153748, 0.6940298676490784, 0.36538460850715637\n",
      "accuracy_3: 0.9989428520202637, 0.9015989899635315, 0.8977635502815247\n"
     ]
    },
    {
     "name": "stderr",
     "output_type": "stream",
     "text": [
      "Epoch[36/49]: 100%|████████████████████████████████████████████████████████████████████| 23/23 [00:38<00:00,  1.69s/it]\n"
     ]
    },
    {
     "name": "stdout",
     "output_type": "stream",
     "text": [
      "loss:  0.026817330199739208\n",
      "1.0000000000000002e-06\n",
      "accuracy_0: 1.0, 0.9320987462997437, 0.9473684430122375\n",
      "accuracy_1: 0.9991722106933594, 0.9187620878219604, 0.9187620878219604\n",
      "accuracy_2: 0.9984025359153748, 0.746268630027771, 0.42307692766189575\n",
      "accuracy_3: 0.9989428520202637, 0.892988920211792, 0.8801916837692261\n"
     ]
    },
    {
     "name": "stderr",
     "output_type": "stream",
     "text": [
      "Epoch[37/49]: 100%|████████████████████████████████████████████████████████████████████| 23/23 [00:38<00:00,  1.68s/it]\n"
     ]
    },
    {
     "name": "stdout",
     "output_type": "stream",
     "text": [
      "loss:  0.02347713393037734\n",
      "1.0000000000000002e-06\n",
      "accuracy_0: 1.0, 0.9320987462997437, 0.9473684430122375\n",
      "accuracy_1: 0.9991722106933594, 0.9264990091323853, 0.9264990091323853\n",
      "accuracy_2: 0.9984025359153748, 0.7164179086685181, 0.36538460850715637\n",
      "accuracy_3: 0.9989428520202637, 0.892988920211792, 0.8817891478538513\n"
     ]
    },
    {
     "name": "stderr",
     "output_type": "stream",
     "text": [
      "Epoch[38/49]: 100%|████████████████████████████████████████████████████████████████████| 23/23 [00:38<00:00,  1.69s/it]\n"
     ]
    },
    {
     "name": "stdout",
     "output_type": "stream",
     "text": [
      "loss:  0.02200495427393395\n",
      "1.0000000000000002e-06\n",
      "accuracy_0: 1.0, 0.9320987462997437, 0.9473684430122375\n",
      "accuracy_1: 0.9991722106933594, 0.9535783529281616, 0.9535783529281616\n",
      "accuracy_2: 0.9976038336753845, 0.6791045069694519, 0.3461538553237915\n",
      "accuracy_3: 0.9985905289649963, 0.9040590524673462, 0.9025558829307556\n"
     ]
    },
    {
     "name": "stderr",
     "output_type": "stream",
     "text": [
      "Epoch[39/49]: 100%|████████████████████████████████████████████████████████████████████| 23/23 [00:38<00:00,  1.69s/it]\n"
     ]
    },
    {
     "name": "stdout",
     "output_type": "stream",
     "text": [
      "loss:  0.021509846227000588\n",
      "1.0000000000000002e-07\n",
      "accuracy_0: 1.0, 0.9320987462997437, 0.9473684430122375\n",
      "accuracy_1: 0.9991722106933594, 0.9439071416854858, 0.9439071416854858\n",
      "accuracy_2: 0.9984025359153748, 0.7014925479888916, 0.36538460850715637\n",
      "accuracy_3: 0.9989428520202637, 0.9015989899635315, 0.8961661458015442\n"
     ]
    },
    {
     "name": "stderr",
     "output_type": "stream",
     "text": [
      "Epoch[40/49]: 100%|████████████████████████████████████████████████████████████████████| 23/23 [00:38<00:00,  1.68s/it]\n"
     ]
    },
    {
     "name": "stdout",
     "output_type": "stream",
     "text": [
      "loss:  0.020498369192785543\n",
      "1.0000000000000002e-07\n",
      "accuracy_0: 1.0, 0.9320987462997437, 0.9473684430122375\n",
      "accuracy_1: 0.9991722106933594, 0.9497098922729492, 0.9497098922729492\n",
      "accuracy_2: 0.9984025359153748, 0.6791045069694519, 0.3461538553237915\n",
      "accuracy_3: 0.9989428520202637, 0.9015989899635315, 0.8993610143661499\n"
     ]
    },
    {
     "name": "stderr",
     "output_type": "stream",
     "text": [
      "Epoch[41/49]: 100%|████████████████████████████████████████████████████████████████████| 23/23 [00:38<00:00,  1.68s/it]\n"
     ]
    },
    {
     "name": "stdout",
     "output_type": "stream",
     "text": [
      "loss:  0.02078383128442194\n",
      "1.0000000000000002e-07\n",
      "accuracy_0: 1.0, 0.9320987462997437, 0.9473684430122375\n",
      "accuracy_1: 0.9991722106933594, 0.9439071416854858, 0.9439071416854858\n",
      "accuracy_2: 0.9984025359153748, 0.7014925479888916, 0.36538460850715637\n",
      "accuracy_3: 0.9989428520202637, 0.9015989899635315, 0.8961661458015442\n"
     ]
    },
    {
     "name": "stderr",
     "output_type": "stream",
     "text": [
      "Epoch[42/49]: 100%|████████████████████████████████████████████████████████████████████| 23/23 [00:38<00:00,  1.70s/it]\n"
     ]
    },
    {
     "name": "stdout",
     "output_type": "stream",
     "text": [
      "loss:  0.02153012998726057\n",
      "1.0000000000000002e-07\n",
      "accuracy_0: 1.0, 0.9320987462997437, 0.9473684430122375\n",
      "accuracy_1: 0.9991722106933594, 0.9439071416854858, 0.9439071416854858\n",
      "accuracy_2: 0.9984025359153748, 0.6940298676490784, 0.36538460850715637\n",
      "accuracy_3: 0.9989428520202637, 0.9003689885139465, 0.8961661458015442\n"
     ]
    },
    {
     "name": "stderr",
     "output_type": "stream",
     "text": [
      "Epoch[43/49]: 100%|████████████████████████████████████████████████████████████████████| 23/23 [00:38<00:00,  1.68s/it]\n"
     ]
    },
    {
     "name": "stdout",
     "output_type": "stream",
     "text": [
      "loss:  0.022901084476515003\n",
      "1.0000000000000002e-07\n",
      "accuracy_0: 1.0, 0.9320987462997437, 0.9473684430122375\n",
      "accuracy_1: 0.9991722106933594, 0.9439071416854858, 0.9439071416854858\n",
      "accuracy_2: 0.9984025359153748, 0.7014925479888916, 0.36538460850715637\n",
      "accuracy_3: 0.9989428520202637, 0.9015989899635315, 0.8961661458015442\n"
     ]
    },
    {
     "name": "stderr",
     "output_type": "stream",
     "text": [
      "Epoch[44/49]: 100%|████████████████████████████████████████████████████████████████████| 23/23 [00:38<00:00,  1.68s/it]\n"
     ]
    },
    {
     "name": "stdout",
     "output_type": "stream",
     "text": [
      "loss:  0.021033744773139126\n",
      "1.0000000000000002e-07\n",
      "accuracy_0: 1.0, 0.9320987462997437, 0.9473684430122375\n",
      "accuracy_1: 0.9991722106933594, 0.945841372013092, 0.945841372013092\n",
      "accuracy_2: 0.9984025359153748, 0.6940298676490784, 0.36538460850715637\n",
      "accuracy_3: 0.9989428520202637, 0.9015989899635315, 0.8977635502815247\n"
     ]
    },
    {
     "name": "stderr",
     "output_type": "stream",
     "text": [
      "Epoch[45/49]: 100%|████████████████████████████████████████████████████████████████████| 23/23 [00:38<00:00,  1.68s/it]\n"
     ]
    },
    {
     "name": "stdout",
     "output_type": "stream",
     "text": [
      "loss:  0.021805222510643627\n",
      "1.0000000000000002e-07\n",
      "accuracy_0: 1.0, 0.9320987462997437, 0.9473684430122375\n",
      "accuracy_1: 0.9991722106933594, 0.9439071416854858, 0.9439071416854858\n",
      "accuracy_2: 0.9984025359153748, 0.6940298676490784, 0.36538460850715637\n",
      "accuracy_3: 0.9989428520202637, 0.9003689885139465, 0.8961661458015442\n"
     ]
    },
    {
     "name": "stderr",
     "output_type": "stream",
     "text": [
      "Epoch[46/49]: 100%|████████████████████████████████████████████████████████████████████| 23/23 [00:38<00:00,  1.68s/it]\n"
     ]
    },
    {
     "name": "stdout",
     "output_type": "stream",
     "text": [
      "loss:  0.02085370695947305\n",
      "1.0000000000000002e-07\n",
      "accuracy_0: 1.0, 0.9320987462997437, 0.9473684430122375\n",
      "accuracy_1: 0.9991722106933594, 0.9439071416854858, 0.9439071416854858\n",
      "accuracy_2: 0.9984025359153748, 0.6940298676490784, 0.36538460850715637\n",
      "accuracy_3: 0.9989428520202637, 0.9003689885139465, 0.8961661458015442\n"
     ]
    },
    {
     "name": "stderr",
     "output_type": "stream",
     "text": [
      "Epoch[47/49]: 100%|████████████████████████████████████████████████████████████████████| 23/23 [00:38<00:00,  1.68s/it]\n"
     ]
    },
    {
     "name": "stdout",
     "output_type": "stream",
     "text": [
      "loss:  0.02074111366401548\n"
     ]
    }
   ],
   "source": [
    "# Train the network\n",
    "\n",
    "for epoch in range(num_epochs):\n",
    "    batch_loss = np.array([])\n",
    "    loop = tqdm(enumerate(train_loader), total=len(train_loader))\n",
    "    for batch_idx, (data, targets) in loop:\n",
    "        data = data.to(device=device)\n",
    "        targets = targets.to(device=device)\n",
    "\n",
    "        scores = model(data)\n",
    "        loss = criterion(scores, targets)\n",
    "\n",
    "        optimizer.zero_grad()\n",
    "        loss.backward()\n",
    "\n",
    "        optimizer.step()\n",
    "        predictions = torch.argmax(scores, dim=1)\n",
    "               \n",
    "        loop.set_description(f\"Epoch[{epoch}/{num_epochs - 1}]\")\n",
    "        \n",
    "        batch_loss = np.append(batch_loss, loss.item())\n",
    "    \n",
    "    scheduler.step()\n",
    "    eval_hist[0][0].append(np.average(batch_loss))\n",
    "    print(\"loss: \", eval_hist[0][0][-1])\n",
    "    \n",
    "    for ee, eh in zip(eval_ent, eval_hist):\n",
    "        ev = evaluateTorch(ee, model)\n",
    "        for i in range(len(ev)):\n",
    "            eh[i + 1].append(ev[i])\n",
    "     \n",
    "    c_acc = eval_hist[eval_idx][-1][-1]\n",
    "    d_acc = eval_hist[eval_idx][2 + 1][-1]\n",
    "    p_acc = highest_acc\n",
    "    \n",
    "    if (c_acc > highest_acc):\n",
    "        print(f\"Best OA is on {epoch} epoch\") \n",
    "        torch.save(model.state_dict(), os.getcwd() + f\"\\\\ResNet3D_노균병_OA{epoch}_best.pt\")\n",
    "        highest_acc = c_acc\n",
    "        b_oa = epoch\n",
    "        \n",
    "    if (((abs(c_acc - p_acc) < 6) or (c_acc > p_acc)) and (d_acc > highest_dis)):\n",
    "        print(f\"Best diseased accuracy is on {epoch} epoch\") \n",
    "        torch.save(model.state_dict(), os.getcwd() + f\"\\\\ResNet3D_노균병_d{epoch}_best.pt\")\n",
    "        b_d = epoch\n",
    "        if c_acc > 0.8:\n",
    "            highest_dis = d_acc\n",
    "    \n",
    "    print(optimizer.param_groups[0]['lr'])   \n",
    "    trained_epochs = epoch\n",
    "    for i in range(num_classes + 1):\n",
    "        print(f\"accuracy_{i}: {eval_hist[0][i + 1][-1]}, {eval_hist[1][i + 1][-1]}, {eval_hist[2][i + 1][-1]}\")\n",
    "        # print(f\"accuracy_{i}: {eval_hist[0][i + 1][-1]}\")"
   ]
  },
  {
   "cell_type": "code",
   "execution_count": null,
   "id": "d21efd80-1359-47de-b580-35c095613a8e",
   "metadata": {},
   "outputs": [],
   "source": [
    "import pickle\n",
    "\n",
    "with open('training.pckl', 'wb') as f:\n",
    "    pickle.dump(eval_hist, f)"
   ]
  },
  {
   "cell_type": "code",
   "execution_count": null,
   "id": "7233d6bb-ed43-4900-b860-81eb3c2d2b69",
   "metadata": {},
   "outputs": [],
   "source": [
    "# Draw training graph\n",
    "\n",
    "def smooth(y, box_pts=5):\n",
    "    y = [y[0] for i in range(box_pts)] + y + [y[-1] for i in range(box_pts)]\n",
    "    box = np.ones(box_pts) / box_pts\n",
    "    y_smooth = np.convolve(y, box, mode='same')\n",
    "    return y_smooth[box_pts: -box_pts]\n",
    "\n",
    "eval_hist_s = []\n",
    "\n",
    "for data in eval_hist:\n",
    "    data_c = copy.deepcopy(data)\n",
    "    for i in range(len(data_c)):\n",
    "        if len(data_c[i]) > 0: \n",
    "            data_c[i] = smooth(data_c[i])\n",
    "        \n",
    "    eval_hist_s.append(data_c)\n",
    "\n",
    "epochs = [e for e in range(trained_epochs + 1)]\n",
    "\n",
    "plt.figure(figsize=(5, 10))\n",
    "for i in range(num_classes):\n",
    "    ax = plt.subplot(311 + i)\n",
    "    ax.set_title(classes[i])\n",
    "    ax.plot(epochs, eval_hist_s[0][1 + i], 'blue', label='train smooth')\n",
    "    ax.plot(epochs, eval_hist[0][1 + i], 'steelblue', linestyle='dashed', label='train')\n",
    "    \n",
    "    ax.plot(epochs, eval_hist_s[1][1 + i], 'red', label='test smooth')\n",
    "    ax.plot(epochs, eval_hist[1][1 + i], 'lightcoral', linestyle='dashed', label='test')\n",
    "    \n",
    "    ax.legend(loc='lower right')\n",
    "\n",
    "    \n",
    "plt.figure(figsize=(5, 3))    \n",
    "plt.plot(epochs, eval_hist_s[0][4], label='loss smothed')\n",
    "plt.plot(epochs, eval_hist[0][4], linestyle='dashed', label='loss')   \n",
    "plt.ylim(0, 1.1)\n",
    "plt.title(\"Overal accuracy\")"
   ]
  },
  {
   "cell_type": "code",
   "execution_count": null,
   "id": "6038e48d-c76a-4f9f-bbff-53a7de11656f",
   "metadata": {},
   "outputs": [],
   "source": [
    "def drawConfusionMatrix(actual, prediction, normalize=True, savefig=False):\n",
    "    confusion_matrix = metrics.confusion_matrix(actual, prediction)\n",
    "    cmn = confusion_matrix.astype('float') / confusion_matrix.sum(axis=1)[:, np.newaxis]\n",
    "    \n",
    "    if normalize:\n",
    "        confusion_matrix = cmn\n",
    "    \n",
    "    cm_display = metrics.ConfusionMatrixDisplay(confusion_matrix = confusion_matrix, display_labels = [\"0\", \"1\", \"2\"])\n",
    "    cm_display.plot()\n",
    "    plt.show()\n",
    "    \n",
    "    if savefig:\n",
    "        plt.savefig('confusion_matrix.png')"
   ]
  },
  {
   "cell_type": "code",
   "execution_count": null,
   "id": "3aab5706-bd93-490a-81ee-01864741acef",
   "metadata": {},
   "outputs": [],
   "source": [
    "# Predict \n",
    "\n",
    "def predictDataset(loader, model, savefig=False):\n",
    "    actual = np.array([])\n",
    "    prediction = np.array([])\n",
    "    model.eval()\n",
    "\n",
    "    with torch.no_grad():\n",
    "        for x, y in loader:\n",
    "            x = x.to(device=device)\n",
    "            y = y.to(device=device)\n",
    "\n",
    "            scores = model(x)\n",
    "            _, predictions = scores.max(1)\n",
    "            actual = np.append(actual, y.cpu().detach().numpy())\n",
    "            prediction = np.append(prediction, predictions.cpu().detach().numpy())\n",
    "    \n",
    "    return actual, prediction"
   ]
  },
  {
   "cell_type": "code",
   "execution_count": null,
   "id": "631171fd-30ef-4482-a641-4513d0a5fe28",
   "metadata": {},
   "outputs": [],
   "source": [
    "# save last\n",
    "# torch.save(model.state_dict(), os.getcwd() + \"\\\\ResNet3D_노균병_last_ep.pt\")\n",
    "\n",
    "# Load weights\n",
    "model.load_state_dict(torch.load(os.getcwd() + f\"\\\\ResNet3D_노균병_d{b_d}_best.pt\"))\n",
    "# model.load_state_dict(torch.load(os.getcwd() + f\"\\\\ResNet3D_노균병_OA{b_oa}_best.pt\"))"
   ]
  },
  {
   "cell_type": "code",
   "execution_count": null,
   "id": "91781664-e130-4079-be6d-bfc6a69bd836",
   "metadata": {},
   "outputs": [],
   "source": [
    "predictions = []\n",
    "for dataset in loaders:\n",
    "    predictions.append(predictDataset(dataset, model))"
   ]
  },
  {
   "cell_type": "code",
   "execution_count": null,
   "id": "3e1ca926-2424-45d1-9971-67f683562bdd",
   "metadata": {},
   "outputs": [],
   "source": [
    "for actual, prediction in predictions:\n",
    "    drawConfusionMatrix(actual, prediction, normalize=True)"
   ]
  },
  {
   "cell_type": "code",
   "execution_count": null,
   "id": "9b4dfb7c-9bf6-45fd-b8d1-f5fbad1cf7a0",
   "metadata": {},
   "outputs": [],
   "source": [
    "model.load_state_dict(torch.load(os.getcwd() + f\"\\\\ResNet3D_노균병_OA{b_oa}_best.pt\"))"
   ]
  },
  {
   "cell_type": "code",
   "execution_count": null,
   "id": "2543137d-75dd-44c4-bf35-745b2c649a66",
   "metadata": {},
   "outputs": [],
   "source": [
    "predictions = []\n",
    "for dataset in loaders:\n",
    "    predictions.append(predictDataset(dataset, model))"
   ]
  },
  {
   "cell_type": "code",
   "execution_count": null,
   "id": "d8f0544e-4109-4904-9680-19777cb5549b",
   "metadata": {},
   "outputs": [],
   "source": [
    "for actual, prediction in predictions:\n",
    "    drawConfusionMatrix(actual, prediction, normalize=True)"
   ]
  },
  {
   "cell_type": "code",
   "execution_count": null,
   "id": "238814fc-d91c-4fee-842e-5de5537b765f",
   "metadata": {},
   "outputs": [],
   "source": [
    "b_d, b_oa"
   ]
  },
  {
   "cell_type": "code",
   "execution_count": null,
   "id": "d5e72030-9a2f-43c2-b414-8dc9df0556d4",
   "metadata": {},
   "outputs": [],
   "source": []
  }
 ],
 "metadata": {
  "kernelspec": {
   "display_name": "Python 3 (ipykernel)",
   "language": "python",
   "name": "python3"
  },
  "language_info": {
   "codemirror_mode": {
    "name": "ipython",
    "version": 3
   },
   "file_extension": ".py",
   "mimetype": "text/x-python",
   "name": "python",
   "nbconvert_exporter": "python",
   "pygments_lexer": "ipython3",
   "version": "3.8.13"
  }
 },
 "nbformat": 4,
 "nbformat_minor": 5
}
