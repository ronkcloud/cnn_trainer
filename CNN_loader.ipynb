{
 "cells": [
  {
   "cell_type": "code",
   "execution_count": 1,
   "id": "e036fa61-087d-4af1-ad64-720b3cdb496e",
   "metadata": {},
   "outputs": [
    {
     "name": "stderr",
     "output_type": "stream",
     "text": [
      "E:\\Software\\anaconda3\\envs\\torch\\lib\\site-packages\\tqdm\\auto.py:22: TqdmWarning: IProgress not found. Please update jupyter and ipywidgets. See https://ipywidgets.readthedocs.io/en/stable/user_install.html\n",
      "  from .autonotebook import tqdm as notebook_tqdm\n"
     ]
    }
   ],
   "source": [
    "# Imports\n",
    "import torch\n",
    "import torchvision \n",
    "from torch.utils.data import Dataset \n",
    "from torch.utils.data import random_split \n",
    "import torchvision.transforms as transforms\n",
    "from torch.utils.data import DataLoader\n",
    "\n",
    "import os\n",
    "import numpy as np\n",
    "import pandas as pd\n",
    "import matplotlib.pyplot as plt\n",
    "from sklearn import metrics\n",
    "from PIL import Image\n",
    "import spectral as spec\n",
    "\n",
    "from dataGen import Patches\n",
    "from ResNet_75.ResNet_75 import ResNet_75 as CNN"
   ]
  },
  {
   "cell_type": "code",
   "execution_count": 2,
   "id": "141814c1-64fa-4574-aaf6-82212ac755a8",
   "metadata": {},
   "outputs": [],
   "source": [
    "def tensorToImg(tensor):\n",
    "    img = torch.zeros(img_size, img_size, 1)\n",
    "    for c_y, y in enumerate(tensor[0]):\n",
    "        for c_x, x in enumerate(y):\n",
    "            img[c_y][c_x] = x\n",
    "    return img"
   ]
  },
  {
   "cell_type": "code",
   "execution_count": 3,
   "id": "135d793e-0e18-4ff5-a548-f6f44aa49100",
   "metadata": {
    "tags": []
   },
   "outputs": [],
   "source": [
    "def displayImgs(imgs, labels, save=False):\n",
    "    fig = plt.figure(figsize=(20,11))\n",
    "    for pos, i in enumerate(imgs[:8]):\n",
    "        img = tensorToImg(i)\n",
    "        label = \"downy mildew\"\n",
    "        if labels[pos] == 0:\n",
    "            label = \"Non-disease\"\n",
    "        fig.add_subplot(4, 8, pos + 1).title.set_text(label)\n",
    "        plt.imshow(img)\n",
    "    plt.subplots_adjust(wspace=0.2)\n",
    "    plt.show()\n",
    "    if save:\n",
    "        fig.savefig('fig.png')"
   ]
  },
  {
   "cell_type": "code",
   "execution_count": 4,
   "id": "4df21f8f-3665-4855-966d-5196d663b997",
   "metadata": {},
   "outputs": [],
   "source": [
    "def predictPatch(loader, model, savefig=False):\n",
    "    model.eval()\n",
    "\n",
    "    with torch.no_grad():\n",
    "        for x, y in loader:\n",
    "            x = x.to(device=device)\n",
    "            y = y.to(device=device)\n",
    "\n",
    "            scores = model(x)\n",
    "            _, predictions = scores.max(1)\n",
    "            displayImgs(x, predictions, savefig)\n",
    "            break\n",
    "    model.train()"
   ]
  },
  {
   "cell_type": "code",
   "execution_count": 5,
   "id": "0a6e568e-fe6c-42d3-aead-c5afb1c666d2",
   "metadata": {},
   "outputs": [],
   "source": [
    "# Set device\n",
    "device = torch.device(\"cuda\" if torch.cuda.is_available() else \"cpu\")"
   ]
  },
  {
   "cell_type": "code",
   "execution_count": 6,
   "id": "70cc6c70-bb85-4f2f-9157-62a880f1f7ef",
   "metadata": {},
   "outputs": [],
   "source": [
    "# Hyperparameters\n",
    "in_channels = 75\n",
    "num_classes = 2\n",
    "img_size = 12\n",
    "batch_size = 128\n",
    "\n",
    "model_dir = os.getcwd() + \"\\\\ResNet_75\\\\ResNet_75_14_21_25_28_노균병_t70.pt\""
   ]
  },
  {
   "cell_type": "code",
   "execution_count": 7,
   "id": "a2be5408-8fcd-4274-92b7-d00188f5bf91",
   "metadata": {},
   "outputs": [
    {
     "data": {
      "text/plain": [
       "Compose(\n",
       "    ToTensor()\n",
       "    Resize(size=(12, 12), interpolation=bilinear)\n",
       "    ConvertImageDtype()\n",
       ")"
      ]
     },
     "execution_count": 7,
     "metadata": {},
     "output_type": "execute_result"
    }
   ],
   "source": [
    "# Transformers\n",
    "img_transform = transforms.Compose([\n",
    "    transforms.ToTensor(),\n",
    "    transforms.Resize((img_size, img_size)),\n",
    "    transforms.ConvertImageDtype(torch.float)])\n",
    "img_transform"
   ]
  },
  {
   "cell_type": "code",
   "execution_count": 8,
   "id": "154574f4-c135-487f-8760-de03f8f4e0f8",
   "metadata": {},
   "outputs": [],
   "source": [
    "# Custom Image Dataset\n",
    "class Img(Dataset):\n",
    "    def __init__(self, img_df, transform=None, s=100):\n",
    "        self.img_df = img_df\n",
    "        self.transform = transform\n",
    "\n",
    "    def __len__(self):\n",
    "        return len(self.img_df)\n",
    "\n",
    "    def __getitem__(self, idx):\n",
    "        img_path = self.img_df['path'].iloc[idx]\n",
    "        img = spec.envi.open(img_path)\n",
    "        np_img = np.array(img[:, :, :])\n",
    "        label = self.img_df['class'].iloc[idx]\n",
    "        if self.transform:\n",
    "            image = self.transform(np_img)\n",
    "        return image, label"
   ]
  },
  {
   "cell_type": "code",
   "execution_count": 9,
   "id": "b3770663-2d2c-4dae-a7c5-c7f5d162830d",
   "metadata": {},
   "outputs": [],
   "source": [
    "patch_14 = Patches(\"D:\\\\gyeongsang_22_10_14\\\\PATCHES\")\n",
    "patch_21 = Patches(\"D:\\\\gyeongsang_22_10_21_1\\\\PATCHES\")\n",
    "patch_25 = Patches(\"D:\\\\gyeongsang_22_10_25\\\\PATCHES\")\n",
    "patch_28 = Patches(\"E:\\\\gyeongsang_22_10_28\\\\PATCHES\")"
   ]
  },
  {
   "cell_type": "code",
   "execution_count": 10,
   "id": "5fc4c3fa-5b9e-4fc9-89b8-897207642426",
   "metadata": {},
   "outputs": [
    {
     "name": "stdout",
     "output_type": "stream",
     "text": [
      "For hdr image, there are: \n",
      " leaf          5254\n",
      "background    2737\n",
      "diseased        83\n",
      "Name: class, dtype: int64\n",
      "For jpg image, there are: \n",
      " leaf          5254\n",
      "background    2737\n",
      "diseased        83\n",
      "Name: class, dtype: int64\n",
      "For hdr image, there are: \n",
      " leaf          5933\n",
      "background    4746\n",
      "diseased        76\n",
      "Name: class, dtype: int64\n",
      "For jpg image, there are: \n",
      " leaf          5933\n",
      "background    4746\n",
      "diseased        76\n",
      "Name: class, dtype: int64\n",
      "For hdr image, there are: \n",
      " leaf          3554\n",
      "background    3247\n",
      "diseased       135\n",
      "Name: class, dtype: int64\n",
      "For jpg image, there are: \n",
      " leaf          3554\n",
      "background    3247\n",
      "diseased       135\n",
      "Name: class, dtype: int64\n",
      "For hdr image, there are: \n",
      " background    12995\n",
      "leaf           8122\n",
      "diseased        245\n",
      "Name: class, dtype: int64\n",
      "For jpg image, there are: \n",
      " background    12995\n",
      "leaf           8122\n",
      "diseased        245\n",
      "Name: class, dtype: int64\n",
      "None None None None\n"
     ]
    }
   ],
   "source": [
    "print(patch_14.describe(),\n",
    "      patch_21.describe(),\n",
    "      patch_25.describe(),\n",
    "      patch_28.describe())"
   ]
  },
  {
   "cell_type": "code",
   "execution_count": 11,
   "id": "3d8725e2-b301-4045-8409-aefb292d47dc",
   "metadata": {},
   "outputs": [],
   "source": [
    "def getDataset(patch, dc):\n",
    "    p = patch.generateDataset(\n",
    "        dataset_composition = [\n",
    "            ['diseased',    dc[0]],\n",
    "            ['leaf',        dc[1]],\n",
    "            ['background',  dc[2]]],\n",
    "        data_type = 'hdr')\n",
    "    \n",
    "    p.loc[(p['class'] == 'background'), 'class'] = 0\n",
    "    p.loc[(p['class'] == 'leaf'), 'class'] = 0\n",
    "    p.loc[(p['class'] == 'diseased'), 'class'] = 1\n",
    "\n",
    "    print(p.describe())\n",
    "    \n",
    "    return p"
   ]
  },
  {
   "cell_type": "code",
   "execution_count": 12,
   "id": "f538c7b0-d578-4422-b811-ca2d75aec27d",
   "metadata": {},
   "outputs": [
    {
     "name": "stdout",
     "output_type": "stream",
     "text": [
      "                                                     path type  class\n",
      "count                                                 913  913    913\n",
      "unique                                                913    1      2\n",
      "top     D:\\gyeongsang_22_10_14\\PATCHES\\MOS_CAL_GEOREF_...  hdr      0\n",
      "freq                                                    1  913    830\n",
      "                                                     path type  class\n",
      "count                                                 836  836    836\n",
      "unique                                                836    1      2\n",
      "top     D:\\gyeongsang_22_10_21_1\\PATCHES\\MOS_CAL_GEORE...  hdr      0\n",
      "freq                                                    1  836    760\n",
      "                                                     path  type  class\n",
      "count                                                1485  1485   1485\n",
      "unique                                               1485     1      2\n",
      "top     D:\\gyeongsang_22_10_25\\PATCHES\\MOS_CAL_GEOREF_...   hdr      0\n",
      "freq                                                    1  1485   1350\n",
      "                                                     path  type  class\n",
      "count                                                2695  2695   2695\n",
      "unique                                               2695     1      2\n",
      "top     E:\\gyeongsang_22_10_28\\PATCHES\\MOS_CAL_GEOREF_...   hdr      0\n",
      "freq                                                    1  2695   2450\n"
     ]
    }
   ],
   "source": [
    "patch_14_ds = getDataset(patch_14, [83, 415, 415])\n",
    "patch_21_ds = getDataset(patch_21, [76, 380, 380])\n",
    "patch_25_ds = getDataset(patch_25, [135, 675, 675])\n",
    "patch_28_ds = getDataset(patch_28, [245, 1225, 1225])\n",
    "patch_dataset = pd.concat([patch_14_ds, patch_21_ds, patch_25_ds, patch_28_ds])"
   ]
  },
  {
   "cell_type": "code",
   "execution_count": 13,
   "id": "9f6c3bce-8ad6-4176-b757-bf6528caa250",
   "metadata": {},
   "outputs": [],
   "source": [
    "dataset_14 = DataLoader(dataset=Img(img_df=patch_14_ds, transform=img_transform), batch_size=batch_size, shuffle=True)\n",
    "dataset_21 = DataLoader(dataset=Img(img_df=patch_21_ds, transform=img_transform), batch_size=batch_size, shuffle=True)\n",
    "dataset_25 = DataLoader(dataset=Img(img_df=patch_25_ds, transform=img_transform), batch_size=batch_size, shuffle=True)\n",
    "dataset_28 = DataLoader(dataset=Img(img_df=patch_28_ds, transform=img_transform), batch_size=batch_size, shuffle=True)\n",
    "\n",
    "dataset = DataLoader(dataset=Img(img_df=patch_dataset, transform=img_transform), batch_size=batch_size, shuffle=True)"
   ]
  },
  {
   "cell_type": "code",
   "execution_count": 14,
   "id": "3d01040b-2370-4dd7-b3b1-1274de5944c6",
   "metadata": {},
   "outputs": [
    {
     "data": {
      "text/plain": [
       "torch.Size([128, 75, 12, 12])"
      ]
     },
     "execution_count": 14,
     "metadata": {},
     "output_type": "execute_result"
    }
   ],
   "source": [
    "next(iter(dataset))[0].shape   "
   ]
  },
  {
   "cell_type": "code",
   "execution_count": 15,
   "id": "a08420aa-169a-40d7-963a-211380c91dde",
   "metadata": {},
   "outputs": [
    {
     "data": {
      "image/png": "[encoded data removed]",
      "text/plain": [
       "<Figure size 1440x792 with 8 Axes>"
      ]
     },
     "metadata": {
      "needs_background": "light"
     },
     "output_type": "display_data"
    }
   ],
   "source": [
    "for train_sample in dataset:\n",
    "    displayImgs(train_sample[0], train_sample[1], save=False)\n",
    "    break"
   ]
  },
  {
   "cell_type": "code",
   "execution_count": 16,
   "id": "91a6aa8c-5541-49cc-8f53-26df557b0f9b",
   "metadata": {},
   "outputs": [],
   "source": [
    "# Initialize network\n",
    "model = CNN(in_channels=in_channels, num_classes=num_classes).to(device)"
   ]
  },
  {
   "cell_type": "code",
   "execution_count": 17,
   "id": "65c452d0-a599-472c-bb39-080acbf51d95",
   "metadata": {},
   "outputs": [
    {
     "data": {
      "text/plain": [
       "<All keys matched successfully>"
      ]
     },
     "execution_count": 17,
     "metadata": {},
     "output_type": "execute_result"
    }
   ],
   "source": [
    "# Load weights\n",
    "model.load_state_dict(torch.load(model_dir))"
   ]
  },
  {
   "cell_type": "code",
   "execution_count": 18,
   "id": "31d1b1b0-6268-4a79-beee-be9efc8bde54",
   "metadata": {},
   "outputs": [
    {
     "data": {
      "text/plain": [
       "ResNet_75(\n",
       "  (conv1): Conv2d(75, 64, kernel_size=(3, 3), stride=(1, 1), padding=(1, 1), bias=False)\n",
       "  (conv2): Conv2d(64, 64, kernel_size=(3, 3), stride=(1, 1), padding=(1, 1), bias=False)\n",
       "  (bn1): BatchNorm2d(64, eps=1e-05, momentum=0.1, affine=True, track_running_stats=True)\n",
       "  (maxpool): MaxPool2d(kernel_size=2, stride=2, padding=1, dilation=1, ceil_mode=False)\n",
       "  (conv3): Conv2d(64, 64, kernel_size=(3, 3), stride=(1, 1), padding=(1, 1), bias=False)\n",
       "  (conv4): Conv2d(64, 64, kernel_size=(3, 3), stride=(1, 1), padding=(1, 1), bias=False)\n",
       "  (bn2): BatchNorm2d(64, eps=1e-05, momentum=0.1, affine=True, track_running_stats=True)\n",
       "  (relu): ReLU(inplace=True)\n",
       "  (maxpool2): MaxPool2d(kernel_size=2, stride=2, padding=1, dilation=1, ceil_mode=False)\n",
       "  (downsample): Sequential(\n",
       "    (0): Conv2d(75, 64, kernel_size=(1, 1), stride=(1, 1), bias=False)\n",
       "    (1): BatchNorm2d(64, eps=1e-05, momentum=0.1, affine=True, track_running_stats=True)\n",
       "  )\n",
       "  (fc1): Linear(in_features=1024, out_features=512, bias=True)\n",
       "  (dropout): Dropout(p=0.2, inplace=False)\n",
       "  (fc2): Linear(in_features=512, out_features=2, bias=True)\n",
       ")"
      ]
     },
     "execution_count": 18,
     "metadata": {},
     "output_type": "execute_result"
    }
   ],
   "source": [
    "model.eval()"
   ]
  },
  {
   "cell_type": "code",
   "execution_count": 19,
   "id": "23c9c190-9335-4b1d-b6a7-3c86859e7ebd",
   "metadata": {},
   "outputs": [],
   "source": [
    "# Predict \n",
    "def predictDataset(loader, model, savefig=False):\n",
    "    actual = np.array([])\n",
    "    prediction = np.array([])\n",
    "    model.eval()\n",
    "\n",
    "    with torch.no_grad():\n",
    "        for x, y in loader:\n",
    "            x = x.to(device=device)\n",
    "            y = y.to(device=device)\n",
    "\n",
    "            scores = model(x)\n",
    "            _, predictions = scores.max(1)\n",
    "            actual = np.append(actual, y.cpu().detach().numpy())\n",
    "            prediction = np.append(prediction, predictions.cpu().detach().numpy())\n",
    "    model.train()\n",
    "    \n",
    "    return actual, prediction"
   ]
  },
  {
   "cell_type": "code",
   "execution_count": 22,
   "id": "6e4f495a-fe2a-487b-a9d8-5eeaa31d0821",
   "metadata": {},
   "outputs": [],
   "source": [
    "actual_14, prediction_14 = predictDataset(dataset_14, model)\n",
    "actual_21, prediction_21 = predictDataset(dataset_21, model)\n",
    "actual_25, prediction_25 = predictDataset(dataset_25, model)\n",
    "actual_28, prediction_28 = predictDataset(dataset_28, model)\n",
    "\n",
    "actual, prediction = predictDataset(dataset, model)"
   ]
  },
  {
   "cell_type": "code",
   "execution_count": 43,
   "id": "5cff9e25-240f-41c5-baa2-140adf8582e6",
   "metadata": {},
   "outputs": [],
   "source": [
    "def drawConfusionMatrix(actual, prediction, normalize=True, savefig=True):\n",
    "    confusion_matrix = metrics.confusion_matrix(actual, prediction)\n",
    "    cmn = confusion_matrix.astype('float') / confusion_matrix.sum(axis=1)[:, np.newaxis]\n",
    "    \n",
    "    if normalize:\n",
    "        confusion_matrix = cmn\n",
    "    \n",
    "    cm_display = metrics.ConfusionMatrixDisplay(confusion_matrix = confusion_matrix, display_labels = [\"non-diseased\", \"diseased\"])\n",
    "    cm_display.plot()\n",
    "    \n",
    "    if savefig:\n",
    "        cm_display.figure_.savefig('conf_mat.png')"
   ]
  },
  {
   "cell_type": "code",
   "execution_count": 44,
   "id": "a8539e4b-4252-4490-b90b-5024b5aad8d3",
   "metadata": {},
   "outputs": [
    {
     "data": {
      "image/png": "[encoded data removed]",
      "text/plain": [
       "<Figure size 432x288 with 2 Axes>"
      ]
     },
     "metadata": {
      "needs_background": "light"
     },
     "output_type": "display_data"
    }
   ],
   "source": [
    "drawConfusionMatrix(actual_14, prediction_14, normalize=True)"
   ]
  },
  {
   "cell_type": "code",
   "execution_count": 46,
   "id": "18194b1e-bb7d-4d87-8c9a-189f1f9046f4",
   "metadata": {},
   "outputs": [
    {
     "data": {
      "image/png": "[encoded data removed]",
      "text/plain": [
       "<Figure size 432x288 with 2 Axes>"
      ]
     },
     "metadata": {
      "needs_background": "light"
     },
     "output_type": "display_data"
    }
   ],
   "source": [
    "drawConfusionMatrix(actual_21, prediction_21, normalize=True)"
   ]
  },
  {
   "cell_type": "code",
   "execution_count": 47,
   "id": "00e704b6-2bb3-4700-a2ff-db1bdfd02e34",
   "metadata": {},
   "outputs": [
    {
     "data": {
      "image/png": "[encoded data removed]",
      "text/plain": [
       "<Figure size 432x288 with 2 Axes>"
      ]
     },
     "metadata": {
      "needs_background": "light"
     },
     "output_type": "display_data"
    }
   ],
   "source": [
    "drawConfusionMatrix(actual_25, prediction_25, normalize=True)"
   ]
  },
  {
   "cell_type": "code",
   "execution_count": 48,
   "id": "92c34231-b74c-4814-ab6f-bd540af4c744",
   "metadata": {},
   "outputs": [
    {
     "data": {
      "image/png": "[encoded data removed]",
      "text/plain": [
       "<Figure size 432x288 with 2 Axes>"
      ]
     },
     "metadata": {
      "needs_background": "light"
     },
     "output_type": "display_data"
    }
   ],
   "source": [
    "drawConfusionMatrix(actual_28, prediction_28, normalize=True)"
   ]
  },
  {
   "cell_type": "code",
   "execution_count": 28,
   "id": "9a5879d7-25ab-4630-abf8-943c362904e9",
   "metadata": {},
   "outputs": [
    {
     "data": {
      "image/png": "[encoded data removed]",
      "text/plain": [
       "<Figure size 432x288 with 2 Axes>"
      ]
     },
     "metadata": {
      "needs_background": "light"
     },
     "output_type": "display_data"
    }
   ],
   "source": [
    "drawConfusionMatrix(actual, prediction, normalize=True)"
   ]
  },
  {
   "cell_type": "code",
   "execution_count": null,
   "id": "1f041763-3983-4fc0-9302-0fd4e78ff52b",
   "metadata": {},
   "outputs": [],
   "source": []
  }
 ],
 "metadata": {
  "kernelspec": {
   "display_name": "Python 3 (ipykernel)",
   "language": "python",
   "name": "python3"
  },
  "language_info": {
   "codemirror_mode": {
    "name": "ipython",
    "version": 3
   },
   "file_extension": ".py",
   "mimetype": "text/x-python",
   "name": "python",
   "nbconvert_exporter": "python",
   "pygments_lexer": "ipython3",
   "version": "3.8.13"
  },
  "vscode": {
   "interpreter": {
    "hash": "ad4f31c54e426d532c68974d217d07191913b90d0d60a1b98136b2fdbf775071"
   }
  }
 },
 "nbformat": 4,
 "nbformat_minor": 5
}
