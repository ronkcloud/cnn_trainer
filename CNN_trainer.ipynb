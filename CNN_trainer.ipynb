{
 "cells": [
  {
   "cell_type": "code",
   "execution_count": 1,
   "id": "53b3d5a6-10bd-4773-a1fd-9ecf719c2093",
   "metadata": {},
   "outputs": [
    {
     "name": "stderr",
     "output_type": "stream",
     "text": [
      "E:\\Software\\anaconda3\\envs\\torch\\lib\\site-packages\\tqdm\\auto.py:22: TqdmWarning: IProgress not found. Please update jupyter and ipywidgets. See https://ipywidgets.readthedocs.io/en/stable/user_install.html\n",
      "  from .autonotebook import tqdm as notebook_tqdm\n"
     ]
    }
   ],
   "source": [
    "# Imports\n",
    "import torch\n",
    "import matplotlib.pyplot as plt\n",
    "import torchvision\n",
    "import torch.nn.functional as F \n",
    "from torch import nn \n",
    "import torchvision.datasets as datasets\n",
    "from torch.utils.data import Dataset \n",
    "from torch.utils.data import random_split \n",
    "import torchvision.transforms as transforms \n",
    "import os\n",
    "import shutil\n",
    "import numpy as np\n",
    "import pandas as pd\n",
    "from torchvision.io import read_image\n",
    "from torch import optim\n",
    "from torch.utils.data import DataLoader \n",
    "from sklearn.metrics import precision_score, accuracy_score, recall_score, f1_score\n",
    "from tqdm import tqdm \n",
    "from sklearn import metrics\n",
    "\n",
    "from dataGen import Patches\n",
    "from ResNet_75.ResNet_75 import ResNet_75 as CNN\n",
    "from PIL import Image\n",
    "import spectral as spec"
   ]
  },
  {
   "cell_type": "code",
   "execution_count": 2,
   "id": "5d9e3d10-2c8a-48dd-a3d2-591604e55359",
   "metadata": {},
   "outputs": [],
   "source": [
    "# Custom image dataset\n",
    "\n",
    "class Img(Dataset):\n",
    "    def __init__(self, img_df, transform=None):\n",
    "        self.img_df = img_df\n",
    "        self.transform = transform\n",
    "\n",
    "    def __len__(self):\n",
    "        return len(self.img_df)\n",
    "\n",
    "    def __getitem__(self, idx):\n",
    "        img_path = self.img_df['path'].iloc[idx]\n",
    "        img = spec.envi.open(img_path)\n",
    "        np_img = np.array(img[:, :, :])\n",
    "        label = self.img_df['class'].iloc[idx]\n",
    "        if self.transform:\n",
    "            image = self.transform(np_img)\n",
    "        return image, label"
   ]
  },
  {
   "cell_type": "code",
   "execution_count": 3,
   "id": "f1238a1c-dae9-4c6c-8682-1e33f40c5495",
   "metadata": {},
   "outputs": [],
   "source": [
    "def tensorToImg(tensor, img_size):\n",
    "    img = torch.zeros(img_size, img_size, 1)\n",
    "    for c_y, y in enumerate(tensor[0]):\n",
    "        for c_x, x in enumerate(y):\n",
    "            img[c_y][c_x] = x\n",
    "    return img"
   ]
  },
  {
   "cell_type": "code",
   "execution_count": 4,
   "id": "a61a0dcd-aae7-4f62-8acb-1ea385622a9b",
   "metadata": {},
   "outputs": [],
   "source": [
    "def displayImgs(imgs, labels, img_size, save=False):\n",
    "    fig = plt.figure(figsize=(20,11))\n",
    "    for pos, i in enumerate(imgs[:8]):\n",
    "        img = tensorToImg(i, img_size)\n",
    "        label = \"downy mildew\"\n",
    "        if labels[pos] == 0:\n",
    "            label = \"Non-disease\"\n",
    "        fig.add_subplot(4, 8, pos + 1).title.set_text(label)\n",
    "        plt.imshow(img)\n",
    "    plt.subplots_adjust(wspace=0.2)\n",
    "    plt.show()\n",
    "    if save:\n",
    "        fig.savefig('fig.png')"
   ]
  },
  {
   "cell_type": "code",
   "execution_count": 5,
   "id": "bccb66fc-7ac7-4282-8948-c447e05f6849",
   "metadata": {},
   "outputs": [
    {
     "data": {
      "text/plain": [
       "1"
      ]
     },
     "execution_count": 5,
     "metadata": {},
     "output_type": "execute_result"
    }
   ],
   "source": [
    "# Set device\n",
    "\n",
    "device = torch.device(\"cuda\" if torch.cuda.is_available() else \"cpu\")\n",
    "torch.cuda.device_count()"
   ]
  },
  {
   "cell_type": "code",
   "execution_count": 6,
   "id": "9e23d207-a12b-46d3-948f-384ad4986d59",
   "metadata": {},
   "outputs": [],
   "source": [
    "# Hyperparameters\n",
    "\n",
    "in_channels = 75\n",
    "num_classes = 3\n",
    "img_size = 12\n",
    "learning_rate = 0.0001\n",
    "batch_size = 32\n",
    "num_epochs = 60\n",
    "frac = .7"
   ]
  },
  {
   "cell_type": "code",
   "execution_count": 7,
   "id": "28712d3a-cb34-4fe3-9c7b-c95b76af4133",
   "metadata": {},
   "outputs": [
    {
     "data": {
      "text/plain": [
       "Compose(\n",
       "    ToTensor()\n",
       "    Resize(size=(12, 12), interpolation=bilinear)\n",
       "    ConvertImageDtype()\n",
       ")"
      ]
     },
     "execution_count": 7,
     "metadata": {},
     "output_type": "execute_result"
    }
   ],
   "source": [
    "# Transformers\n",
    "\n",
    "img_transform = transforms.Compose([\n",
    "    transforms.ToTensor(),\n",
    "    transforms.Resize((img_size, img_size)),\n",
    "    transforms.ConvertImageDtype(torch.float)])\n",
    "img_transform"
   ]
  },
  {
   "cell_type": "code",
   "execution_count": 8,
   "id": "7005fd65-8ec8-4c03-9f75-443419e8228d",
   "metadata": {},
   "outputs": [],
   "source": [
    "# Init dataset\n",
    "\n",
    "patch_14 = Patches(\"D:\\\\gyeongsang_22_10_14\\\\PATCHES\")\n",
    "patch_21 = Patches(\"D:\\\\gyeongsang_22_10_21_1\\\\PATCHES\")\n",
    "patch_25 = Patches(\"D:\\\\gyeongsang_22_10_25\\\\PATCHES\")\n",
    "patch_28 = Patches(\"D:\\\\gyeongsang_22_10_28\\\\PATCHES\")"
   ]
  },
  {
   "cell_type": "code",
   "execution_count": 9,
   "id": "04375b2d-5dd4-4dba-a1b6-0d2b5c34f8be",
   "metadata": {},
   "outputs": [
    {
     "name": "stdout",
     "output_type": "stream",
     "text": [
      "For hdr image, there are: \n",
      " background    1178\n",
      "leaf           820\n",
      "diseased        98\n",
      "Name: class, dtype: int64\n",
      "For jpg image, there are: \n",
      " background    1178\n",
      "leaf           820\n",
      "diseased        98\n",
      "Name: class, dtype: int64\n",
      "For hdr image, there are: \n",
      " background    791\n",
      "leaf          628\n",
      "diseased       86\n",
      "Name: class, dtype: int64\n",
      "For jpg image, there are: \n",
      " background    791\n",
      "leaf          628\n",
      "diseased       86\n",
      "Name: class, dtype: int64\n",
      "For hdr image, there are: \n",
      " leaf          267\n",
      "background    266\n",
      "diseased       68\n",
      "Name: class, dtype: int64\n",
      "For jpg image, there are: \n",
      " leaf          267\n",
      "background    266\n",
      "diseased       68\n",
      "Name: class, dtype: int64\n",
      "For hdr image, there are: \n",
      " background    793\n",
      "leaf          627\n",
      "diseased      189\n",
      "Name: class, dtype: int64\n",
      "For jpg image, there are: \n",
      " background    793\n",
      "leaf          627\n",
      "diseased      189\n",
      "Name: class, dtype: int64\n",
      "None None None None\n"
     ]
    }
   ],
   "source": [
    "print(patch_14.describe(),\n",
    "      patch_21.describe(),\n",
    "      patch_25.describe(),\n",
    "      patch_28.describe())"
   ]
  },
  {
   "cell_type": "code",
   "execution_count": 10,
   "id": "ca40cc97-ade9-4186-9bd7-1954e2626874",
   "metadata": {},
   "outputs": [],
   "source": [
    "def getDataset(patch, dc, train_frac = .7):\n",
    "    patch_ds = patch.generateAndSplitDataset(\n",
    "        dataset_composition = [\n",
    "            ['diseased',    dc[0]],\n",
    "            ['leaf',        dc[1]],\n",
    "            ['background',  dc[2]]],\n",
    "        data_type = 'hdr',\n",
    "        train_frac = train_frac)\n",
    "    for p in patch_ds:\n",
    "        p.loc[(p['class'] == 'background'), 'class'] = 0\n",
    "        p.loc[(p['class'] == 'leaf'), 'class'] = 1\n",
    "        p.loc[(p['class'] == 'diseased'), 'class'] = 2\n",
    "\n",
    "        print(p.describe())\n",
    "    \n",
    "    return patch_ds"
   ]
  },
  {
   "cell_type": "code",
   "execution_count": 11,
   "id": "04ad98fa-50d7-49f7-b127-aff18a2b975b",
   "metadata": {},
   "outputs": [
    {
     "name": "stdout",
     "output_type": "stream",
     "text": [
      "                                                     path type  class\n",
      "count                                                 628  628    628\n",
      "unique                                                628    1      3\n",
      "top     D:\\gyeongsang_22_10_14\\PATCHES\\STACK_75_BANDS_...  hdr      0\n",
      "freq                                                    1  628    353\n",
      "                                                     path  type  class\n",
      "count                                                1468  1468   1468\n",
      "unique                                               1468     1      3\n",
      "top     D:\\gyeongsang_22_10_14\\PATCHES\\STACK_75_BANDS_...   hdr      0\n",
      "freq                                                    1  1468    825\n",
      "                                                     path type  class\n",
      "count                                                 451  451    451\n",
      "unique                                                451    1      3\n",
      "top     D:\\gyeongsang_22_10_21_1\\PATCHES\\STACK_75_BAND...  hdr      0\n",
      "freq                                                    1  451    237\n",
      "                                                     path  type  class\n",
      "count                                                1054  1054   1054\n",
      "unique                                               1054     1      3\n",
      "top     D:\\gyeongsang_22_10_21_1\\PATCHES\\STACK_75_BAND...   hdr      0\n",
      "freq                                                    1  1054    554\n",
      "                                                     path type  class\n",
      "count                                                 180  180    180\n",
      "unique                                                180    1      3\n",
      "top     D:\\gyeongsang_22_10_25\\PATCHES\\STACK_75_BANDS_...  hdr      1\n",
      "freq                                                    1  180     80\n",
      "                                                     path type  class\n",
      "count                                                 420  420    420\n",
      "unique                                                420    1      3\n",
      "top     D:\\gyeongsang_22_10_25\\PATCHES\\STACK_75_BANDS_...  hdr      1\n",
      "freq                                                    1  420    186\n",
      "                                                     path  type  class\n",
      "count                                                1126  1126   1126\n",
      "unique                                               1126     1      3\n",
      "top     D:\\gyeongsang_22_10_28\\PATCHES\\STACK_75_BANDS_...   hdr      0\n",
      "freq                                                    1  1126    555\n",
      "                                                     path type  class\n",
      "count                                                 483  483    483\n",
      "unique                                                483    1      3\n",
      "top     D:\\gyeongsang_22_10_28\\PATCHES\\STACK_75_BANDS_...  hdr      0\n",
      "freq                                                    1  483    238\n"
     ]
    }
   ],
   "source": [
    "patch_14_ds = getDataset(patch_14, [98, 820, 1178], train_frac = .3)\n",
    "patch_21_ds = getDataset(patch_21, [86, 628, 791], train_frac = .3)\n",
    "patch_25_ds = getDataset(patch_25, [68, 266, 266], train_frac = .3)\n",
    "patch_28_ds = getDataset(patch_28, [189, 627, 793])"
   ]
  },
  {
   "cell_type": "code",
   "execution_count": 12,
   "id": "ccce044d-5784-4d01-a229-255556c26d78",
   "metadata": {},
   "outputs": [],
   "source": [
    "train_patch = pd.concat([patch_14_ds[0], patch_21_ds[0], patch_25_ds[0], patch_28_ds[0]])\n",
    "val_patch = pd.concat([patch_14_ds[1], patch_21_ds[1], patch_25_ds[1], patch_28_ds[1]])\n",
    "# train_patch = patch_28_ds[0]\n",
    "# val_patch = patch_28_ds[1]"
   ]
  },
  {
   "cell_type": "code",
   "execution_count": 13,
   "id": "040446ab-3a27-4edc-9bb9-8b2b4e9ce75d",
   "metadata": {},
   "outputs": [],
   "source": [
    "patch_28_ds[0].to_csv(\"train_new.csv\")\n",
    "patch_28_ds[1].to_csv(\"val_new.csv\")"
   ]
  },
  {
   "cell_type": "code",
   "execution_count": 14,
   "id": "6ff057e7-a5aa-42f6-aa83-e42fbfaaeb65",
   "metadata": {},
   "outputs": [
    {
     "name": "stdout",
     "output_type": "stream",
     "text": [
      "The num of training dataset is 2385 and num of validation dataset is 3425\n"
     ]
    }
   ],
   "source": [
    "train_dataset = Img(img_df=train_patch, transform=img_transform)\n",
    "val_dataset = Img(img_df=val_patch, transform=img_transform)\n",
    "\n",
    "print(f\"The num of training dataset is {len(train_dataset)} and num of validation dataset is {len(val_dataset)}\")"
   ]
  },
  {
   "cell_type": "code",
   "execution_count": 15,
   "id": "e926657c-a9e6-44db-81d0-7a3ed687cfb8",
   "metadata": {},
   "outputs": [],
   "source": [
    "train_loader = DataLoader(dataset=train_dataset, batch_size=batch_size, shuffle=True)\n",
    "test_loader = DataLoader(dataset=val_dataset, batch_size=batch_size, shuffle=True)"
   ]
  },
  {
   "cell_type": "code",
   "execution_count": 16,
   "id": "70eee08a-7126-4375-9f03-798c24a03e58",
   "metadata": {},
   "outputs": [
    {
     "data": {
      "text/plain": [
       "torch.Size([32, 75, 12, 12])"
      ]
     },
     "execution_count": 16,
     "metadata": {},
     "output_type": "execute_result"
    }
   ],
   "source": [
    "next(iter(train_loader))[0].shape"
   ]
  },
  {
   "cell_type": "code",
   "execution_count": 17,
   "id": "c1fbbdb1-d9f6-4210-b5e4-f1fefe41026e",
   "metadata": {},
   "outputs": [
    {
     "data": {
      "image/png": "[encoded data removed]",
      "text/plain": [
       "<Figure size 1440x792 with 8 Axes>"
      ]
     },
     "metadata": {
      "needs_background": "light"
     },
     "output_type": "display_data"
    }
   ],
   "source": [
    "# Check the images\n",
    "\n",
    "for train_sample in train_loader:\n",
    "    displayImgs(train_sample[0], train_sample[1], img_size, save=True)\n",
    "    break"
   ]
  },
  {
   "cell_type": "code",
   "execution_count": 18,
   "id": "e872502e-24eb-49e6-885c-f09818f41aa4",
   "metadata": {},
   "outputs": [],
   "source": [
    "# Initialize network\n",
    "\n",
    "model = CNN(in_channels=in_channels, num_classes=num_classes).to(device)"
   ]
  },
  {
   "cell_type": "code",
   "execution_count": 19,
   "id": "61c90be6-9990-4ec3-988b-3d0730c96628",
   "metadata": {},
   "outputs": [],
   "source": [
    "# Loss and optimizer\n",
    "\n",
    "criterion = nn.CrossEntropyLoss()\n",
    "optimizer = optim.Adam(model.parameters(), lr=learning_rate)"
   ]
  },
  {
   "cell_type": "code",
   "execution_count": 20,
   "id": "c986c5f9-afea-49c0-b15f-4f15e6eb2429",
   "metadata": {},
   "outputs": [
    {
     "name": "stdout",
     "output_type": "stream",
     "text": [
      "tensor([-0.5304,  0.4038, -0.1078], device='cuda:0')\n"
     ]
    }
   ],
   "source": [
    "# Check the model\n",
    "\n",
    "with torch.no_grad():\n",
    "    for x, y in train_loader:\n",
    "        x = x.to(device=device)\n",
    "        y = y.to(device=device)\n",
    "        x_ = model(x)\n",
    "        print(x_[0])\n",
    "        break"
   ]
  },
  {
   "cell_type": "code",
   "execution_count": 21,
   "id": "3b7b4df6-c0b6-4a56-996f-2a6a49fde96f",
   "metadata": {},
   "outputs": [
    {
     "name": "stdout",
     "output_type": "stream",
     "text": [
      "Accuracy on training set: [100.          17.65686275  17.65686275  17.65686275  17.65686275]\n",
      "Accuracy on test set: [100.          16.95601852  16.95601852  16.95601852  16.95601852]\n"
     ]
    }
   ],
   "source": [
    "# Check accuracy on training & test to see how good our model\n",
    "\n",
    "def evaluate(loader, model):\n",
    "    ev = np.zeros(5)\n",
    "    model.eval()\n",
    "    with torch.no_grad():\n",
    "        for x, y in loader:\n",
    "            x = x.to(device=device)\n",
    "            y = y.to(device=device)\n",
    "\n",
    "            scores = model(x)\n",
    "            _, predictions = scores.max(1)\n",
    "                        \n",
    "            y = y.cpu()\n",
    "            predictions = predictions.cpu()\n",
    "                        \n",
    "            ev[0] += 1\n",
    "            ev[1] += precision_score(y, predictions, average='micro')\n",
    "            ev[2] += recall_score(y, predictions, average='micro')\n",
    "            ev[3] += f1_score(y, predictions, average='micro')\n",
    "            ev[4] += accuracy_score(y, predictions)\n",
    "            \n",
    "        ev = ev/ev[0]\n",
    "        \n",
    "    model.train()\n",
    "    return ev*100\n",
    "\n",
    "print(f\"Accuracy on training set: {evaluate(train_loader, model)}\")\n",
    "print(f\"Accuracy on test set: {evaluate(test_loader, model)}\")"
   ]
  },
  {
   "cell_type": "code",
   "execution_count": 22,
   "id": "a0e019ed-bf32-41bc-8333-2809466e5a01",
   "metadata": {},
   "outputs": [],
   "source": [
    "# Make a list to record training progress\n",
    "\n",
    "history_test = [[] for l in range(6)]\n",
    "history_train = [[] for l in range(6)]"
   ]
  },
  {
   "cell_type": "code",
   "execution_count": 23,
   "id": "64cc7c71-93a4-45c3-8ee0-cec4103ac022",
   "metadata": {},
   "outputs": [
    {
     "name": "stderr",
     "output_type": "stream",
     "text": [
      "Epoch[0/59]: 100%|█████████████████████████████████████████████████████████████████████| 75/75 [00:06<00:00, 11.12it/s]\n"
     ]
    },
    {
     "name": "stdout",
     "output_type": "stream",
     "text": [
      "loss: 0.41427690625190733\n",
      " precision: 89.95949074074075\n",
      " recall: 89.95949074074075\n",
      " f1 score: 89.95949074074075\n",
      " accuracy: 89.95949074074075\n"
     ]
    },
    {
     "name": "stderr",
     "output_type": "stream",
     "text": [
      "Epoch[1/59]: 100%|█████████████████████████████████████████████████████████████████████| 75/75 [00:06<00:00, 11.48it/s]\n"
     ]
    },
    {
     "name": "stdout",
     "output_type": "stream",
     "text": [
      "loss: 0.33616247336069743\n",
      " precision: 90.2199074074074\n",
      " recall: 90.2199074074074\n",
      " f1 score: 90.2199074074074\n",
      " accuracy: 90.2199074074074\n"
     ]
    },
    {
     "name": "stderr",
     "output_type": "stream",
     "text": [
      "Epoch[2/59]: 100%|█████████████████████████████████████████████████████████████████████| 75/75 [00:06<00:00, 11.69it/s]\n"
     ]
    },
    {
     "name": "stdout",
     "output_type": "stream",
     "text": [
      "loss: 0.33607383956511816\n",
      " precision: 89.90162037037037\n",
      " recall: 89.90162037037037\n",
      " f1 score: 89.90162037037037\n",
      " accuracy: 89.90162037037037\n"
     ]
    },
    {
     "name": "stderr",
     "output_type": "stream",
     "text": [
      "Epoch[3/59]: 100%|█████████████████████████████████████████████████████████████████████| 75/75 [00:06<00:00, 11.47it/s]\n"
     ]
    },
    {
     "name": "stdout",
     "output_type": "stream",
     "text": [
      "loss: 0.31219893554846445\n",
      " precision: 89.98842592592592\n",
      " recall: 89.98842592592592\n",
      " f1 score: 89.98842592592592\n",
      " accuracy: 89.98842592592592\n"
     ]
    },
    {
     "name": "stderr",
     "output_type": "stream",
     "text": [
      "Epoch[4/59]: 100%|█████████████████████████████████████████████████████████████████████| 75/75 [00:06<00:00, 11.68it/s]\n"
     ]
    },
    {
     "name": "stdout",
     "output_type": "stream",
     "text": [
      "loss: 0.30730259567499163\n",
      " precision: 90.33564814814815\n",
      " recall: 90.33564814814815\n",
      " f1 score: 90.33564814814815\n",
      " accuracy: 90.33564814814815\n"
     ]
    },
    {
     "name": "stderr",
     "output_type": "stream",
     "text": [
      "Epoch[5/59]: 100%|█████████████████████████████████████████████████████████████████████| 75/75 [00:06<00:00, 11.44it/s]\n"
     ]
    },
    {
     "name": "stdout",
     "output_type": "stream",
     "text": [
      "loss: 0.3020738635460536\n",
      " precision: 89.67013888888889\n",
      " recall: 89.67013888888889\n",
      " f1 score: 89.67013888888889\n",
      " accuracy: 89.67013888888889\n"
     ]
    },
    {
     "name": "stderr",
     "output_type": "stream",
     "text": [
      "Epoch[6/59]: 100%|█████████████████████████████████████████████████████████████████████| 75/75 [00:06<00:00, 11.58it/s]\n"
     ]
    },
    {
     "name": "stdout",
     "output_type": "stream",
     "text": [
      "loss: 0.299492581586043\n",
      " precision: 89.23611111111111\n",
      " recall: 89.23611111111111\n",
      " f1 score: 89.23611111111111\n",
      " accuracy: 89.23611111111111\n"
     ]
    },
    {
     "name": "stderr",
     "output_type": "stream",
     "text": [
      "Epoch[7/59]: 100%|█████████████████████████████████████████████████████████████████████| 75/75 [00:06<00:00, 11.48it/s]\n"
     ]
    },
    {
     "name": "stdout",
     "output_type": "stream",
     "text": [
      "loss: 0.267655267616113\n",
      " precision: 89.49652777777779\n",
      " recall: 89.49652777777779\n",
      " f1 score: 89.49652777777779\n",
      " accuracy: 89.49652777777779\n"
     ]
    },
    {
     "name": "stderr",
     "output_type": "stream",
     "text": [
      "Epoch[8/59]: 100%|█████████████████████████████████████████████████████████████████████| 75/75 [00:06<00:00, 11.18it/s]\n"
     ]
    },
    {
     "name": "stdout",
     "output_type": "stream",
     "text": [
      "loss: 0.23963283906380337\n",
      " precision: 86.16898148148148\n",
      " recall: 86.16898148148148\n",
      " f1 score: 86.16898148148148\n",
      " accuracy: 86.16898148148148\n"
     ]
    },
    {
     "name": "stderr",
     "output_type": "stream",
     "text": [
      "Epoch[9/59]: 100%|█████████████████████████████████████████████████████████████████████| 75/75 [00:06<00:00, 11.43it/s]\n"
     ]
    },
    {
     "name": "stdout",
     "output_type": "stream",
     "text": [
      "loss: 0.2329066366950671\n",
      " precision: 89.32291666666666\n",
      " recall: 89.32291666666666\n",
      " f1 score: 89.32291666666666\n",
      " accuracy: 89.32291666666666\n"
     ]
    },
    {
     "name": "stderr",
     "output_type": "stream",
     "text": [
      "Epoch[10/59]: 100%|████████████████████████████████████████████████████████████████████| 75/75 [00:06<00:00, 10.99it/s]\n"
     ]
    },
    {
     "name": "stdout",
     "output_type": "stream",
     "text": [
      "loss: 0.20498178939024608\n",
      " precision: 89.67013888888889\n",
      " recall: 89.67013888888889\n",
      " f1 score: 89.67013888888889\n",
      " accuracy: 89.67013888888889\n"
     ]
    },
    {
     "name": "stderr",
     "output_type": "stream",
     "text": [
      "Epoch[11/59]: 100%|████████████████████████████████████████████████████████████████████| 75/75 [00:06<00:00, 11.45it/s]\n"
     ]
    },
    {
     "name": "stdout",
     "output_type": "stream",
     "text": [
      "loss: 0.2225911271572113\n",
      " precision: 89.4675925925926\n",
      " recall: 89.4675925925926\n",
      " f1 score: 89.4675925925926\n",
      " accuracy: 89.4675925925926\n"
     ]
    },
    {
     "name": "stderr",
     "output_type": "stream",
     "text": [
      "Epoch[12/59]: 100%|████████████████████████████████████████████████████████████████████| 75/75 [00:06<00:00, 11.49it/s]\n"
     ]
    },
    {
     "name": "stdout",
     "output_type": "stream",
     "text": [
      "loss: 0.1834793284535408\n",
      " precision: 84.49074074074075\n",
      " recall: 84.49074074074075\n",
      " f1 score: 84.49074074074075\n",
      " accuracy: 84.49074074074075\n"
     ]
    },
    {
     "name": "stderr",
     "output_type": "stream",
     "text": [
      "Epoch[13/59]: 100%|████████████████████████████████████████████████████████████████████| 75/75 [00:06<00:00, 11.51it/s]\n"
     ]
    },
    {
     "name": "stdout",
     "output_type": "stream",
     "text": [
      "loss: 0.16563116510709128\n",
      " precision: 83.68055555555556\n",
      " recall: 83.68055555555556\n",
      " f1 score: 83.68055555555556\n",
      " accuracy: 83.68055555555556\n"
     ]
    },
    {
     "name": "stderr",
     "output_type": "stream",
     "text": [
      "Epoch[14/59]: 100%|████████████████████████████████████████████████████████████████████| 75/75 [00:06<00:00, 11.47it/s]\n"
     ]
    },
    {
     "name": "stdout",
     "output_type": "stream",
     "text": [
      "loss: 0.1402660118540128\n",
      " precision: 89.35185185185185\n",
      " recall: 89.35185185185185\n",
      " f1 score: 89.35185185185185\n",
      " accuracy: 89.35185185185185\n"
     ]
    },
    {
     "name": "stderr",
     "output_type": "stream",
     "text": [
      "Epoch[15/59]: 100%|████████████████████████████████████████████████████████████████████| 75/75 [00:06<00:00, 11.47it/s]\n"
     ]
    },
    {
     "name": "stdout",
     "output_type": "stream",
     "text": [
      "loss: 0.1254419776548942\n",
      " precision: 84.80902777777779\n",
      " recall: 84.80902777777779\n",
      " f1 score: 84.80902777777779\n",
      " accuracy: 84.80902777777779\n"
     ]
    },
    {
     "name": "stderr",
     "output_type": "stream",
     "text": [
      "Epoch[16/59]: 100%|████████████████████████████████████████████████████████████████████| 75/75 [00:06<00:00, 11.36it/s]\n"
     ]
    },
    {
     "name": "stdout",
     "output_type": "stream",
     "text": [
      "loss: 0.11429331603149573\n",
      " precision: 86.89236111111111\n",
      " recall: 86.89236111111111\n",
      " f1 score: 86.89236111111111\n",
      " accuracy: 86.89236111111111\n"
     ]
    },
    {
     "name": "stderr",
     "output_type": "stream",
     "text": [
      "Epoch[17/59]: 100%|████████████████████████████████████████████████████████████████████| 75/75 [00:06<00:00, 11.69it/s]\n"
     ]
    },
    {
     "name": "stdout",
     "output_type": "stream",
     "text": [
      "loss: 0.09853590356806914\n",
      " precision: 88.94675925925925\n",
      " recall: 88.94675925925925\n",
      " f1 score: 88.94675925925925\n",
      " accuracy: 88.94675925925925\n"
     ]
    },
    {
     "name": "stderr",
     "output_type": "stream",
     "text": [
      "Epoch[18/59]: 100%|████████████████████████████████████████████████████████████████████| 75/75 [00:06<00:00, 11.50it/s]\n"
     ]
    },
    {
     "name": "stdout",
     "output_type": "stream",
     "text": [
      "loss: 0.08625225094457467\n",
      " precision: 88.54166666666666\n",
      " recall: 88.54166666666666\n",
      " f1 score: 88.54166666666666\n",
      " accuracy: 88.54166666666666\n"
     ]
    },
    {
     "name": "stderr",
     "output_type": "stream",
     "text": [
      "Epoch[19/59]: 100%|████████████████████████████████████████████████████████████████████| 75/75 [00:05<00:00, 13.79it/s]\n"
     ]
    },
    {
     "name": "stdout",
     "output_type": "stream",
     "text": [
      "loss: 0.053560994441310565\n",
      " precision: 88.25231481481481\n",
      " recall: 88.25231481481481\n",
      " f1 score: 88.25231481481481\n",
      " accuracy: 88.25231481481481\n"
     ]
    },
    {
     "name": "stderr",
     "output_type": "stream",
     "text": [
      "Epoch[20/59]: 100%|████████████████████████████████████████████████████████████████████| 75/75 [00:05<00:00, 14.50it/s]\n"
     ]
    },
    {
     "name": "stdout",
     "output_type": "stream",
     "text": [
      "loss: 0.05314055444051822\n",
      " precision: 89.49652777777779\n",
      " recall: 89.49652777777779\n",
      " f1 score: 89.49652777777779\n",
      " accuracy: 89.49652777777779\n"
     ]
    },
    {
     "name": "stderr",
     "output_type": "stream",
     "text": [
      "Epoch[21/59]: 100%|████████████████████████████████████████████████████████████████████| 75/75 [00:05<00:00, 14.55it/s]\n"
     ]
    },
    {
     "name": "stdout",
     "output_type": "stream",
     "text": [
      "loss: 0.0366036595714589\n",
      " precision: 87.55787037037037\n",
      " recall: 87.55787037037037\n",
      " f1 score: 87.55787037037037\n",
      " accuracy: 87.55787037037037\n"
     ]
    },
    {
     "name": "stderr",
     "output_type": "stream",
     "text": [
      "Epoch[22/59]: 100%|████████████████████████████████████████████████████████████████████| 75/75 [00:04<00:00, 15.85it/s]\n"
     ]
    },
    {
     "name": "stdout",
     "output_type": "stream",
     "text": [
      "loss: 0.03649743244362374\n",
      " precision: 88.94675925925925\n",
      " recall: 88.94675925925925\n",
      " f1 score: 88.94675925925925\n",
      " accuracy: 88.94675925925925\n"
     ]
    },
    {
     "name": "stderr",
     "output_type": "stream",
     "text": [
      "Epoch[23/59]: 100%|████████████████████████████████████████████████████████████████████| 75/75 [00:04<00:00, 16.02it/s]\n"
     ]
    },
    {
     "name": "stdout",
     "output_type": "stream",
     "text": [
      "loss: 0.015977919353172183\n",
      " precision: 87.76041666666666\n",
      " recall: 87.76041666666666\n",
      " f1 score: 87.76041666666666\n",
      " accuracy: 87.76041666666666\n"
     ]
    },
    {
     "name": "stderr",
     "output_type": "stream",
     "text": [
      "Epoch[24/59]: 100%|████████████████████████████████████████████████████████████████████| 75/75 [00:04<00:00, 16.26it/s]\n"
     ]
    },
    {
     "name": "stdout",
     "output_type": "stream",
     "text": [
      "loss: 0.016996579946329197\n",
      " precision: 87.52893518518519\n",
      " recall: 87.52893518518519\n",
      " f1 score: 87.52893518518519\n",
      " accuracy: 87.52893518518519\n"
     ]
    },
    {
     "name": "stderr",
     "output_type": "stream",
     "text": [
      "Epoch[25/59]: 100%|████████████████████████████████████████████████████████████████████| 75/75 [00:05<00:00, 14.90it/s]\n"
     ]
    },
    {
     "name": "stdout",
     "output_type": "stream",
     "text": [
      "loss: 0.012938354392535984\n",
      " precision: 87.06597222222221\n",
      " recall: 87.06597222222221\n",
      " f1 score: 87.06597222222221\n",
      " accuracy: 87.06597222222221\n"
     ]
    },
    {
     "name": "stderr",
     "output_type": "stream",
     "text": [
      "Epoch[26/59]: 100%|████████████████████████████████████████████████████████████████████| 75/75 [00:04<00:00, 15.04it/s]\n"
     ]
    },
    {
     "name": "stdout",
     "output_type": "stream",
     "text": [
      "loss: 0.008229499392521877\n",
      " precision: 88.10763888888889\n",
      " recall: 88.10763888888889\n",
      " f1 score: 88.10763888888889\n",
      " accuracy: 88.10763888888889\n"
     ]
    },
    {
     "name": "stderr",
     "output_type": "stream",
     "text": [
      "Epoch[27/59]: 100%|████████████████████████████████████████████████████████████████████| 75/75 [00:04<00:00, 15.11it/s]\n"
     ]
    },
    {
     "name": "stdout",
     "output_type": "stream",
     "text": [
      "loss: 0.008219948685728014\n",
      " precision: 88.36805555555556\n",
      " recall: 88.36805555555556\n",
      " f1 score: 88.36805555555556\n",
      " accuracy: 88.36805555555556\n"
     ]
    },
    {
     "name": "stderr",
     "output_type": "stream",
     "text": [
      "Epoch[28/59]: 100%|████████████████████████████████████████████████████████████████████| 75/75 [00:05<00:00, 14.60it/s]\n"
     ]
    },
    {
     "name": "stdout",
     "output_type": "stream",
     "text": [
      "loss: 0.008720887132609883\n",
      " precision: 88.28125\n",
      " recall: 88.28125\n",
      " f1 score: 88.28125\n",
      " accuracy: 88.28125\n"
     ]
    },
    {
     "name": "stderr",
     "output_type": "stream",
     "text": [
      "Epoch[29/59]: 100%|████████████████████████████████████████████████████████████████████| 75/75 [00:06<00:00, 11.97it/s]\n"
     ]
    },
    {
     "name": "stdout",
     "output_type": "stream",
     "text": [
      "loss: 0.011998327088852723\n",
      " precision: 88.59953703703704\n",
      " recall: 88.59953703703704\n",
      " f1 score: 88.59953703703704\n",
      " accuracy: 88.59953703703704\n"
     ]
    },
    {
     "name": "stderr",
     "output_type": "stream",
     "text": [
      "Epoch[30/59]: 100%|████████████████████████████████████████████████████████████████████| 75/75 [00:05<00:00, 14.88it/s]\n"
     ]
    },
    {
     "name": "stdout",
     "output_type": "stream",
     "text": [
      "loss: 0.007947046473467102\n",
      " precision: 88.83101851851852\n",
      " recall: 88.83101851851852\n",
      " f1 score: 88.83101851851852\n",
      " accuracy: 88.83101851851852\n"
     ]
    },
    {
     "name": "stderr",
     "output_type": "stream",
     "text": [
      "Epoch[31/59]: 100%|████████████████████████████████████████████████████████████████████| 75/75 [00:06<00:00, 12.37it/s]\n"
     ]
    },
    {
     "name": "stdout",
     "output_type": "stream",
     "text": [
      "loss: 0.003950322185798238\n",
      " precision: 88.6863425925926\n",
      " recall: 88.6863425925926\n",
      " f1 score: 88.6863425925926\n",
      " accuracy: 88.6863425925926\n"
     ]
    },
    {
     "name": "stderr",
     "output_type": "stream",
     "text": [
      "Epoch[32/59]: 100%|████████████████████████████████████████████████████████████████████| 75/75 [00:05<00:00, 14.91it/s]\n"
     ]
    },
    {
     "name": "stdout",
     "output_type": "stream",
     "text": [
      "loss: 0.0025449739086131256\n",
      " precision: 88.59953703703704\n",
      " recall: 88.59953703703704\n",
      " f1 score: 88.59953703703704\n",
      " accuracy: 88.59953703703704\n"
     ]
    },
    {
     "name": "stderr",
     "output_type": "stream",
     "text": [
      "Epoch[33/59]: 100%|████████████████████████████████████████████████████████████████████| 75/75 [00:04<00:00, 15.08it/s]\n"
     ]
    },
    {
     "name": "stdout",
     "output_type": "stream",
     "text": [
      "loss: 0.0023285945190582424\n",
      " precision: 88.22337962962963\n",
      " recall: 88.22337962962963\n",
      " f1 score: 88.22337962962963\n",
      " accuracy: 88.22337962962963\n"
     ]
    },
    {
     "name": "stderr",
     "output_type": "stream",
     "text": [
      "Epoch[34/59]: 100%|████████████████████████████████████████████████████████████████████| 75/75 [00:04<00:00, 16.31it/s]\n"
     ]
    },
    {
     "name": "stdout",
     "output_type": "stream",
     "text": [
      "loss: 0.0018602900315696994\n",
      " precision: 88.48379629629629\n",
      " recall: 88.48379629629629\n",
      " f1 score: 88.48379629629629\n",
      " accuracy: 88.48379629629629\n"
     ]
    },
    {
     "name": "stderr",
     "output_type": "stream",
     "text": [
      "Epoch[35/59]: 100%|████████████████████████████████████████████████████████████████████| 75/75 [00:04<00:00, 16.60it/s]\n"
     ]
    },
    {
     "name": "stdout",
     "output_type": "stream",
     "text": [
      "loss: 0.0016507997765438632\n",
      " precision: 88.25231481481481\n",
      " recall: 88.25231481481481\n",
      " f1 score: 88.25231481481481\n",
      " accuracy: 88.25231481481481\n"
     ]
    },
    {
     "name": "stderr",
     "output_type": "stream",
     "text": [
      "Epoch[36/59]: 100%|████████████████████████████████████████████████████████████████████| 75/75 [00:04<00:00, 16.74it/s]\n"
     ]
    },
    {
     "name": "stdout",
     "output_type": "stream",
     "text": [
      "loss: 0.0015151818034549553\n",
      " precision: 88.02083333333334\n",
      " recall: 88.02083333333334\n",
      " f1 score: 88.02083333333334\n",
      " accuracy: 88.02083333333334\n"
     ]
    },
    {
     "name": "stderr",
     "output_type": "stream",
     "text": [
      "Epoch[37/59]: 100%|████████████████████████████████████████████████████████████████████| 75/75 [00:04<00:00, 15.11it/s]\n"
     ]
    },
    {
     "name": "stdout",
     "output_type": "stream",
     "text": [
      "loss: 0.001481844832887873\n",
      " precision: 88.48379629629629\n",
      " recall: 88.48379629629629\n",
      " f1 score: 88.48379629629629\n",
      " accuracy: 88.48379629629629\n"
     ]
    },
    {
     "name": "stderr",
     "output_type": "stream",
     "text": [
      "Epoch[38/59]: 100%|████████████████████████████████████████████████████████████████████| 75/75 [00:04<00:00, 16.24it/s]\n"
     ]
    },
    {
     "name": "stdout",
     "output_type": "stream",
     "text": [
      "loss: 0.0010741907598761221\n",
      " precision: 88.22337962962963\n",
      " recall: 88.22337962962963\n",
      " f1 score: 88.22337962962963\n",
      " accuracy: 88.22337962962963\n"
     ]
    },
    {
     "name": "stderr",
     "output_type": "stream",
     "text": [
      "Epoch[39/59]: 100%|████████████████████████████████████████████████████████████████████| 75/75 [00:04<00:00, 16.65it/s]\n"
     ]
    },
    {
     "name": "stdout",
     "output_type": "stream",
     "text": [
      "loss: 0.0012648349592927844\n",
      " precision: 87.99189814814815\n",
      " recall: 87.99189814814815\n",
      " f1 score: 87.99189814814815\n",
      " accuracy: 87.99189814814815\n"
     ]
    },
    {
     "name": "stderr",
     "output_type": "stream",
     "text": [
      "Epoch[40/59]: 100%|████████████████████████████████████████████████████████████████████| 75/75 [00:04<00:00, 16.57it/s]\n"
     ]
    },
    {
     "name": "stdout",
     "output_type": "stream",
     "text": [
      "loss: 0.0013255411456339062\n",
      " precision: 88.77314814814815\n",
      " recall: 88.77314814814815\n",
      " f1 score: 88.77314814814815\n",
      " accuracy: 88.77314814814815\n"
     ]
    },
    {
     "name": "stderr",
     "output_type": "stream",
     "text": [
      "Epoch[41/59]: 100%|████████████████████████████████████████████████████████████████████| 75/75 [00:05<00:00, 13.07it/s]\n"
     ]
    },
    {
     "name": "stdout",
     "output_type": "stream",
     "text": [
      "loss: 0.001112203459100177\n",
      " precision: 88.62847222222221\n",
      " recall: 88.62847222222221\n",
      " f1 score: 88.62847222222221\n",
      " accuracy: 88.62847222222221\n"
     ]
    },
    {
     "name": "stderr",
     "output_type": "stream",
     "text": [
      "Epoch[42/59]: 100%|████████████████████████████████████████████████████████████████████| 75/75 [00:06<00:00, 11.98it/s]\n"
     ]
    },
    {
     "name": "stdout",
     "output_type": "stream",
     "text": [
      "loss: 0.001000624140142463\n",
      " precision: 88.85995370370371\n",
      " recall: 88.85995370370371\n",
      " f1 score: 88.85995370370371\n",
      " accuracy: 88.85995370370371\n"
     ]
    },
    {
     "name": "stderr",
     "output_type": "stream",
     "text": [
      "Epoch[43/59]: 100%|████████████████████████████████████████████████████████████████████| 75/75 [00:04<00:00, 15.04it/s]\n"
     ]
    },
    {
     "name": "stdout",
     "output_type": "stream",
     "text": [
      "loss: 0.0007872122902578363\n",
      " precision: 88.59953703703704\n",
      " recall: 88.59953703703704\n",
      " f1 score: 88.59953703703704\n",
      " accuracy: 88.59953703703704\n"
     ]
    },
    {
     "name": "stderr",
     "output_type": "stream",
     "text": [
      "Epoch[44/59]: 100%|████████████████████████████████████████████████████████████████████| 75/75 [00:06<00:00, 11.90it/s]\n"
     ]
    },
    {
     "name": "stdout",
     "output_type": "stream",
     "text": [
      "loss: 0.0007859053211480689\n",
      " precision: 88.25231481481481\n",
      " recall: 88.25231481481481\n",
      " f1 score: 88.25231481481481\n",
      " accuracy: 88.25231481481481\n"
     ]
    },
    {
     "name": "stderr",
     "output_type": "stream",
     "text": [
      "Epoch[45/59]: 100%|████████████████████████████████████████████████████████████████████| 75/75 [00:04<00:00, 15.13it/s]\n"
     ]
    },
    {
     "name": "stdout",
     "output_type": "stream",
     "text": [
      "loss: 0.000739392803516239\n",
      " precision: 88.77314814814815\n",
      " recall: 88.77314814814815\n",
      " f1 score: 88.77314814814815\n",
      " accuracy: 88.77314814814815\n"
     ]
    },
    {
     "name": "stderr",
     "output_type": "stream",
     "text": [
      "Epoch[46/59]: 100%|████████████████████████████████████████████████████████████████████| 75/75 [00:04<00:00, 15.14it/s]\n"
     ]
    },
    {
     "name": "stdout",
     "output_type": "stream",
     "text": [
      "loss: 0.000644475925170506\n",
      " precision: 88.83101851851852\n",
      " recall: 88.83101851851852\n",
      " f1 score: 88.83101851851852\n",
      " accuracy: 88.83101851851852\n"
     ]
    },
    {
     "name": "stderr",
     "output_type": "stream",
     "text": [
      "Epoch[47/59]: 100%|████████████████████████████████████████████████████████████████████| 75/75 [00:04<00:00, 16.01it/s]\n"
     ]
    },
    {
     "name": "stdout",
     "output_type": "stream",
     "text": [
      "loss: 0.000656754247029312\n",
      " precision: 88.54166666666666\n",
      " recall: 88.54166666666666\n",
      " f1 score: 88.54166666666666\n",
      " accuracy: 88.54166666666666\n"
     ]
    },
    {
     "name": "stderr",
     "output_type": "stream",
     "text": [
      "Epoch[48/59]: 100%|████████████████████████████████████████████████████████████████████| 75/75 [00:04<00:00, 16.60it/s]\n"
     ]
    },
    {
     "name": "stdout",
     "output_type": "stream",
     "text": [
      "loss: 0.0007351843628566712\n",
      " precision: 87.06597222222221\n",
      " recall: 87.06597222222221\n",
      " f1 score: 87.06597222222221\n",
      " accuracy: 87.06597222222221\n"
     ]
    },
    {
     "name": "stderr",
     "output_type": "stream",
     "text": [
      "Epoch[49/59]: 100%|████████████████████████████████████████████████████████████████████| 75/75 [00:04<00:00, 16.49it/s]\n"
     ]
    },
    {
     "name": "stdout",
     "output_type": "stream",
     "text": [
      "loss: 0.0005276531029570227\n",
      " precision: 88.85995370370371\n",
      " recall: 88.85995370370371\n",
      " f1 score: 88.85995370370371\n",
      " accuracy: 88.85995370370371\n"
     ]
    },
    {
     "name": "stderr",
     "output_type": "stream",
     "text": [
      "Epoch[50/59]: 100%|████████████████████████████████████████████████████████████████████| 75/75 [00:04<00:00, 15.59it/s]\n"
     ]
    },
    {
     "name": "stdout",
     "output_type": "stream",
     "text": [
      "loss: 0.0005652556611069788\n",
      " precision: 88.25231481481481\n",
      " recall: 88.25231481481481\n",
      " f1 score: 88.25231481481481\n",
      " accuracy: 88.25231481481481\n"
     ]
    },
    {
     "name": "stderr",
     "output_type": "stream",
     "text": [
      "Epoch[51/59]: 100%|████████████████████████████████████████████████████████████████████| 75/75 [00:04<00:00, 16.56it/s]\n"
     ]
    },
    {
     "name": "stdout",
     "output_type": "stream",
     "text": [
      "loss: 0.0006123827682070744\n",
      " precision: 88.33912037037037\n",
      " recall: 88.33912037037037\n",
      " f1 score: 88.33912037037037\n",
      " accuracy: 88.33912037037037\n"
     ]
    },
    {
     "name": "stderr",
     "output_type": "stream",
     "text": [
      "Epoch[52/59]: 100%|████████████████████████████████████████████████████████████████████| 75/75 [00:04<00:00, 16.64it/s]\n"
     ]
    },
    {
     "name": "stdout",
     "output_type": "stream",
     "text": [
      "loss: 0.0006033819100897138\n",
      " precision: 87.84722222222221\n",
      " recall: 87.84722222222221\n",
      " f1 score: 87.84722222222221\n",
      " accuracy: 87.84722222222221\n"
     ]
    },
    {
     "name": "stderr",
     "output_type": "stream",
     "text": [
      "Epoch[53/59]: 100%|████████████████████████████████████████████████████████████████████| 75/75 [00:04<00:00, 16.70it/s]\n"
     ]
    },
    {
     "name": "stdout",
     "output_type": "stream",
     "text": [
      "loss: 0.0005144595902917596\n",
      " precision: 88.71527777777779\n",
      " recall: 88.71527777777779\n",
      " f1 score: 88.71527777777779\n",
      " accuracy: 88.71527777777779\n"
     ]
    },
    {
     "name": "stderr",
     "output_type": "stream",
     "text": [
      "Epoch[54/59]: 100%|████████████████████████████████████████████████████████████████████| 75/75 [00:04<00:00, 16.17it/s]\n"
     ]
    },
    {
     "name": "stdout",
     "output_type": "stream",
     "text": [
      "loss: 0.00047469361132243646\n",
      " precision: 88.57060185185185\n",
      " recall: 88.57060185185185\n",
      " f1 score: 88.57060185185185\n",
      " accuracy: 88.57060185185185\n"
     ]
    },
    {
     "name": "stderr",
     "output_type": "stream",
     "text": [
      "Epoch[55/59]: 100%|████████████████████████████████████████████████████████████████████| 75/75 [00:04<00:00, 16.69it/s]\n"
     ]
    },
    {
     "name": "stdout",
     "output_type": "stream",
     "text": [
      "loss: 0.00035530377509227645\n",
      " precision: 88.07870370370371\n",
      " recall: 88.07870370370371\n",
      " f1 score: 88.07870370370371\n",
      " accuracy: 88.07870370370371\n"
     ]
    },
    {
     "name": "stderr",
     "output_type": "stream",
     "text": [
      "Epoch[56/59]: 100%|████████████████████████████████████████████████████████████████████| 75/75 [00:04<00:00, 16.44it/s]\n"
     ]
    },
    {
     "name": "stdout",
     "output_type": "stream",
     "text": [
      "loss: 0.000294793759045812\n",
      " precision: 88.42592592592592\n",
      " recall: 88.42592592592592\n",
      " f1 score: 88.42592592592592\n",
      " accuracy: 88.42592592592592\n"
     ]
    },
    {
     "name": "stderr",
     "output_type": "stream",
     "text": [
      "Epoch[57/59]: 100%|████████████████████████████████████████████████████████████████████| 75/75 [00:04<00:00, 15.75it/s]\n"
     ]
    },
    {
     "name": "stdout",
     "output_type": "stream",
     "text": [
      "loss: 0.0003607012658903841\n",
      " precision: 88.57060185185185\n",
      " recall: 88.57060185185185\n",
      " f1 score: 88.57060185185185\n",
      " accuracy: 88.57060185185185\n"
     ]
    },
    {
     "name": "stderr",
     "output_type": "stream",
     "text": [
      "Epoch[58/59]: 100%|████████████████████████████████████████████████████████████████████| 75/75 [00:04<00:00, 16.23it/s]\n"
     ]
    },
    {
     "name": "stdout",
     "output_type": "stream",
     "text": [
      "loss: 0.0003922933342983015\n",
      " precision: 88.51273148148148\n",
      " recall: 88.51273148148148\n",
      " f1 score: 88.51273148148148\n",
      " accuracy: 88.51273148148148\n"
     ]
    },
    {
     "name": "stderr",
     "output_type": "stream",
     "text": [
      "Epoch[59/59]: 100%|████████████████████████████████████████████████████████████████████| 75/75 [00:04<00:00, 16.59it/s]\n"
     ]
    },
    {
     "name": "stdout",
     "output_type": "stream",
     "text": [
      "loss: 0.0002749358566021935\n",
      " precision: 88.36805555555556\n",
      " recall: 88.36805555555556\n",
      " f1 score: 88.36805555555556\n",
      " accuracy: 88.36805555555556\n"
     ]
    }
   ],
   "source": [
    "# Train the network\n",
    "\n",
    "for epoch in range(num_epochs):\n",
    "    batch_loss = np.array([])\n",
    "    loop = tqdm(enumerate(train_loader), total=len(train_loader))\n",
    "    for batch_idx, (data, targets) in loop:\n",
    "        # Get data to cuda if possible\n",
    "        data = data.to(device=device)\n",
    "        targets = targets.to(device=device)\n",
    "\n",
    "        # forward\n",
    "        scores = model(data)\n",
    "        loss = criterion(scores, targets)\n",
    "\n",
    "        # backward\n",
    "        optimizer.zero_grad()\n",
    "        loss.backward()\n",
    "\n",
    "        # gradient descent or adam step\n",
    "        optimizer.step()\n",
    "        predictions = torch.argmax(scores, dim=1)\n",
    "               \n",
    "        #update progess bar\n",
    "        loop.set_description(f\"Epoch[{epoch}/{num_epochs - 1}]\")\n",
    "        \n",
    "        batch_loss = np.append(batch_loss, loss.item())\n",
    "    \n",
    "    history_train[5].append(np.average(batch_loss))\n",
    "    evaluation_test = evaluate(test_loader, model)\n",
    "    evaluation_train = evaluate(train_loader, model)\n",
    "    for i in range(5):\n",
    "        history_test[i].append(evaluation_test[i])\n",
    "        history_train[i].append(evaluation_train[i])\n",
    "        \n",
    "    print(f\"loss: {history_train[5][-1]}\\n precision: {history_test[1][-1]}\\n recall: {history_test[2][-1]}\\n f1 score: {history_test[3][-1]}\\n accuracy: {history_test[4][-1]}\")"
   ]
  },
  {
   "cell_type": "code",
   "execution_count": 25,
   "id": "7233d6bb-ed43-4900-b860-81eb3c2d2b69",
   "metadata": {},
   "outputs": [],
   "source": [
    "def smooth(y, box_pts):\n",
    "    y = [y[0] for i in range(box_pts)] + y + [y[-1] for i in range(box_pts)]\n",
    "    box = np.ones(box_pts) / box_pts\n",
    "    y_smooth = np.convolve(y, box, mode='same')\n",
    "    return y_smooth[box_pts: -box_pts]"
   ]
  },
  {
   "cell_type": "code",
   "execution_count": null,
   "id": "cb1d4116-20e6-41f6-bdea-d3b2b5dbe286",
   "metadata": {},
   "outputs": [],
   "source": [
    "pd_htrain = pd.DataFrame(history_train)\n",
    "pd_htrain = pd_htrain.T\n",
    "pd_htrain.to_csv('history_train.csv')\n",
    "\n",
    "pd_htest = pd.DataFrame(history_test)\n",
    "pd_htest = pd_htest.T\n",
    "pd_htest.to_csv('history_test.csv')  "
   ]
  },
  {
   "cell_type": "code",
   "execution_count": 26,
   "id": "0901c0c2-88c2-4afb-a102-e8574b32de23",
   "metadata": {},
   "outputs": [],
   "source": [
    "import copy\n",
    "smooth_f = 50"
   ]
  },
  {
   "cell_type": "code",
   "execution_count": 27,
   "id": "41d30d94-4310-4022-8ae4-9e93dda1af58",
   "metadata": {},
   "outputs": [],
   "source": [
    "smooth_h_test = copy.deepcopy(history_test)\n",
    "smooth_h_train = copy.deepcopy(history_train)"
   ]
  },
  {
   "cell_type": "code",
   "execution_count": 28,
   "id": "9176f486-6d0e-480c-bde5-c32c571cddb9",
   "metadata": {},
   "outputs": [],
   "source": [
    "for i in range(len(smooth_h_train)):\n",
    "    if len(smooth_h_train[i]) > 0:\n",
    "        smooth_h_train[i] = smooth(smooth_h_train[i], smooth_f)\n",
    "    if len(smooth_h_test[i]) > 0:\n",
    "        smooth_h_test[i] = smooth(smooth_h_test[i], smooth_f)"
   ]
  },
  {
   "cell_type": "code",
   "execution_count": null,
   "id": "6f700408-2c0a-42b2-b02e-d6f1f672dc02",
   "metadata": {},
   "outputs": [],
   "source": [
    "with open('smooth_h_train.txt', 'w') as fp:\n",
    "    for item in smooth_h_train:\n",
    "        fp.write(\"%s\\n\" % item)\n",
    "    print('Done')"
   ]
  },
  {
   "cell_type": "code",
   "execution_count": 29,
   "id": "311afda8-8a97-45f7-93e8-76fa759c47df",
   "metadata": {},
   "outputs": [
    {
     "data": {
      "text/plain": [
       "<matplotlib.legend.Legend at 0x1d1ed0b90d0>"
      ]
     },
     "execution_count": 29,
     "metadata": {},
     "output_type": "execute_result"
    },
    {
     "data": {
      "image/png": "[encoded data removed]",
      "text/plain": [
       "<Figure size 1440x576 with 2 Axes>"
      ]
     },
     "metadata": {
      "needs_background": "light"
     },
     "output_type": "display_data"
    }
   ],
   "source": [
    "fig, ((ax1, ax2)) = plt.subplots(1, 2, figsize=(20,8))\n",
    "epochs = [e for e in range(num_epochs)]\n",
    "\n",
    "ax1.set_title('Loss')\n",
    "ax2.set_title('Accuracy')\n",
    "\n",
    "ax1.plot(epochs, smooth_h_train[5], label='train')\n",
    "ax2.plot(epochs, smooth_h_train[4], label='train')\n",
    "ax2.plot(epochs, smooth_h_test[4], 'r', label='test')\n",
    "\n",
    "ax1.legend(loc='upper right')\n",
    "ax2.legend(loc='lower right')"
   ]
  },
  {
   "cell_type": "code",
   "execution_count": null,
   "id": "ff3be84a-7713-4cb0-aeee-c04cc17d975a",
   "metadata": {},
   "outputs": [],
   "source": [
    "fig.savefig('evaluation2.png')"
   ]
  },
  {
   "cell_type": "code",
   "execution_count": 53,
   "id": "bf69064f-5ac2-4ce3-b649-ccf02974e153",
   "metadata": {},
   "outputs": [],
   "source": [
    "torch.save(model.state_dict(), os.getcwd() + \"\\\\ResNet_75_14_21_25_28_노균병_t75.pt\")"
   ]
  },
  {
   "cell_type": "code",
   "execution_count": 30,
   "id": "3aab5706-bd93-490a-81ee-01864741acef",
   "metadata": {},
   "outputs": [],
   "source": [
    "# Predict \n",
    "def predictDataset(loader, model, savefig=False):\n",
    "    actual = np.array([])\n",
    "    prediction = np.array([])\n",
    "    model.eval()\n",
    "\n",
    "    with torch.no_grad():\n",
    "        for x, y in loader:\n",
    "            x = x.to(device=device)\n",
    "            y = y.to(device=device)\n",
    "\n",
    "            scores = model(x)\n",
    "            _, predictions = scores.max(1)\n",
    "            actual = np.append(actual, y.cpu().detach().numpy())\n",
    "            prediction = np.append(prediction, predictions.cpu().detach().numpy())\n",
    "    model.train()\n",
    "    \n",
    "    return actual, prediction"
   ]
  },
  {
   "cell_type": "code",
   "execution_count": 31,
   "id": "ce35f446-4257-4e6c-a6e8-e0aaf6cae3ab",
   "metadata": {},
   "outputs": [],
   "source": [
    "dataset_14 = DataLoader(dataset=Img(img_df=pd.concat([patch_14_ds[1]]), transform=img_transform), batch_size=batch_size, shuffle=True)\n",
    "dataset_21 = DataLoader(dataset=Img(img_df=pd.concat([patch_21_ds[1]]), transform=img_transform), batch_size=batch_size, shuffle=True)\n",
    "dataset_25 = DataLoader(dataset=Img(img_df=pd.concat([patch_25_ds[1]]), transform=img_transform), batch_size=batch_size, shuffle=True)\n",
    "dataset_28 = DataLoader(dataset=Img(img_df=pd.concat([patch_28_ds[1]]), transform=img_transform), batch_size=batch_size, shuffle=True)\n",
    "\n",
    "dataset = DataLoader(dataset=Img(img_df=pd.concat([train_patch, val_patch]), transform=img_transform), batch_size=batch_size, shuffle=True)"
   ]
  },
  {
   "cell_type": "code",
   "execution_count": 32,
   "id": "d411cde4-46dc-4717-b4a6-5a2079d549d5",
   "metadata": {},
   "outputs": [],
   "source": [
    "actual_14, prediction_14 = predictDataset(dataset_14, model)\n",
    "actual_21, prediction_21 = predictDataset(dataset_21, model)\n",
    "actual_25, prediction_25 = predictDataset(dataset_25, model)\n",
    "actual_28, prediction_28 = predictDataset(dataset_28, model)\n",
    "\n",
    "actual, prediction = predictDataset(test_loader, model)"
   ]
  },
  {
   "cell_type": "code",
   "execution_count": 40,
   "id": "0fd7de29-8e57-47de-9273-95e1a0096ec5",
   "metadata": {},
   "outputs": [],
   "source": [
    "actual_28_all, prediction_28_all = predictDataset(dataset, model)"
   ]
  },
  {
   "cell_type": "code",
   "execution_count": 33,
   "id": "6038e48d-c76a-4f9f-bbff-53a7de11656f",
   "metadata": {},
   "outputs": [],
   "source": [
    "def drawConfusionMatrix(actual, prediction, normalize=True, savefig=False):\n",
    "    confusion_matrix = metrics.confusion_matrix(actual, prediction)\n",
    "    cmn = confusion_matrix.astype('float') / confusion_matrix.sum(axis=1)[:, np.newaxis]\n",
    "    \n",
    "    if normalize:\n",
    "        confusion_matrix = cmn\n",
    "    \n",
    "    cm_display = metrics.ConfusionMatrixDisplay(confusion_matrix = confusion_matrix, display_labels = [\"0\", \"1\", \"2\"])\n",
    "    cm_display.plot()\n",
    "    plt.show()\n",
    "    \n",
    "    if savefig:\n",
    "        plt.savefig('confusion_matrix.png')"
   ]
  },
  {
   "cell_type": "code",
   "execution_count": 34,
   "id": "6b96b773-179e-4ca4-b030-025c57634f62",
   "metadata": {},
   "outputs": [
    {
     "data": {
      "image/png": "[encoded data removed]",
      "text/plain": [
       "<Figure size 432x288 with 2 Axes>"
      ]
     },
     "metadata": {
      "needs_background": "light"
     },
     "output_type": "display_data"
    }
   ],
   "source": [
    "drawConfusionMatrix(actual, prediction, normalize=True)"
   ]
  },
  {
   "cell_type": "code",
   "execution_count": 35,
   "id": "6b9e90a2-fb0f-4845-9909-3c5af97c7c0c",
   "metadata": {},
   "outputs": [
    {
     "data": {
      "image/png": "[encoded data removed]",
      "text/plain": [
       "<Figure size 432x288 with 2 Axes>"
      ]
     },
     "metadata": {
      "needs_background": "light"
     },
     "output_type": "display_data"
    }
   ],
   "source": [
    "drawConfusionMatrix(actual_14, prediction_14, normalize=True)"
   ]
  },
  {
   "cell_type": "code",
   "execution_count": 36,
   "id": "3f6b76a2-daeb-4059-8b58-471098d74b1d",
   "metadata": {},
   "outputs": [
    {
     "data": {
      "image/png": "[encoded data removed]",
      "text/plain": [
       "<Figure size 432x288 with 2 Axes>"
      ]
     },
     "metadata": {
      "needs_background": "light"
     },
     "output_type": "display_data"
    }
   ],
   "source": [
    "drawConfusionMatrix(actual_21, prediction_21, normalize=True)"
   ]
  },
  {
   "cell_type": "code",
   "execution_count": 37,
   "id": "9db3f558-7f92-4ed3-922c-d55334c4541f",
   "metadata": {},
   "outputs": [
    {
     "data": {
      "image/png": "[encoded data removed]",
      "text/plain": [
       "<Figure size 432x288 with 2 Axes>"
      ]
     },
     "metadata": {
      "needs_background": "light"
     },
     "output_type": "display_data"
    }
   ],
   "source": [
    "drawConfusionMatrix(actual_25, prediction_25, normalize=True)"
   ]
  },
  {
   "cell_type": "code",
   "execution_count": 39,
   "id": "d634fc1a-c4d1-4b59-8da4-6565b27ae85c",
   "metadata": {},
   "outputs": [
    {
     "data": {
      "image/png": "[encoded data removed]",
      "text/plain": [
       "<Figure size 432x288 with 2 Axes>"
      ]
     },
     "metadata": {
      "needs_background": "light"
     },
     "output_type": "display_data"
    }
   ],
   "source": [
    "drawConfusionMatrix(actual_28, prediction_28 , normalize=True)"
   ]
  },
  {
   "cell_type": "code",
   "execution_count": 41,
   "id": "de36173a-974a-4a12-b0c6-028a95b84ee5",
   "metadata": {},
   "outputs": [
    {
     "data": {
      "image/png": "[encoded data removed]",
      "text/plain": [
       "<Figure size 432x288 with 2 Axes>"
      ]
     },
     "metadata": {
      "needs_background": "light"
     },
     "output_type": "display_data"
    }
   ],
   "source": [
    "drawConfusionMatrix(actual_28_all, prediction_28_all , normalize=True)"
   ]
  },
  {
   "cell_type": "code",
   "execution_count": null,
   "id": "a8b27350-afcf-40cc-aa4d-37b4beb0c7af",
   "metadata": {},
   "outputs": [],
   "source": []
  }
 ],
 "metadata": {
  "kernelspec": {
   "display_name": "Python 3 (ipykernel)",
   "language": "python",
   "name": "python3"
  },
  "language_info": {
   "codemirror_mode": {
    "name": "ipython",
    "version": 3
   },
   "file_extension": ".py",
   "mimetype": "text/x-python",
   "name": "python",
   "nbconvert_exporter": "python",
   "pygments_lexer": "ipython3",
   "version": "3.8.13"
  }
 },
 "nbformat": 4,
 "nbformat_minor": 5
}
