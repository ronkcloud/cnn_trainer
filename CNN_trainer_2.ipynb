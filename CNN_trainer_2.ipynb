{
 "cells": [
  {
   "cell_type": "code",
   "execution_count": 1,
   "id": "53b3d5a6-10bd-4773-a1fd-9ecf719c2093",
   "metadata": {},
   "outputs": [
    {
     "name": "stderr",
     "output_type": "stream",
     "text": [
      "E:\\Software\\anaconda3\\envs\\torch\\lib\\site-packages\\tqdm\\auto.py:22: TqdmWarning: IProgress not found. Please update jupyter and ipywidgets. See https://ipywidgets.readthedocs.io/en/stable/user_install.html\n",
      "  from .autonotebook import tqdm as notebook_tqdm\n"
     ]
    }
   ],
   "source": [
    "# Imports\n",
    "import torch\n",
    "import os\n",
    "import numpy as np\n",
    "import pandas as pd\n",
    "import copy\n",
    "import matplotlib.pyplot as plt\n",
    "\n",
    "from torch.utils.data import DataLoader, ConcatDataset\n",
    "from tqdm import tqdm \n",
    "from sklearn import metrics\n",
    "\n",
    "from utils.dataGen import Patches\n",
    "from utils.datasets import *\n",
    "from ResNet.ResNet_2D_2 import ResNet_2D as CNN, ResidualBlock"
   ]
  },
  {
   "cell_type": "code",
   "execution_count": 2,
   "id": "bccb66fc-7ac7-4282-8948-c447e05f6849",
   "metadata": {},
   "outputs": [
    {
     "data": {
      "text/plain": [
       "(1, 'NVIDIA RTX A4000')"
      ]
     },
     "execution_count": 2,
     "metadata": {},
     "output_type": "execute_result"
    }
   ],
   "source": [
    "# Set device\n",
    "\n",
    "device = torch.device(\"cuda\" if torch.cuda.is_available() else \"cpu\")\n",
    "torch.cuda.device_count(), torch.cuda.get_device_name()"
   ]
  },
  {
   "cell_type": "code",
   "execution_count": 3,
   "id": "9e23d207-a12b-46d3-948f-384ad4986d59",
   "metadata": {},
   "outputs": [],
   "source": [
    "# Hyperparameters\n",
    "\n",
    "in_channels = 55\n",
    "classes = [\"background\", \"leaf\", \"diseased\"]\n",
    "num_classes = len(classes)\n",
    "weights = [1.0, 1.0, 1.0]\n",
    "rgb_bands = [7, 15, 32]\n",
    "# rgb_bands = [0]\n",
    "img_size = 20\n",
    "learning_rate = 1e-05\n",
    "lr_step = 20\n",
    "batch_size = 128\n",
    "num_epochs = 50\n",
    "frac = .7\n",
    "save_dataset = True\n",
    "augment = True\n",
    "count = True\n",
    "kfold = 1"
   ]
  },
  {
   "cell_type": "code",
   "execution_count": 4,
   "id": "e872502e-24eb-49e6-885c-f09818f41aa4",
   "metadata": {},
   "outputs": [
    {
     "name": "stdout",
     "output_type": "stream",
     "text": [
      "Num of trainable param: 194691\n"
     ]
    }
   ],
   "source": [
    "# Initialize network\n",
    "\n",
    "# model = CNN(in_channels=in_channels, num_classes=num_classes).to(device)\n",
    "# model = ResNet(ResidualBlock, [2, 2, 2, 2], initial_inplanes = 55).to(device)\n",
    "model = CNN(ResidualBlock).to(device)\n",
    "print(\"Num of trainable param:\", sum(p.numel() for p in model.parameters() if p.requires_grad))"
   ]
  },
  {
   "cell_type": "code",
   "execution_count": 5,
   "id": "61c90be6-9990-4ec3-988b-3d0730c96628",
   "metadata": {},
   "outputs": [],
   "source": [
    "# Loss and optimizer\n",
    "\n",
    "class_weights = torch.FloatTensor(weights).cuda()\n",
    "criterion = torch.nn.CrossEntropyLoss(weight=class_weights)\n",
    "optimizer = torch.optim.Adam(model.parameters(), lr=learning_rate)\n",
    "scheduler = torch.optim.lr_scheduler.StepLR(optimizer, step_size=lr_step, gamma=0.1)"
   ]
  },
  {
   "cell_type": "code",
   "execution_count": 6,
   "id": "7005fd65-8ec8-4c03-9f75-443419e8228d",
   "metadata": {},
   "outputs": [],
   "source": [
    "# Init dataset\n",
    "\n",
    "p_14 = Patches(\"D:\\\\gyeongsang_22_10_14\\\\PATCHES\\\\STACK_75_BANDS_14\")\n",
    "p_14_h = Patches(\"D:\\\\gyeongsang_22_10_14\\\\PATCHES\\\\STACK_75_BANDS_14_5\")\n",
    "p_21 = Patches(\"D:\\\\gyeongsang_22_10_21_1\\\\PATCHES\\\\STACK_75_BANDS_21_1_2\")\n",
    "p_25_h = Patches(\"D:\\\\gyeongsang_22_10_25\\\\PATCHES\\\\STACK_75_BANDS_25_3\")\n",
    "p_25 = Patches(\"D:\\\\gyeongsang_22_10_25\\\\PATCHES\\\\STACK_75_BANDS_25\")\n",
    "p_28 = Patches(\"D:\\\\gyeongsang_22_10_28\\\\PATCHES\\\\STACK_75_BANDS_28\")\n",
    "p_28_h = Patches(\"D:\\\\gyeongsang_22_10_28\\\\PATCHES\\\\STACK_75_BANDS_28_healthy\")"
   ]
  },
  {
   "cell_type": "code",
   "execution_count": 7,
   "id": "04375b2d-5dd4-4dba-a1b6-0d2b5c34f8be",
   "metadata": {},
   "outputs": [
    {
     "name": "stdout",
     "output_type": "stream",
     "text": [
      "For hdr image, there are: \n",
      " leaf          5160\n",
      "background    4369\n",
      "diseased       215\n",
      "Name: class, dtype: int64 \n",
      "\n",
      "For hdr image, there are: \n",
      " leaf          1728\n",
      "background     597\n",
      "diseased       173\n",
      "Name: class, dtype: int64 \n",
      "\n",
      "For hdr image, there are: \n",
      " background    575\n",
      "leaf          338\n",
      "diseased       61\n",
      "Name: class, dtype: int64 \n",
      "\n",
      "For hdr image, there are: \n",
      " leaf    148\n",
      "Name: class, dtype: int64 \n",
      "\n",
      "For hdr image, there are: \n",
      " leaf          663\n",
      "background    650\n",
      "diseased      117\n",
      "Name: class, dtype: int64 \n",
      "\n",
      "For hdr image, there are: \n",
      " background    1148\n",
      "leaf           710\n",
      "diseased        96\n",
      "Name: class, dtype: int64 \n",
      "\n",
      "For hdr image, there are: \n",
      " leaf    271\n",
      "Name: class, dtype: int64 \n",
      "\n",
      "None None None None None None None\n"
     ]
    }
   ],
   "source": [
    "print(p_14.describe(),\n",
    "      p_14_h.describe(),\n",
    "      p_21.describe(),\n",
    "      p_25_h.describe(),\n",
    "      p_25.describe(),\n",
    "      p_28.describe(),\n",
    "      p_28_h.describe())"
   ]
  },
  {
   "cell_type": "code",
   "execution_count": 8,
   "id": "8c50e815-37fc-4484-9efa-56d08ac4b6db",
   "metadata": {},
   "outputs": [
    {
     "name": "stdout",
     "output_type": "stream",
     "text": [
      "Training set has 1357 samples [0 1 2] class indices included\n",
      "Validation set has 581 samples [0 1 2] class indices included\n",
      "   Example: D:\\gyeongsang_22_10_14\\PATCHES\\STACK_75_BANDS_14_5\\hdr\\background\\88_267.HDR\n",
      "   Unique: True\n",
      "\n",
      "\n",
      "Training set has 105 samples [0] class indices included\n",
      "Validation set has 45 samples [0] class indices included\n",
      "   Example: D:\\gyeongsang_22_10_14\\PATCHES\\STACK_75_BANDS_14\\hdr\\background\\101_374.HDR\n",
      "   Unique: True\n",
      "\n",
      "\n",
      "Training set has 148 samples [0 2] class indices included\n",
      "Validation set has 63 samples [0 2] class indices included\n",
      "   Example: D:\\gyeongsang_22_10_21_1\\PATCHES\\STACK_75_BANDS_21_1_2\\hdr\\background\\81_282.HDR\n",
      "   Unique: True\n",
      "\n",
      "\n",
      "Training set has 152 samples [0 2] class indices included\n",
      "Validation set has 65 samples [0 2] class indices included\n",
      "   Example: D:\\gyeongsang_22_10_25\\PATCHES\\STACK_75_BANDS_25\\hdr\\background\\52_399.HDR\n",
      "   Unique: True\n",
      "\n",
      "\n",
      "Training set has 137 samples [0 2] class indices included\n",
      "Validation set has 59 samples [0 2] class indices included\n",
      "   Example: D:\\gyeongsang_22_10_28\\PATCHES\\STACK_75_BANDS_28\\hdr\\background\\80_378.HDR\n",
      "   Unique: True\n",
      "\n",
      "\n"
     ]
    }
   ],
   "source": [
    "# Get dataset\n",
    "\n",
    "patch_14_hd = p_14_h.getDataset([40, 1725, 173])\n",
    "patch_14_b  = p_14.getDataset([150, 0, 0])\n",
    "patch_14    = [pd.concat([patch_14_hd[0], patch_14_b[0]]),\n",
    "               pd.concat([patch_14_hd[1], patch_14_b[1]])]\n",
    "\n",
    "patch_21    = p_21.getDataset([150, 0, 61])\n",
    "\n",
    "patch_25 = p_25.getDataset([100, 0, 117])\n",
    "# patch_25_h  = p_25_h.getDataset([0, 0, 0])\n",
    "# patch_25    = [pd.concat([patch_25_bd[0], patch_25_h[0]]),\n",
    "#                pd.concat([patch_25_bd[1], patch_25_h[1]])]\n",
    "\n",
    "patch_28    = p_28.getDataset([100, 0, 96])\n",
    "\n",
    "# Shuffle dataset\n",
    "\n",
    "def shuffle(patch):\n",
    "    return [patch[i].sample(frac=1) for i in range(len(patch))]\n",
    "\n",
    "patch_14 = shuffle(patch_14)\n",
    "patch_21 = shuffle(patch_21)\n",
    "patch_25 = shuffle(patch_25)\n",
    "patch_28 = shuffle(patch_28)"
   ]
  },
  {
   "cell_type": "code",
   "execution_count": 9,
   "id": "da93bde4-bafc-462a-82a7-c2150e5915b2",
   "metadata": {},
   "outputs": [],
   "source": [
    "def splitDatasetKfold(patch, kfold, dtype='hdr', train_frac=0.7):   \n",
    "    patch_kfold = []\n",
    "    kfold_recs  = patch.copy()\n",
    "    \n",
    "    for k in range(kfold):\n",
    "        tr = pd.DataFrame(columns=[\"path\", \"type\", \"class\"])\n",
    "        vl = tr.copy()\n",
    "        for i in range(num_classes):\n",
    "            tmp = patch.loc[(patch['class'] == i) & \n",
    "                             (patch['type'] == dtype)]\n",
    "            tmp_tr = tmp.sample(frac=train_frac, replace=False, random_state=k)\n",
    "            tmp_vl = tmp.drop(tmp_tr.index)\n",
    "\n",
    "            tr = pd.concat([tr, tmp_tr])\n",
    "            vl = pd.concat([vl, tmp_vl])\n",
    "            \n",
    "        kfold_recs.loc[tr.index, f'k{k}'] = 0\n",
    "        kfold_recs.loc[vl.index, f'k{k}'] = 1\n",
    "            \n",
    "        patch_kfold.append([tr, vl])\n",
    "\n",
    "    # print((kfold_recs.loc[:, [f'k{i}' for i in range(kfold)]].sum(axis=1) == 0).sum())\n",
    "    \n",
    "    return patch_kfold, kfold_recs"
   ]
  },
  {
   "cell_type": "code",
   "execution_count": 10,
   "id": "f0817ffa-0306-48c1-84b5-ef4d11e0859f",
   "metadata": {},
   "outputs": [],
   "source": [
    "# patch_14_kfold, kfold_recs = splitDatasetKfold(patch_14, kfold)\n",
    "# len(patch_14_kfold)"
   ]
  },
  {
   "cell_type": "code",
   "execution_count": 11,
   "id": "a69c04b4-48e1-489b-87a7-187d9e3a908d",
   "metadata": {},
   "outputs": [],
   "source": [
    "# Patch wrapper\n",
    "\n",
    "img_14 = wrapPatch(patch_14)\n",
    "img_21 = wrapPatch(patch_21)\n",
    "img_25 = wrapPatch(patch_25)\n",
    "img_28 = wrapPatch(patch_28)\n",
    "\n",
    "patch_21_25_28 = pd.concat([patch_21[0], patch_25[0], patch_28[0]])\n",
    "train_patch = pd.concat([patch_14[0], patch_21[0], patch_25[0], patch_28[0]])\n",
    "val_patch = pd.concat([patch_14[1], patch_21[1], patch_25[1], patch_28[1]])\n",
    "\n",
    "patch_21_25_28 = patch_21_25_28.sample(frac=1)\n",
    "train_patch = train_patch.sample(frac=1)\n",
    "val_patch = val_patch.sample(frac=1)"
   ]
  },
  {
   "cell_type": "code",
   "execution_count": 12,
   "id": "8d0050a6-c9ba-492c-bb2e-b7829e00b9fe",
   "metadata": {},
   "outputs": [
    {
     "name": "stdout",
     "output_type": "stream",
     "text": [
      "1899, with {'background': 378, 'leaf': 1208, 'diseased': 313}\n",
      "813, with {'background': 162, 'leaf': 517, 'diseased': 134}\n"
     ]
    }
   ],
   "source": [
    "# Define training images\n",
    "\n",
    "img_21_25_28 = wrapPatch(patch_21_25_28)\n",
    "train_img = wrapPatch(train_patch)\n",
    "val_img = wrapPatch(val_patch)\n",
    "\n",
    "if count:\n",
    "    countImg(train_img, classes)\n",
    "    countImg(val_img, classes)\n",
    "\n",
    "if save_dataset:\n",
    "    train_img.img_df.to_csv(\"train.csv\")\n",
    "    val_img.img_df.to_csv(\"val.csv\")"
   ]
  },
  {
   "cell_type": "code",
   "execution_count": 13,
   "id": "8bfe2b79-6917-4727-8c87-0cce5ab5f8fc",
   "metadata": {},
   "outputs": [
    {
     "name": "stdout",
     "output_type": "stream",
     "text": [
      "Training set 21, 25 and 28\n",
      "class index: 2\n",
      "\t Rotated 90 deg\n",
      "\t Rotated 180 deg\n",
      "\t Rotated 270 deg\n",
      "Training set 14\n",
      "class index: 2\n",
      "\t Rotated 90 deg\n",
      "\t Rotated 180 deg\n",
      "\t Rotated 270 deg\n",
      "2838, with {'background': 378, 'leaf': 1208, 'diseased': 1252}\n",
      "813, with {'background': 162, 'leaf': 517, 'diseased': 134}\n"
     ]
    }
   ],
   "source": [
    "# Augment images \n",
    "\n",
    "if augment:\n",
    "    train_img_aug1 = augmentPatch2(img_21_25_28, [0, 0, 3], [\"Training set 21, 25 and 28\"])\n",
    "    train_img_aug2 = augmentPatch2(img_14[0], [0, 0, 3], [\"Training set 14\"])\n",
    "    \n",
    "    train_img = ConcatDataset([train_img] + train_img_aug1 + train_img_aug2)\n",
    "    val_img = ConcatDataset([val_img])   \n",
    "    \n",
    "    if count:\n",
    "        countImg(train_img, classes)\n",
    "        countImg(val_img, classes)"
   ]
  },
  {
   "cell_type": "code",
   "execution_count": 14,
   "id": "0d288ea5-7549-41ce-bd47-d62cb5ae7b58",
   "metadata": {},
   "outputs": [
    {
     "data": {
      "text/plain": [
       "torch.Size([128, 55, 20, 20])"
      ]
     },
     "execution_count": 14,
     "metadata": {},
     "output_type": "execute_result"
    }
   ],
   "source": [
    "# Load images\n",
    "\n",
    "loaders = imagesLoader([[train_img, True ],\n",
    "                        [val_img  , False],\n",
    "                        [img_14[1], False],\n",
    "                        [img_21[1], False],\n",
    "                        [img_25[1], False],\n",
    "                        [img_28[1], False]], batch_size)\n",
    "\n",
    "train_loader = loaders[0]\n",
    "test_loader = loaders[1]\n",
    "\n",
    "next(iter(train_loader))[0].shape"
   ]
  },
  {
   "cell_type": "code",
   "execution_count": 15,
   "id": "c1fbbdb1-d9f6-4210-b5e4-f1fefe41026e",
   "metadata": {},
   "outputs": [],
   "source": [
    "# Check the images\n",
    "\n",
    "# for train_sample in train_loader:\n",
    "#    displayImgs(train_sample[0], train_sample[1], classes=classes, n=batch_size)\n",
    "#    break"
   ]
  },
  {
   "cell_type": "code",
   "execution_count": 16,
   "id": "c986c5f9-afea-49c0-b15f-4f15e6eb2429",
   "metadata": {},
   "outputs": [
    {
     "name": "stdout",
     "output_type": "stream",
     "text": [
      "tensor([ 0.5621,  0.2669, -0.0534], device='cuda:0')\n"
     ]
    }
   ],
   "source": [
    "# Check the model\n",
    "\n",
    "with torch.no_grad():\n",
    "    for x, y in train_loader:\n",
    "        x = x.to(device=device)\n",
    "        y = y.to(device=device)\n",
    "        x_ = model(x)\n",
    "        print(x_[0])\n",
    "        break"
   ]
  },
  {
   "cell_type": "code",
   "execution_count": 17,
   "id": "7a85f0cf-da76-4db7-9983-1f364df1532f",
   "metadata": {},
   "outputs": [
    {
     "name": "stdout",
     "output_type": "stream",
     "text": [
      "[0.         0.39403974 0.76517572 0.50528541] [0.         0.39458414 0.60447761 0.35055351]\n"
     ]
    }
   ],
   "source": [
    "# Evaluate the model\n",
    "\n",
    "def evaluate(loader, model):\n",
    "    actuals = np.array([])\n",
    "    predictions = np.array([])\n",
    "    evaluations = np.array([])\n",
    "    model.eval()\n",
    "\n",
    "    with torch.no_grad():\n",
    "        for x, y in loader:\n",
    "            x = x.to(device=device)\n",
    "            y = y.to(device=device)\n",
    "\n",
    "            scores = model(x)\n",
    "            _, model_pred = scores.max(1)\n",
    "            actuals = np.append(actuals, y.cpu().detach().numpy())\n",
    "            predictions = np.append(predictions, model_pred.cpu().detach().numpy())\n",
    "    \n",
    "    for i in range(num_classes):\n",
    "        ac = (actuals == i)\n",
    "        pr = (predictions == i)\n",
    "\n",
    "        ca = (ac & pr).sum() / ac.sum()\n",
    "        evaluations = np.append(evaluations, ca)\n",
    "        \n",
    "    oa = (actuals == predictions).sum() / len(actuals)\n",
    "    evaluations = np.append(evaluations, oa)\n",
    "    \n",
    "    model.train()\n",
    "\n",
    "    return evaluations\n",
    "\n",
    "print(evaluate(train_loader, model), evaluate(test_loader, model))"
   ]
  },
  {
   "cell_type": "code",
   "execution_count": 18,
   "id": "69d598e4-b118-4ce0-b0c3-ebdc0f7faa4f",
   "metadata": {},
   "outputs": [
    {
     "name": "stdout",
     "output_type": "stream",
     "text": [
      "[0.0, 0.39403972029685974, 0.7651757001876831, 0.505285382270813] [0.0, 0.39458414912223816, 0.60447758436203, 0.3505535125732422]\n"
     ]
    }
   ],
   "source": [
    "def evaluateTorch(loader, model):\n",
    "    actuals = []\n",
    "    predictions = []\n",
    "    evaluations = []\n",
    "    model.eval()\n",
    "\n",
    "    with torch.no_grad():\n",
    "        for x, y in loader:\n",
    "            x = x.to(device=device)\n",
    "            y = y.to(device=device)\n",
    "\n",
    "            scores = model(x)\n",
    "            _, model_pred = scores.max(1)\n",
    "            \n",
    "            actuals.append(y)\n",
    "            predictions.append(model_pred)\n",
    "            \n",
    "    actuals = torch.cat(actuals)\n",
    "    predictions = torch.cat(predictions)\n",
    "    \n",
    "    for i in range(num_classes):\n",
    "        ac = (actuals == i)\n",
    "        pr = (predictions == i)\n",
    "\n",
    "        ca = (ac & pr).sum() / ac.sum()\n",
    "        evaluations.append(ca)\n",
    "\n",
    "    oa = (actuals == predictions).sum() / len(actuals)\n",
    "    evaluations.append(oa)\n",
    "    \n",
    "    model.train()\n",
    "\n",
    "    return [e.item() for e in evaluations]\n",
    "\n",
    "print(evaluateTorch(train_loader, model), evaluateTorch(test_loader, model))"
   ]
  },
  {
   "cell_type": "code",
   "execution_count": 19,
   "id": "a0e019ed-bf32-41bc-8333-2809466e5a01",
   "metadata": {},
   "outputs": [],
   "source": [
    "# Make a list to record training progress\n",
    "\n",
    "eval_ent = [train_loader, test_loader, loaders[2]]\n",
    "eval_hist = [[[] for i in range(2 + num_classes)]for i in range(len(eval_ent))]\n",
    "eval_idx = 1\n",
    "highest_acc = 0\n",
    "highest_dis = 0\n",
    "\n",
    "b_oa = 0\n",
    "b_d = 0\n",
    "trained_epochs = 0"
   ]
  },
  {
   "cell_type": "code",
   "execution_count": 20,
   "id": "64cc7c71-93a4-45c3-8ee0-cec4103ac022",
   "metadata": {},
   "outputs": [
    {
     "name": "stderr",
     "output_type": "stream",
     "text": [
      "Epoch[0/49]: 100%|█████████████████████████████████████████████████████████████████████| 23/23 [00:35<00:00,  1.54s/it]\n"
     ]
    },
    {
     "name": "stdout",
     "output_type": "stream",
     "text": [
      "loss:  1.0996641594430674\n",
      "Best OA is on 0 epoch\n",
      "1e-05\n",
      "accuracy_0: 0.0, 0.0, 0.0\n",
      "accuracy_1: 1.0, 1.0, 1.0\n",
      "accuracy_2: 0.003993610385805368, 0.0, 0.0\n",
      "accuracy_3: 0.4274136424064636, 0.6359163522720337, 0.8258785605430603\n"
     ]
    },
    {
     "name": "stderr",
     "output_type": "stream",
     "text": [
      "Epoch[1/49]: 100%|█████████████████████████████████████████████████████████████████████| 23/23 [00:32<00:00,  1.41s/it]\n"
     ]
    },
    {
     "name": "stdout",
     "output_type": "stream",
     "text": [
      "loss:  0.897142793821252\n",
      "Best diseased accuracy is on 1 epoch\n",
      "1e-05\n",
      "accuracy_0: 0.0, 0.0, 0.0\n",
      "accuracy_1: 0.8965231776237488, 0.9013539552688599, 0.9013539552688599\n",
      "accuracy_2: 0.6038338541984558, 0.15671642124652863, 0.09615384787321091\n",
      "accuracy_3: 0.6479915380477905, 0.5990159511566162, 0.7523961663246155\n"
     ]
    },
    {
     "name": "stderr",
     "output_type": "stream",
     "text": [
      "Epoch[2/49]: 100%|█████████████████████████████████████████████████████████████████████| 23/23 [00:31<00:00,  1.39s/it]\n"
     ]
    },
    {
     "name": "stdout",
     "output_type": "stream",
     "text": [
      "loss:  0.7942019156787706\n",
      "Best diseased accuracy is on 2 epoch\n",
      "1e-05\n",
      "accuracy_0: 0.005291005130857229, 0.006172839552164078, 0.0\n",
      "accuracy_1: 0.8807947039604187, 0.8607349991798401, 0.8607349991798401\n",
      "accuracy_2: 0.8027156591415405, 0.28358209133148193, 0.19230769574642181\n",
      "accuracy_3: 0.729739248752594, 0.5953259468078613, 0.7268370389938354\n"
     ]
    },
    {
     "name": "stderr",
     "output_type": "stream",
     "text": [
      "Epoch[3/49]: 100%|█████████████████████████████████████████████████████████████████████| 23/23 [00:31<00:00,  1.37s/it]\n"
     ]
    },
    {
     "name": "stdout",
     "output_type": "stream",
     "text": [
      "loss:  0.7018352332322494\n",
      "Best OA is on 3 epoch\n",
      "Best diseased accuracy is on 3 epoch\n",
      "1e-05\n",
      "accuracy_0: 0.27248677611351013, 0.25925925374031067, 0.28070175647735596\n",
      "accuracy_1: 0.9238410592079163, 0.9187620878219604, 0.9187620878219604\n",
      "accuracy_2: 0.7939296960830688, 0.2761194109916687, 0.17307692766189575\n",
      "accuracy_3: 0.7797744274139404, 0.6814268231391907, 0.7987220287322998\n"
     ]
    },
    {
     "name": "stderr",
     "output_type": "stream",
     "text": [
      "Epoch[4/49]: 100%|█████████████████████████████████████████████████████████████████████| 23/23 [00:32<00:00,  1.40s/it]\n"
     ]
    },
    {
     "name": "stdout",
     "output_type": "stream",
     "text": [
      "loss:  0.6128918113915817\n",
      "Best OA is on 4 epoch\n",
      "Best diseased accuracy is on 4 epoch\n",
      "1e-05\n",
      "accuracy_0: 0.523809552192688, 0.5493826866149902, 0.6491228342056274\n",
      "accuracy_1: 0.9461920261383057, 0.9323017597198486, 0.9323017597198486\n",
      "accuracy_2: 0.8027156591415405, 0.2761194109916687, 0.1538461595773697\n",
      "accuracy_3: 0.8266384601593018, 0.7478474378585815, 0.8418530225753784\n"
     ]
    },
    {
     "name": "stderr",
     "output_type": "stream",
     "text": [
      "Epoch[5/49]: 100%|█████████████████████████████████████████████████████████████████████| 23/23 [00:31<00:00,  1.37s/it]\n"
     ]
    },
    {
     "name": "stdout",
     "output_type": "stream",
     "text": [
      "loss:  0.5569354852904445\n",
      "Best OA is on 5 epoch\n",
      "Best diseased accuracy is on 5 epoch\n",
      "1e-05\n",
      "accuracy_0: 0.658730149269104, 0.6913580298423767, 0.7719298005104065\n",
      "accuracy_1: 0.9552980065345764, 0.9419729113578796, 0.9419729113578796\n",
      "accuracy_2: 0.809904158115387, 0.2985074520111084, 0.1538461595773697\n",
      "accuracy_3: 0.8516560792922974, 0.785977840423584, 0.8610223531723022\n"
     ]
    },
    {
     "name": "stderr",
     "output_type": "stream",
     "text": [
      "Epoch[6/49]: 100%|█████████████████████████████████████████████████████████████████████| 23/23 [00:31<00:00,  1.37s/it]\n"
     ]
    },
    {
     "name": "stdout",
     "output_type": "stream",
     "text": [
      "loss:  0.5065755105536917\n",
      "Best OA is on 6 epoch\n",
      "Best diseased accuracy is on 6 epoch\n",
      "1e-05\n",
      "accuracy_0: 0.7592592835426331, 0.7839506268501282, 0.7719298005104065\n",
      "accuracy_1: 0.9536423683166504, 0.9342359900474548, 0.9342359900474548\n",
      "accuracy_2: 0.8266773223876953, 0.3731343150138855, 0.21153846383094788\n",
      "accuracy_3: 0.8717406392097473, 0.8118081092834473, 0.859424889087677\n"
     ]
    },
    {
     "name": "stderr",
     "output_type": "stream",
     "text": [
      "Epoch[7/49]: 100%|█████████████████████████████████████████████████████████████████████| 23/23 [00:31<00:00,  1.37s/it]\n"
     ]
    },
    {
     "name": "stdout",
     "output_type": "stream",
     "text": [
      "loss:  0.4581046285836593\n",
      "Best OA is on 7 epoch\n",
      "1e-05\n",
      "accuracy_0: 0.7962962985038757, 0.8148148059844971, 0.7894737124443054\n",
      "accuracy_1: 0.9701986908912659, 0.9477756023406982, 0.9477756023406982\n",
      "accuracy_2: 0.8130990266799927, 0.31343284249305725, 0.1538461595773697\n",
      "accuracy_3: 0.8777307868003845, 0.8167281746864319, 0.8674121499061584\n"
     ]
    },
    {
     "name": "stderr",
     "output_type": "stream",
     "text": [
      "Epoch[8/49]: 100%|█████████████████████████████████████████████████████████████████████| 23/23 [00:31<00:00,  1.39s/it]\n"
     ]
    },
    {
     "name": "stdout",
     "output_type": "stream",
     "text": [
      "loss:  0.43330171963442926\n",
      "Best OA is on 8 epoch\n",
      "1e-05\n",
      "accuracy_0: 0.8280423283576965, 0.8580247163772583, 0.859649121761322\n",
      "accuracy_1: 0.9627483487129211, 0.9342359900474548, 0.9342359900474548\n",
      "accuracy_2: 0.8250798583030701, 0.36567163467407227, 0.21153846383094788\n",
      "accuracy_3: 0.8840732574462891, 0.8253382444381714, 0.8674121499061584\n"
     ]
    },
    {
     "name": "stderr",
     "output_type": "stream",
     "text": [
      "Epoch[9/49]: 100%|█████████████████████████████████████████████████████████████████████| 23/23 [00:31<00:00,  1.37s/it]\n"
     ]
    },
    {
     "name": "stdout",
     "output_type": "stream",
     "text": [
      "loss:  0.40375206133593683\n",
      "Best OA is on 9 epoch\n",
      "1e-05\n",
      "accuracy_0: 0.8439153432846069, 0.8703703880310059, 0.859649121761322\n",
      "accuracy_1: 0.9726821184158325, 0.9419729113578796, 0.9419729113578796\n",
      "accuracy_2: 0.8123003244400024, 0.3283582031726837, 0.1538461595773697\n",
      "accuracy_3: 0.8847779631614685, 0.8265682458877563, 0.8690095543861389\n"
     ]
    },
    {
     "name": "stderr",
     "output_type": "stream",
     "text": [
      "Epoch[10/49]: 100%|████████████████████████████████████████████████████████████████████| 23/23 [00:31<00:00,  1.36s/it]\n"
     ]
    },
    {
     "name": "stdout",
     "output_type": "stream",
     "text": [
      "loss:  0.3846461604470792\n",
      "Best OA is on 10 epoch\n",
      "Best diseased accuracy is on 10 epoch\n",
      "1e-05\n",
      "accuracy_0: 0.8465608358383179, 0.8765432238578796, 0.859649121761322\n",
      "accuracy_1: 0.9552980065345764, 0.9284332394599915, 0.9284332394599915\n",
      "accuracy_2: 0.8530351519584656, 0.44029849767684937, 0.23076923191547394\n",
      "accuracy_3: 0.8957011699676514, 0.8376383781433105, 0.864217221736908\n"
     ]
    },
    {
     "name": "stderr",
     "output_type": "stream",
     "text": [
      "Epoch[11/49]: 100%|████████████████████████████████████████████████████████████████████| 23/23 [00:31<00:00,  1.37s/it]\n"
     ]
    },
    {
     "name": "stdout",
     "output_type": "stream",
     "text": [
      "loss:  0.3802209768606269\n",
      "Best OA is on 11 epoch\n",
      "Best diseased accuracy is on 11 epoch\n",
      "1e-05\n",
      "accuracy_0: 0.8650793433189392, 0.8827160596847534, 0.8771929740905762\n",
      "accuracy_1: 0.9552980065345764, 0.9264990091323853, 0.9264990091323853\n",
      "accuracy_2: 0.8522364497184753, 0.447761207818985, 0.23076923191547394\n",
      "accuracy_3: 0.8978153467178345, 0.8388683795928955, 0.864217221736908\n"
     ]
    },
    {
     "name": "stderr",
     "output_type": "stream",
     "text": [
      "Epoch[12/49]: 100%|████████████████████████████████████████████████████████████████████| 23/23 [00:31<00:00,  1.37s/it]\n"
     ]
    },
    {
     "name": "stdout",
     "output_type": "stream",
     "text": [
      "loss:  0.3489550313223963\n",
      "Best OA is on 12 epoch\n",
      "1e-05\n",
      "accuracy_0: 0.8650793433189392, 0.8827160596847534, 0.8771929740905762\n",
      "accuracy_1: 0.9627483487129211, 0.9323017597198486, 0.9323017597198486\n",
      "accuracy_2: 0.8434504866600037, 0.44029849767684937, 0.21153846383094788\n",
      "accuracy_3: 0.8971105813980103, 0.8413283824920654, 0.8674121499061584\n"
     ]
    },
    {
     "name": "stderr",
     "output_type": "stream",
     "text": [
      "Epoch[13/49]: 100%|████████████████████████████████████████████████████████████████████| 23/23 [00:31<00:00,  1.37s/it]\n"
     ]
    },
    {
     "name": "stdout",
     "output_type": "stream",
     "text": [
      "loss:  0.33739276683848834\n",
      "Best OA is on 13 epoch\n",
      "1e-05\n",
      "accuracy_0: 0.8862434029579163, 0.895061731338501, 0.8947368264198303\n",
      "accuracy_1: 0.9627483487129211, 0.9381044507026672, 0.9381044507026672\n",
      "accuracy_2: 0.8394568562507629, 0.43283581733703613, 0.19230769574642181\n",
      "accuracy_3: 0.8981676697731018, 0.84624844789505, 0.8722044825553894\n"
     ]
    },
    {
     "name": "stderr",
     "output_type": "stream",
     "text": [
      "Epoch[14/49]: 100%|████████████████████████████████████████████████████████████████████| 23/23 [00:31<00:00,  1.37s/it]\n"
     ]
    },
    {
     "name": "stdout",
     "output_type": "stream",
     "text": [
      "loss:  0.3231040731720302\n",
      "Best diseased accuracy is on 14 epoch\n",
      "1e-05\n",
      "accuracy_0: 0.8941798806190491, 0.9012345671653748, 0.8947368264198303\n",
      "accuracy_1: 0.9478476643562317, 0.9187620878219604, 0.9187620878219604\n",
      "accuracy_2: 0.865015983581543, 0.46268656849861145, 0.23076923191547394\n",
      "accuracy_3: 0.904157817363739, 0.8400983810424805, 0.859424889087677\n"
     ]
    },
    {
     "name": "stderr",
     "output_type": "stream",
     "text": [
      "Epoch[15/49]: 100%|████████████████████████████████████████████████████████████████████| 23/23 [00:31<00:00,  1.37s/it]\n"
     ]
    },
    {
     "name": "stdout",
     "output_type": "stream",
     "text": [
      "loss:  0.31836156871007837\n",
      "Best OA is on 15 epoch\n",
      "1e-05\n",
      "accuracy_0: 0.8862434029579163, 0.9012345671653748, 0.8947368264198303\n",
      "accuracy_1: 0.9602649211883545, 0.9381044507026672, 0.9381044507026672\n",
      "accuracy_2: 0.8506389856338501, 0.43283581733703613, 0.19230769574642181\n",
      "accuracy_3: 0.9020436406135559, 0.847478449344635, 0.8722044825553894\n"
     ]
    },
    {
     "name": "stderr",
     "output_type": "stream",
     "text": [
      "Epoch[16/49]: 100%|████████████████████████████████████████████████████████████████████| 23/23 [00:31<00:00,  1.37s/it]\n"
     ]
    },
    {
     "name": "stdout",
     "output_type": "stream",
     "text": [
      "loss:  0.30325463025466254\n",
      "Best OA is on 16 epoch\n",
      "Best diseased accuracy is on 16 epoch\n",
      "1e-05\n",
      "accuracy_0: 0.89682537317276, 0.9012345671653748, 0.8947368264198303\n",
      "accuracy_1: 0.9495033025741577, 0.9284332394599915, 0.9284332394599915\n",
      "accuracy_2: 0.8690096139907837, 0.4776119291782379, 0.25\n",
      "accuracy_3: 0.9069766998291016, 0.84870845079422, 0.8690095543861389\n"
     ]
    },
    {
     "name": "stderr",
     "output_type": "stream",
     "text": [
      "Epoch[17/49]: 100%|████████████████████████████████████████████████████████████████████| 23/23 [00:31<00:00,  1.36s/it]\n"
     ]
    },
    {
     "name": "stdout",
     "output_type": "stream",
     "text": [
      "loss:  0.2944480673126552\n",
      "1e-05\n",
      "accuracy_0: 0.89682537317276, 0.9012345671653748, 0.8947368264198303\n",
      "accuracy_1: 0.9519867300987244, 0.9284332394599915, 0.9284332394599915\n",
      "accuracy_2: 0.8698083162307739, 0.4776119291782379, 0.25\n",
      "accuracy_3: 0.9083861708641052, 0.84870845079422, 0.8690095543861389\n"
     ]
    },
    {
     "name": "stderr",
     "output_type": "stream",
     "text": [
      "Epoch[18/49]: 100%|████████████████████████████████████████████████████████████████████| 23/23 [00:31<00:00,  1.38s/it]\n"
     ]
    },
    {
     "name": "stdout",
     "output_type": "stream",
     "text": [
      "loss:  0.29553399008253345\n",
      "Best OA is on 18 epoch\n",
      "Best diseased accuracy is on 18 epoch\n",
      "1e-05\n",
      "accuracy_0: 0.9126983880996704, 0.9135802388191223, 0.9122806787490845\n",
      "accuracy_1: 0.9486755132675171, 0.924564778804779, 0.924564778804779\n",
      "accuracy_2: 0.8761980533599854, 0.49253731966018677, 0.25\n",
      "accuracy_3: 0.9119097590446472, 0.8511685132980347, 0.8674121499061584\n"
     ]
    },
    {
     "name": "stderr",
     "output_type": "stream",
     "text": [
      "Epoch[19/49]: 100%|████████████████████████████████████████████████████████████████████| 23/23 [00:31<00:00,  1.37s/it]\n"
     ]
    },
    {
     "name": "stdout",
     "output_type": "stream",
     "text": [
      "loss:  0.27758097454257635\n",
      "Best OA is on 19 epoch\n",
      "Best diseased accuracy is on 19 epoch\n",
      "1.0000000000000002e-06\n",
      "accuracy_0: 0.9100528955459595, 0.9135802388191223, 0.9122806787490845\n",
      "accuracy_1: 0.942052960395813, 0.914893627166748, 0.914893627166748\n",
      "accuracy_2: 0.8857827186584473, 0.5447761416435242, 0.2884615361690521\n",
      "accuracy_3: 0.9129668474197388, 0.8536285161972046, 0.8626198172569275\n"
     ]
    },
    {
     "name": "stderr",
     "output_type": "stream",
     "text": [
      "Epoch[20/49]: 100%|████████████████████████████████████████████████████████████████████| 23/23 [00:31<00:00,  1.36s/it]\n"
     ]
    },
    {
     "name": "stdout",
     "output_type": "stream",
     "text": [
      "loss:  0.2801462904266689\n",
      "Best OA is on 20 epoch\n",
      "1.0000000000000002e-06\n",
      "accuracy_0: 0.89682537317276, 0.9012345671653748, 0.8947368264198303\n",
      "accuracy_1: 0.9470198750495911, 0.9284332394599915, 0.9284332394599915\n",
      "accuracy_2: 0.8801916837692261, 0.5223880410194397, 0.2884615361690521\n",
      "accuracy_3: 0.9108526706695557, 0.8560885190963745, 0.8722044825553894\n"
     ]
    },
    {
     "name": "stderr",
     "output_type": "stream",
     "text": [
      "Epoch[21/49]: 100%|████████████████████████████████████████████████████████████████████| 23/23 [00:31<00:00,  1.37s/it]\n"
     ]
    },
    {
     "name": "stdout",
     "output_type": "stream",
     "text": [
      "loss:  0.28237668910752173\n",
      "1.0000000000000002e-06\n",
      "accuracy_0: 0.8994709253311157, 0.9012345671653748, 0.8947368264198303\n",
      "accuracy_1: 0.9511589407920837, 0.9323017597198486, 0.9323017597198486\n",
      "accuracy_2: 0.8761980533599854, 0.5, 0.25\n",
      "accuracy_3: 0.9112050533294678, 0.8548585176467896, 0.8722044825553894\n"
     ]
    },
    {
     "name": "stderr",
     "output_type": "stream",
     "text": [
      "Epoch[22/49]: 100%|████████████████████████████████████████████████████████████████████| 23/23 [00:31<00:00,  1.36s/it]\n"
     ]
    },
    {
     "name": "stdout",
     "output_type": "stream",
     "text": [
      "loss:  0.28351228392642475\n",
      "Best OA is on 22 epoch\n",
      "1.0000000000000002e-06\n",
      "accuracy_0: 0.9179894328117371, 0.9135802388191223, 0.9122806787490845\n",
      "accuracy_1: 0.9461920261383057, 0.9264990091323853, 0.9264990091323853\n",
      "accuracy_2: 0.8809903860092163, 0.5223880410194397, 0.2884615361690521\n",
      "accuracy_3: 0.9136715531349182, 0.8573185801506042, 0.8722044825553894\n"
     ]
    },
    {
     "name": "stderr",
     "output_type": "stream",
     "text": [
      "Epoch[23/49]: 100%|████████████████████████████████████████████████████████████████████| 23/23 [00:31<00:00,  1.35s/it]\n"
     ]
    },
    {
     "name": "stdout",
     "output_type": "stream",
     "text": [
      "loss:  0.27347792555456574\n",
      "Best OA is on 23 epoch\n",
      "1.0000000000000002e-06\n",
      "accuracy_0: 0.9074074029922485, 0.9135802388191223, 0.9122806787490845\n",
      "accuracy_1: 0.9495033025741577, 0.9303675293922424, 0.9303675293922424\n",
      "accuracy_2: 0.8769968152046204, 0.5149253606796265, 0.26923078298568726\n",
      "accuracy_3: 0.9119097590446472, 0.8585485816001892, 0.8738018870353699\n"
     ]
    },
    {
     "name": "stderr",
     "output_type": "stream",
     "text": [
      "Epoch[24/49]: 100%|████████████████████████████████████████████████████████████████████| 23/23 [00:31<00:00,  1.36s/it]\n"
     ]
    },
    {
     "name": "stdout",
     "output_type": "stream",
     "text": [
      "loss:  0.2818073228649471\n",
      "1.0000000000000002e-06\n",
      "accuracy_0: 0.9021164178848267, 0.9012345671653748, 0.8947368264198303\n",
      "accuracy_1: 0.9528145790100098, 0.9323017597198486, 0.9323017597198486\n",
      "accuracy_2: 0.8761980533599854, 0.5074626803398132, 0.25\n",
      "accuracy_3: 0.9122621417045593, 0.8560885190963745, 0.8722044825553894\n"
     ]
    },
    {
     "name": "stderr",
     "output_type": "stream",
     "text": [
      "Epoch[25/49]: 100%|████████████████████████████████████████████████████████████████████| 23/23 [00:31<00:00,  1.35s/it]\n"
     ]
    },
    {
     "name": "stdout",
     "output_type": "stream",
     "text": [
      "loss:  0.27815273987210315\n",
      "1.0000000000000002e-06\n",
      "accuracy_0: 0.9126983880996704, 0.9135802388191223, 0.9122806787490845\n",
      "accuracy_1: 0.9503311514854431, 0.9284332394599915, 0.9284332394599915\n",
      "accuracy_2: 0.8777955174446106, 0.5223880410194397, 0.2884615361690521\n",
      "accuracy_3: 0.9133192300796509, 0.8585485816001892, 0.8738018870353699\n"
     ]
    },
    {
     "name": "stderr",
     "output_type": "stream",
     "text": [
      "Epoch[26/49]: 100%|████████████████████████████████████████████████████████████████████| 23/23 [00:31<00:00,  1.36s/it]\n"
     ]
    },
    {
     "name": "stdout",
     "output_type": "stream",
     "text": [
      "loss:  0.28315851027550903\n",
      "1.0000000000000002e-06\n",
      "accuracy_0: 0.9153439402580261, 0.9135802388191223, 0.9122806787490845\n",
      "accuracy_1: 0.9486755132675171, 0.9284332394599915, 0.9284332394599915\n",
      "accuracy_2: 0.8777955174446106, 0.5149253606796265, 0.26923078298568726\n",
      "accuracy_3: 0.9129668474197388, 0.8573185801506042, 0.8722044825553894\n"
     ]
    },
    {
     "name": "stderr",
     "output_type": "stream",
     "text": [
      "Epoch[27/49]: 100%|████████████████████████████████████████████████████████████████████| 23/23 [00:31<00:00,  1.36s/it]\n"
     ]
    },
    {
     "name": "stdout",
     "output_type": "stream",
     "text": [
      "loss:  0.27131881338098773\n",
      "1.0000000000000002e-06\n",
      "accuracy_0: 0.9153439402580261, 0.9135802388191223, 0.9122806787490845\n",
      "accuracy_1: 0.9486755132675171, 0.9284332394599915, 0.9284332394599915\n",
      "accuracy_2: 0.8777955174446106, 0.5149253606796265, 0.26923078298568726\n",
      "accuracy_3: 0.9129668474197388, 0.8573185801506042, 0.8722044825553894\n"
     ]
    },
    {
     "name": "stderr",
     "output_type": "stream",
     "text": [
      "Epoch[28/49]: 100%|████████████████████████████████████████████████████████████████████| 23/23 [00:31<00:00,  1.35s/it]\n"
     ]
    },
    {
     "name": "stdout",
     "output_type": "stream",
     "text": [
      "loss:  0.2710401733284411\n",
      "1.0000000000000002e-06\n",
      "accuracy_0: 0.9047619104385376, 0.9135802388191223, 0.9122806787490845\n",
      "accuracy_1: 0.9503311514854431, 0.9284332394599915, 0.9284332394599915\n",
      "accuracy_2: 0.8777955174446106, 0.5223880410194397, 0.2884615361690521\n",
      "accuracy_3: 0.9122621417045593, 0.8585485816001892, 0.8738018870353699\n"
     ]
    },
    {
     "name": "stderr",
     "output_type": "stream",
     "text": [
      "Epoch[29/49]: 100%|████████████████████████████████████████████████████████████████████| 23/23 [00:31<00:00,  1.35s/it]\n"
     ]
    },
    {
     "name": "stdout",
     "output_type": "stream",
     "text": [
      "loss:  0.2688072090563567\n",
      "1.0000000000000002e-06\n",
      "accuracy_0: 0.8994709253311157, 0.9074074029922485, 0.8947368264198303\n",
      "accuracy_1: 0.9586092829704285, 0.9381044507026672, 0.9381044507026672\n",
      "accuracy_2: 0.8698083162307739, 0.49253731966018677, 0.25\n",
      "accuracy_3: 0.9115573763847351, 0.8585485816001892, 0.8769968152046204\n"
     ]
    },
    {
     "name": "stderr",
     "output_type": "stream",
     "text": [
      "Epoch[30/49]: 100%|████████████████████████████████████████████████████████████████████| 23/23 [00:31<00:00,  1.36s/it]\n"
     ]
    },
    {
     "name": "stdout",
     "output_type": "stream",
     "text": [
      "loss:  0.2749473322992739\n",
      "Best OA is on 30 epoch\n",
      "1.0000000000000002e-06\n",
      "accuracy_0: 0.920634925365448, 0.9197530746459961, 0.9298245906829834\n",
      "accuracy_1: 0.9461920261383057, 0.924564778804779, 0.924564778804779\n",
      "accuracy_2: 0.8801916837692261, 0.5373134613037109, 0.2884615361690521\n",
      "accuracy_3: 0.9136715531349182, 0.8597785830497742, 0.8722044825553894\n"
     ]
    },
    {
     "name": "stderr",
     "output_type": "stream",
     "text": [
      "Epoch[31/49]: 100%|████████████████████████████████████████████████████████████████████| 23/23 [00:31<00:00,  1.36s/it]\n"
     ]
    },
    {
     "name": "stdout",
     "output_type": "stream",
     "text": [
      "loss:  0.2698049091774484\n",
      "1.0000000000000002e-06\n",
      "accuracy_0: 0.9100528955459595, 0.9135802388191223, 0.9122806787490845\n",
      "accuracy_1: 0.9511589407920837, 0.9303675293922424, 0.9303675293922424\n",
      "accuracy_2: 0.8753993511199951, 0.5149253606796265, 0.26923078298568726\n",
      "accuracy_3: 0.9122621417045593, 0.8585485816001892, 0.8738018870353699\n"
     ]
    },
    {
     "name": "stderr",
     "output_type": "stream",
     "text": [
      "Epoch[32/49]: 100%|████████████████████████████████████████████████████████████████████| 23/23 [00:31<00:00,  1.36s/it]\n"
     ]
    },
    {
     "name": "stdout",
     "output_type": "stream",
     "text": [
      "loss:  0.2719531584045161\n",
      "1.0000000000000002e-06\n",
      "accuracy_0: 0.89682537317276, 0.9012345671653748, 0.8947368264198303\n",
      "accuracy_1: 0.9528145790100098, 0.9303675293922424, 0.9303675293922424\n",
      "accuracy_2: 0.8769968152046204, 0.5149253606796265, 0.26923078298568726\n",
      "accuracy_3: 0.9119097590446472, 0.8560885190963745, 0.8722044825553894\n"
     ]
    },
    {
     "name": "stderr",
     "output_type": "stream",
     "text": [
      "Epoch[33/49]: 100%|████████████████████████████████████████████████████████████████████| 23/23 [00:31<00:00,  1.36s/it]\n"
     ]
    },
    {
     "name": "stdout",
     "output_type": "stream",
     "text": [
      "loss:  0.2719402190135873\n",
      "1.0000000000000002e-06\n",
      "accuracy_0: 0.9047619104385376, 0.9135802388191223, 0.9122806787490845\n",
      "accuracy_1: 0.9511589407920837, 0.9303675293922424, 0.9303675293922424\n",
      "accuracy_2: 0.8761980533599854, 0.5149253606796265, 0.26923078298568726\n",
      "accuracy_3: 0.9119097590446472, 0.8585485816001892, 0.8738018870353699\n"
     ]
    },
    {
     "name": "stderr",
     "output_type": "stream",
     "text": [
      "Epoch[34/49]: 100%|████████████████████████████████████████████████████████████████████| 23/23 [00:31<00:00,  1.36s/it]\n"
     ]
    },
    {
     "name": "stdout",
     "output_type": "stream",
     "text": [
      "loss:  0.26530232248098956\n",
      "1.0000000000000002e-06\n",
      "accuracy_0: 0.9021164178848267, 0.9074074029922485, 0.9122806787490845\n",
      "accuracy_1: 0.9495033025741577, 0.9264990091323853, 0.9264990091323853\n",
      "accuracy_2: 0.8809903860092163, 0.5223880410194397, 0.2884615361690521\n",
      "accuracy_3: 0.9129668474197388, 0.8560885190963745, 0.8722044825553894\n"
     ]
    },
    {
     "name": "stderr",
     "output_type": "stream",
     "text": [
      "Epoch[35/49]: 100%|████████████████████████████████████████████████████████████████████| 23/23 [00:31<00:00,  1.36s/it]\n"
     ]
    },
    {
     "name": "stdout",
     "output_type": "stream",
     "text": [
      "loss:  0.2692182284334432\n",
      "Best OA is on 35 epoch\n",
      "1.0000000000000002e-06\n",
      "accuracy_0: 0.9126983880996704, 0.9135802388191223, 0.9122806787490845\n",
      "accuracy_1: 0.9486755132675171, 0.9284332394599915, 0.9284332394599915\n",
      "accuracy_2: 0.8793929815292358, 0.5373134613037109, 0.2884615361690521\n",
      "accuracy_3: 0.9133192300796509, 0.8610085844993591, 0.8738018870353699\n"
     ]
    },
    {
     "name": "stderr",
     "output_type": "stream",
     "text": [
      "Epoch[36/49]: 100%|████████████████████████████████████████████████████████████████████| 23/23 [00:31<00:00,  1.36s/it]\n"
     ]
    },
    {
     "name": "stdout",
     "output_type": "stream",
     "text": [
      "loss:  0.27518419338309247\n",
      "1.0000000000000002e-06\n",
      "accuracy_0: 0.9153439402580261, 0.9135802388191223, 0.9122806787490845\n",
      "accuracy_1: 0.9495033025741577, 0.9284332394599915, 0.9284332394599915\n",
      "accuracy_2: 0.8761980533599854, 0.5074626803398132, 0.25\n",
      "accuracy_3: 0.9126144647598267, 0.8560885190963745, 0.8706070184707642\n"
     ]
    },
    {
     "name": "stderr",
     "output_type": "stream",
     "text": [
      "Epoch[37/49]: 100%|████████████████████████████████████████████████████████████████████| 23/23 [00:31<00:00,  1.36s/it]\n"
     ]
    },
    {
     "name": "stdout",
     "output_type": "stream",
     "text": [
      "loss:  0.26751296870086505\n",
      "Best diseased accuracy is on 37 epoch\n",
      "1.0000000000000002e-06\n",
      "accuracy_0: 0.9126983880996704, 0.9135802388191223, 0.9122806787490845\n",
      "accuracy_1: 0.9470198750495911, 0.924564778804779, 0.924564778804779\n",
      "accuracy_2: 0.8841853141784668, 0.5522388219833374, 0.2884615361690521\n",
      "accuracy_3: 0.9147286415100098, 0.8610085844993591, 0.8706070184707642\n"
     ]
    },
    {
     "name": "stderr",
     "output_type": "stream",
     "text": [
      "Epoch[38/49]: 100%|████████████████████████████████████████████████████████████████████| 23/23 [00:31<00:00,  1.36s/it]\n"
     ]
    },
    {
     "name": "stdout",
     "output_type": "stream",
     "text": [
      "loss:  0.2638944782640623\n",
      "1.0000000000000002e-06\n",
      "accuracy_0: 0.9047619104385376, 0.9135802388191223, 0.9122806787490845\n",
      "accuracy_1: 0.9511589407920837, 0.9342359900474548, 0.9342359900474548\n",
      "accuracy_2: 0.8753993511199951, 0.5074626803398132, 0.25\n",
      "accuracy_3: 0.9115573763847351, 0.8597785830497742, 0.8753993511199951\n"
     ]
    },
    {
     "name": "stderr",
     "output_type": "stream",
     "text": [
      "Epoch[39/49]: 100%|████████████████████████████████████████████████████████████████████| 23/23 [00:31<00:00,  1.36s/it]\n"
     ]
    },
    {
     "name": "stdout",
     "output_type": "stream",
     "text": [
      "loss:  0.2699316416097724\n",
      "1.0000000000000002e-07\n",
      "accuracy_0: 0.920634925365448, 0.9135802388191223, 0.9122806787490845\n",
      "accuracy_1: 0.9470198750495911, 0.9284332394599915, 0.9284332394599915\n",
      "accuracy_2: 0.8793929815292358, 0.5373134613037109, 0.2884615361690521\n",
      "accuracy_3: 0.9136715531349182, 0.8610085844993591, 0.8738018870353699\n"
     ]
    },
    {
     "name": "stderr",
     "output_type": "stream",
     "text": [
      "Epoch[40/49]: 100%|████████████████████████████████████████████████████████████████████| 23/23 [00:31<00:00,  1.36s/it]\n"
     ]
    },
    {
     "name": "stdout",
     "output_type": "stream",
     "text": [
      "loss:  0.26256270641865936\n",
      "Best OA is on 40 epoch\n",
      "1.0000000000000002e-07\n",
      "accuracy_0: 0.9074074029922485, 0.9135802388191223, 0.9122806787490845\n",
      "accuracy_1: 0.9486755132675171, 0.9303675293922424, 0.9303675293922424\n",
      "accuracy_2: 0.8801916837692261, 0.5373134613037109, 0.2884615361690521\n",
      "accuracy_3: 0.9129668474197388, 0.8622385859489441, 0.8753993511199951\n"
     ]
    },
    {
     "name": "stderr",
     "output_type": "stream",
     "text": [
      "Epoch[41/49]: 100%|████████████████████████████████████████████████████████████████████| 23/23 [00:31<00:00,  1.36s/it]\n"
     ]
    },
    {
     "name": "stdout",
     "output_type": "stream",
     "text": [
      "loss:  0.2671995882106864\n",
      "1.0000000000000002e-07\n",
      "accuracy_0: 0.8941798806190491, 0.9012345671653748, 0.8947368264198303\n",
      "accuracy_1: 0.9536423683166504, 0.9342359900474548, 0.9342359900474548\n",
      "accuracy_2: 0.8777955174446106, 0.5223880410194397, 0.2884615361690521\n",
      "accuracy_3: 0.9122621417045593, 0.8597785830497742, 0.8769968152046204\n"
     ]
    },
    {
     "name": "stderr",
     "output_type": "stream",
     "text": [
      "Epoch[42/49]: 100%|████████████████████████████████████████████████████████████████████| 23/23 [00:31<00:00,  1.36s/it]\n"
     ]
    },
    {
     "name": "stdout",
     "output_type": "stream",
     "text": [
      "loss:  0.2644019709981006\n",
      "1.0000000000000002e-07\n",
      "accuracy_0: 0.8862434029579163, 0.9012345671653748, 0.8947368264198303\n",
      "accuracy_1: 0.9569536447525024, 0.936170220375061, 0.936170220375061\n",
      "accuracy_2: 0.8753993511199951, 0.5074626803398132, 0.26923078298568726\n",
      "accuracy_3: 0.9115573763847351, 0.8585485816001892, 0.8769968152046204\n"
     ]
    },
    {
     "name": "stderr",
     "output_type": "stream",
     "text": [
      "Epoch[43/49]: 100%|████████████████████████████████████████████████████████████████████| 23/23 [00:31<00:00,  1.36s/it]\n"
     ]
    },
    {
     "name": "stdout",
     "output_type": "stream",
     "text": [
      "loss:  0.2612708295169084\n",
      "1.0000000000000002e-07\n",
      "accuracy_0: 0.9074074029922485, 0.9135802388191223, 0.9122806787490845\n",
      "accuracy_1: 0.9486755132675171, 0.9303675293922424, 0.9303675293922424\n",
      "accuracy_2: 0.8793929815292358, 0.5373134613037109, 0.2884615361690521\n",
      "accuracy_3: 0.9126144647598267, 0.8622385859489441, 0.8753993511199951\n"
     ]
    },
    {
     "name": "stderr",
     "output_type": "stream",
     "text": [
      "Epoch[44/49]: 100%|████████████████████████████████████████████████████████████████████| 23/23 [00:31<00:00,  1.36s/it]\n"
     ]
    },
    {
     "name": "stdout",
     "output_type": "stream",
     "text": [
      "loss:  0.26091049028479535\n",
      "1.0000000000000002e-07\n",
      "accuracy_0: 0.9021164178848267, 0.9074074029922485, 0.9122806787490845\n",
      "accuracy_1: 0.9495033025741577, 0.9264990091323853, 0.9264990091323853\n",
      "accuracy_2: 0.8817891478538513, 0.5373134613037109, 0.2884615361690521\n",
      "accuracy_3: 0.9133192300796509, 0.8585485816001892, 0.8722044825553894\n"
     ]
    },
    {
     "name": "stderr",
     "output_type": "stream",
     "text": [
      "Epoch[45/49]: 100%|████████████████████████████████████████████████████████████████████| 23/23 [00:31<00:00,  1.36s/it]\n"
     ]
    },
    {
     "name": "stdout",
     "output_type": "stream",
     "text": [
      "loss:  0.2664480189914289\n",
      "1.0000000000000002e-07\n",
      "accuracy_0: 0.9047619104385376, 0.9135802388191223, 0.9122806787490845\n",
      "accuracy_1: 0.9486755132675171, 0.9303675293922424, 0.9303675293922424\n",
      "accuracy_2: 0.8817891478538513, 0.5373134613037109, 0.2884615361690521\n",
      "accuracy_3: 0.9133192300796509, 0.8622385859489441, 0.8753993511199951\n"
     ]
    },
    {
     "name": "stderr",
     "output_type": "stream",
     "text": [
      "Epoch[46/49]: 100%|████████████████████████████████████████████████████████████████████| 23/23 [00:31<00:00,  1.36s/it]\n"
     ]
    },
    {
     "name": "stdout",
     "output_type": "stream",
     "text": [
      "loss:  0.2609441157268441\n",
      "1.0000000000000002e-07\n",
      "accuracy_0: 0.9021164178848267, 0.9074074029922485, 0.9122806787490845\n",
      "accuracy_1: 0.9495033025741577, 0.9264990091323853, 0.9264990091323853\n",
      "accuracy_2: 0.8801916837692261, 0.5298507213592529, 0.2884615361690521\n",
      "accuracy_3: 0.9126144647598267, 0.8573185801506042, 0.8722044825553894\n"
     ]
    },
    {
     "name": "stderr",
     "output_type": "stream",
     "text": [
      "Epoch[47/49]: 100%|████████████████████████████████████████████████████████████████████| 23/23 [00:31<00:00,  1.36s/it]\n"
     ]
    },
    {
     "name": "stdout",
     "output_type": "stream",
     "text": [
      "loss:  0.27199946538261743\n",
      "1.0000000000000002e-07\n",
      "accuracy_0: 0.9047619104385376, 0.9135802388191223, 0.9122806787490845\n",
      "accuracy_1: 0.9486755132675171, 0.9303675293922424, 0.9303675293922424\n",
      "accuracy_2: 0.8801916837692261, 0.5373134613037109, 0.2884615361690521\n",
      "accuracy_3: 0.9126144647598267, 0.8622385859489441, 0.8753993511199951\n"
     ]
    },
    {
     "name": "stderr",
     "output_type": "stream",
     "text": [
      "Epoch[48/49]: 100%|████████████████████████████████████████████████████████████████████| 23/23 [00:31<00:00,  1.36s/it]\n"
     ]
    },
    {
     "name": "stdout",
     "output_type": "stream",
     "text": [
      "loss:  0.26386798529521277\n",
      "1.0000000000000002e-07\n",
      "accuracy_0: 0.920634925365448, 0.9135802388191223, 0.9122806787490845\n",
      "accuracy_1: 0.9461920261383057, 0.9226305484771729, 0.9226305484771729\n",
      "accuracy_2: 0.8865814805030823, 0.5522388219833374, 0.2884615361690521\n",
      "accuracy_3: 0.9164904356002808, 0.8597785830497742, 0.8690095543861389\n"
     ]
    },
    {
     "name": "stderr",
     "output_type": "stream",
     "text": [
      "Epoch[49/49]: 100%|████████████████████████████████████████████████████████████████████| 23/23 [00:31<00:00,  1.36s/it]\n"
     ]
    },
    {
     "name": "stdout",
     "output_type": "stream",
     "text": [
      "loss:  0.26527922114600305\n",
      "1.0000000000000002e-07\n",
      "accuracy_0: 0.9021164178848267, 0.9074074029922485, 0.9122806787490845\n",
      "accuracy_1: 0.9511589407920837, 0.9264990091323853, 0.9264990091323853\n",
      "accuracy_2: 0.8809903860092163, 0.5298507213592529, 0.2884615361690521\n",
      "accuracy_3: 0.9136715531349182, 0.8573185801506042, 0.8722044825553894\n"
     ]
    }
   ],
   "source": [
    "# Train the network\n",
    "\n",
    "for epoch in range(num_epochs):\n",
    "    batch_loss = np.array([])\n",
    "    loop = tqdm(enumerate(train_loader), total=len(train_loader))\n",
    "    for batch_idx, (data, targets) in loop:\n",
    "        data = data.to(device=device)\n",
    "        targets = targets.to(device=device)\n",
    "\n",
    "        scores = model(data)\n",
    "        loss = criterion(scores, targets)\n",
    "\n",
    "        optimizer.zero_grad()\n",
    "        loss.backward()\n",
    "\n",
    "        optimizer.step()\n",
    "        predictions = torch.argmax(scores, dim=1)\n",
    "               \n",
    "        loop.set_description(f\"Epoch[{epoch}/{num_epochs - 1}]\")\n",
    "        \n",
    "        batch_loss = np.append(batch_loss, loss.item())\n",
    "    \n",
    "    scheduler.step()\n",
    "    eval_hist[0][0].append(np.average(batch_loss))\n",
    "    print(\"loss: \", eval_hist[0][0][-1])\n",
    "    \n",
    "    for ee, eh in zip(eval_ent, eval_hist):\n",
    "        ev = evaluateTorch(ee, model)\n",
    "        for i in range(len(ev)):\n",
    "            eh[i + 1].append(ev[i])\n",
    "     \n",
    "    c_acc = eval_hist[eval_idx][-1][-1]\n",
    "    d_acc = eval_hist[eval_idx][2 + 1][-1]\n",
    "    p_acc = highest_acc\n",
    "    \n",
    "    if (c_acc > highest_acc):\n",
    "        print(f\"Best OA is on {epoch} epoch\") \n",
    "        torch.save(model.state_dict(), os.getcwd() + f\"\\\\ResNet3D_노균병_OA{epoch}_best.pt\")\n",
    "        highest_acc = c_acc\n",
    "        b_oa = epoch\n",
    "        \n",
    "    if (((abs(c_acc - p_acc) < 6) or (c_acc > p_acc)) and (d_acc > highest_dis)):\n",
    "        print(f\"Best diseased accuracy is on {epoch} epoch\") \n",
    "        torch.save(model.state_dict(), os.getcwd() + f\"\\\\ResNet3D_노균병_d{epoch}_best.pt\")\n",
    "        b_d = epoch\n",
    "        if c_acc > 0.8:\n",
    "            highest_dis = d_acc\n",
    "    \n",
    "    print(optimizer.param_groups[0]['lr'])   \n",
    "    trained_epochs = epoch\n",
    "    for i in range(num_classes + 1):\n",
    "        print(f\"accuracy_{i}: {eval_hist[0][i + 1][-1]}, {eval_hist[1][i + 1][-1]}, {eval_hist[2][i + 1][-1]}\")\n",
    "        # print(f\"accuracy_{i}: {eval_hist[0][i + 1][-1]}\")"
   ]
  },
  {
   "cell_type": "code",
   "execution_count": 21,
   "id": "d21efd80-1359-47de-b580-35c095613a8e",
   "metadata": {},
   "outputs": [],
   "source": [
    "import pickle\n",
    "\n",
    "with open('training.pckl', 'wb') as f:\n",
    "    pickle.dump(eval_hist, f)"
   ]
  },
  {
   "cell_type": "code",
   "execution_count": 22,
   "id": "7233d6bb-ed43-4900-b860-81eb3c2d2b69",
   "metadata": {},
   "outputs": [
    {
     "data": {
      "text/plain": [
       "Text(0.5, 1.0, 'Overal accuracy')"
      ]
     },
     "execution_count": 22,
     "metadata": {},
     "output_type": "execute_result"
    },
    {
     "data": {
      "image/png": "[encoded data removed]",
      "text/plain": [
       "<Figure size 360x720 with 3 Axes>"
      ]
     },
     "metadata": {
      "needs_background": "light"
     },
     "output_type": "display_data"
    },
    {
     "data": {
      "image/png": "[encoded data removed]",
      "text/plain": [
       "<Figure size 360x216 with 1 Axes>"
      ]
     },
     "metadata": {
      "needs_background": "light"
     },
     "output_type": "display_data"
    }
   ],
   "source": [
    "# Draw training graph\n",
    "\n",
    "def smooth(y, box_pts=5):\n",
    "    y = [y[0] for i in range(box_pts)] + y + [y[-1] for i in range(box_pts)]\n",
    "    box = np.ones(box_pts) / box_pts\n",
    "    y_smooth = np.convolve(y, box, mode='same')\n",
    "    return y_smooth[box_pts: -box_pts]\n",
    "\n",
    "eval_hist_s = []\n",
    "\n",
    "for data in eval_hist:\n",
    "    data_c = copy.deepcopy(data)\n",
    "    for i in range(len(data_c)):\n",
    "        if len(data_c[i]) > 0: \n",
    "            data_c[i] = smooth(data_c[i])\n",
    "        \n",
    "    eval_hist_s.append(data_c)\n",
    "\n",
    "epochs = [e for e in range(trained_epochs + 1)]\n",
    "\n",
    "plt.figure(figsize=(5, 10))\n",
    "for i in range(num_classes):\n",
    "    ax = plt.subplot(311 + i)\n",
    "    ax.set_title(classes[i])\n",
    "    ax.plot(epochs, eval_hist_s[0][1 + i], 'blue', label='train smooth')\n",
    "    ax.plot(epochs, eval_hist[0][1 + i], 'steelblue', linestyle='dashed', label='train')\n",
    "    \n",
    "    ax.plot(epochs, eval_hist_s[1][1 + i], 'red', label='test smooth')\n",
    "    ax.plot(epochs, eval_hist[1][1 + i], 'lightcoral', linestyle='dashed', label='test')\n",
    "    \n",
    "    ax.legend(loc='lower right')\n",
    "\n",
    "    \n",
    "plt.figure(figsize=(5, 3))    \n",
    "plt.plot(epochs, eval_hist_s[0][4], label='loss smothed')\n",
    "plt.plot(epochs, eval_hist[0][4], linestyle='dashed', label='loss')   \n",
    "plt.ylim(0, 1.1)\n",
    "plt.title(\"Overal accuracy\")"
   ]
  },
  {
   "cell_type": "code",
   "execution_count": 23,
   "id": "6038e48d-c76a-4f9f-bbff-53a7de11656f",
   "metadata": {},
   "outputs": [],
   "source": [
    "def drawConfusionMatrix(actual, prediction, normalize=True, savefig=False):\n",
    "    confusion_matrix = metrics.confusion_matrix(actual, prediction)\n",
    "    cmn = confusion_matrix.astype('float') / confusion_matrix.sum(axis=1)[:, np.newaxis]\n",
    "    \n",
    "    if normalize:\n",
    "        confusion_matrix = cmn\n",
    "    \n",
    "    cm_display = metrics.ConfusionMatrixDisplay(confusion_matrix = confusion_matrix, display_labels = [\"0\", \"1\", \"2\"])\n",
    "    cm_display.plot()\n",
    "    plt.show()\n",
    "    \n",
    "    if savefig:\n",
    "        plt.savefig('confusion_matrix.png')"
   ]
  },
  {
   "cell_type": "code",
   "execution_count": 24,
   "id": "3aab5706-bd93-490a-81ee-01864741acef",
   "metadata": {},
   "outputs": [],
   "source": [
    "# Predict \n",
    "\n",
    "def predictDataset(loader, model, savefig=False):\n",
    "    actual = np.array([])\n",
    "    prediction = np.array([])\n",
    "    model.eval()\n",
    "\n",
    "    with torch.no_grad():\n",
    "        for x, y in loader:\n",
    "            x = x.to(device=device)\n",
    "            y = y.to(device=device)\n",
    "\n",
    "            scores = model(x)\n",
    "            _, predictions = scores.max(1)\n",
    "            actual = np.append(actual, y.cpu().detach().numpy())\n",
    "            prediction = np.append(prediction, predictions.cpu().detach().numpy())\n",
    "    \n",
    "    return actual, prediction"
   ]
  },
  {
   "cell_type": "code",
   "execution_count": 25,
   "id": "631171fd-30ef-4482-a641-4513d0a5fe28",
   "metadata": {},
   "outputs": [
    {
     "data": {
      "text/plain": [
       "<All keys matched successfully>"
      ]
     },
     "execution_count": 25,
     "metadata": {},
     "output_type": "execute_result"
    }
   ],
   "source": [
    "# save last\n",
    "# torch.save(model.state_dict(), os.getcwd() + \"\\\\ResNet3D_노균병_last_ep.pt\")\n",
    "\n",
    "# Load weights\n",
    "model.load_state_dict(torch.load(os.getcwd() + f\"\\\\ResNet3D_노균병_d{b_d}_best.pt\"))\n",
    "# model.load_state_dict(torch.load(os.getcwd() + f\"\\\\ResNet3D_노균병_OA{b_oa}_best.pt\"))"
   ]
  },
  {
   "cell_type": "code",
   "execution_count": 26,
   "id": "91781664-e130-4079-be6d-bfc6a69bd836",
   "metadata": {},
   "outputs": [],
   "source": [
    "predictions = []\n",
    "for dataset in loaders:\n",
    "    predictions.append(predictDataset(dataset, model))"
   ]
  },
  {
   "cell_type": "code",
   "execution_count": 27,
   "id": "3e1ca926-2424-45d1-9971-67f683562bdd",
   "metadata": {},
   "outputs": [
    {
     "data": {
      "image/png": "[encoded data removed]",
      "text/plain": [
       "<Figure size 432x288 with 2 Axes>"
      ]
     },
     "metadata": {
      "needs_background": "light"
     },
     "output_type": "display_data"
    },
    {
     "data": {
      "image/png": "[encoded data removed]",
      "text/plain": [
       "<Figure size 432x288 with 2 Axes>"
      ]
     },
     "metadata": {
      "needs_background": "light"
     },
     "output_type": "display_data"
    },
    {
     "data": {
      "image/png": "[encoded data removed]",
      "text/plain": [
       "<Figure size 432x288 with 2 Axes>"
      ]
     },
     "metadata": {
      "needs_background": "light"
     },
     "output_type": "display_data"
    },
    {
     "name": "stderr",
     "output_type": "stream",
     "text": [
      "C:\\Users\\darlab\\AppData\\Local\\Temp\\ipykernel_7432\\4226455957.py:3: RuntimeWarning: invalid value encountered in true_divide\n",
      "  cmn = confusion_matrix.astype('float') / confusion_matrix.sum(axis=1)[:, np.newaxis]\n"
     ]
    },
    {
     "data": {
      "image/png": "[encoded data removed]",
      "text/plain": [
       "<Figure size 432x288 with 2 Axes>"
      ]
     },
     "metadata": {
      "needs_background": "light"
     },
     "output_type": "display_data"
    },
    {
     "name": "stderr",
     "output_type": "stream",
     "text": [
      "C:\\Users\\darlab\\AppData\\Local\\Temp\\ipykernel_7432\\4226455957.py:3: RuntimeWarning: invalid value encountered in true_divide\n",
      "  cmn = confusion_matrix.astype('float') / confusion_matrix.sum(axis=1)[:, np.newaxis]\n"
     ]
    },
    {
     "data": {
      "image/png": "[encoded data removed]",
      "text/plain": [
       "<Figure size 432x288 with 2 Axes>"
      ]
     },
     "metadata": {
      "needs_background": "light"
     },
     "output_type": "display_data"
    },
    {
     "name": "stderr",
     "output_type": "stream",
     "text": [
      "C:\\Users\\darlab\\AppData\\Local\\Temp\\ipykernel_7432\\4226455957.py:3: RuntimeWarning: invalid value encountered in true_divide\n",
      "  cmn = confusion_matrix.astype('float') / confusion_matrix.sum(axis=1)[:, np.newaxis]\n"
     ]
    },
    {
     "data": {
      "image/png": "[encoded data removed]",
      "text/plain": [
       "<Figure size 432x288 with 2 Axes>"
      ]
     },
     "metadata": {
      "needs_background": "light"
     },
     "output_type": "display_data"
    }
   ],
   "source": [
    "for actual, prediction in predictions:\n",
    "    drawConfusionMatrix(actual, prediction, normalize=True)"
   ]
  },
  {
   "cell_type": "code",
   "execution_count": 28,
   "id": "9b4dfb7c-9bf6-45fd-b8d1-f5fbad1cf7a0",
   "metadata": {},
   "outputs": [
    {
     "data": {
      "text/plain": [
       "<All keys matched successfully>"
      ]
     },
     "execution_count": 28,
     "metadata": {},
     "output_type": "execute_result"
    }
   ],
   "source": [
    "model.load_state_dict(torch.load(os.getcwd() + f\"\\\\ResNet3D_노균병_OA{b_oa}_best.pt\"))"
   ]
  },
  {
   "cell_type": "code",
   "execution_count": 29,
   "id": "2543137d-75dd-44c4-bf35-745b2c649a66",
   "metadata": {},
   "outputs": [],
   "source": [
    "predictions = []\n",
    "for dataset in loaders:\n",
    "    predictions.append(predictDataset(dataset, model))"
   ]
  },
  {
   "cell_type": "code",
   "execution_count": 30,
   "id": "d8f0544e-4109-4904-9680-19777cb5549b",
   "metadata": {},
   "outputs": [
    {
     "data": {
      "image/png": "[encoded data removed]",
      "text/plain": [
       "<Figure size 432x288 with 2 Axes>"
      ]
     },
     "metadata": {
      "needs_background": "light"
     },
     "output_type": "display_data"
    },
    {
     "data": {
      "image/png": "[encoded data removed]",
      "text/plain": [
       "<Figure size 432x288 with 2 Axes>"
      ]
     },
     "metadata": {
      "needs_background": "light"
     },
     "output_type": "display_data"
    },
    {
     "data": {
      "image/png": "[encoded data removed]",
      "text/plain": [
       "<Figure size 432x288 with 2 Axes>"
      ]
     },
     "metadata": {
      "needs_background": "light"
     },
     "output_type": "display_data"
    },
    {
     "name": "stderr",
     "output_type": "stream",
     "text": [
      "C:\\Users\\darlab\\AppData\\Local\\Temp\\ipykernel_7432\\4226455957.py:3: RuntimeWarning: invalid value encountered in true_divide\n",
      "  cmn = confusion_matrix.astype('float') / confusion_matrix.sum(axis=1)[:, np.newaxis]\n"
     ]
    },
    {
     "data": {
      "image/png": "[encoded data removed]",
      "text/plain": [
       "<Figure size 432x288 with 2 Axes>"
      ]
     },
     "metadata": {
      "needs_background": "light"
     },
     "output_type": "display_data"
    },
    {
     "name": "stderr",
     "output_type": "stream",
     "text": [
      "C:\\Users\\darlab\\AppData\\Local\\Temp\\ipykernel_7432\\4226455957.py:3: RuntimeWarning: invalid value encountered in true_divide\n",
      "  cmn = confusion_matrix.astype('float') / confusion_matrix.sum(axis=1)[:, np.newaxis]\n"
     ]
    },
    {
     "data": {
      "image/png": "[encoded data removed]",
      "text/plain": [
       "<Figure size 432x288 with 2 Axes>"
      ]
     },
     "metadata": {
      "needs_background": "light"
     },
     "output_type": "display_data"
    },
    {
     "name": "stderr",
     "output_type": "stream",
     "text": [
      "C:\\Users\\darlab\\AppData\\Local\\Temp\\ipykernel_7432\\4226455957.py:3: RuntimeWarning: invalid value encountered in true_divide\n",
      "  cmn = confusion_matrix.astype('float') / confusion_matrix.sum(axis=1)[:, np.newaxis]\n"
     ]
    },
    {
     "data": {
      "image/png": "[encoded data removed]",
      "text/plain": [
       "<Figure size 432x288 with 2 Axes>"
      ]
     },
     "metadata": {
      "needs_background": "light"
     },
     "output_type": "display_data"
    }
   ],
   "source": [
    "for actual, prediction in predictions:\n",
    "    drawConfusionMatrix(actual, prediction, normalize=True)"
   ]
  },
  {
   "cell_type": "code",
   "execution_count": 31,
   "id": "238814fc-d91c-4fee-842e-5de5537b765f",
   "metadata": {},
   "outputs": [
    {
     "data": {
      "text/plain": [
       "(37, 40)"
      ]
     },
     "execution_count": 31,
     "metadata": {},
     "output_type": "execute_result"
    }
   ],
   "source": [
    "b_d, b_oa"
   ]
  },
  {
   "cell_type": "code",
   "execution_count": null,
   "id": "d5e72030-9a2f-43c2-b414-8dc9df0556d4",
   "metadata": {},
   "outputs": [],
   "source": []
  }
 ],
 "metadata": {
  "kernelspec": {
   "display_name": "Python 3 (ipykernel)",
   "language": "python",
   "name": "python3"
  },
  "language_info": {
   "codemirror_mode": {
    "name": "ipython",
    "version": 3
   },
   "file_extension": ".py",
   "mimetype": "text/x-python",
   "name": "python",
   "nbconvert_exporter": "python",
   "pygments_lexer": "ipython3",
   "version": "3.8.13"
  }
 },
 "nbformat": 4,
 "nbformat_minor": 5
}
